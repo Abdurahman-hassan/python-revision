{
 "cells": [
  {
   "cell_type": "markdown",
   "metadata": {},
   "source": [
    "![image1](./images/001.png)"
   ]
  },
  {
   "cell_type": "markdown",
   "metadata": {},
   "source": []
  },
  {
   "cell_type": "markdown",
   "metadata": {},
   "source": [
    "![image2](./images/001-01.png)"
   ]
  },
  {
   "cell_type": "code",
   "execution_count": 7,
   "metadata": {
    "ExecuteTime": {
     "end_time": "2023-06-21T21:35:47.796958Z",
     "start_time": "2023-06-21T21:35:47.775373Z"
    }
   },
   "outputs": [
    {
     "name": "stdout",
     "output_type": "stream",
     "text": [
      "3.14\n",
      "9.8\n"
     ]
    }
   ],
   "source": [
    "# Declaring and assigning value to constants\n",
    "PI = 3.14\n",
    "GRAVITY = 9.8\n",
    "print(PI)\n",
    "print(GRAVITY)"
   ]
  },
  {
   "cell_type": "code",
   "execution_count": 8,
   "outputs": [
    {
     "name": "stdout",
     "output_type": "stream",
     "text": [
      "Apple\n",
      "Aeroplane\n",
      "100\n",
      "1 2.5 Hello\n",
      "6 6 6\n"
     ]
    }
   ],
   "source": [
    "#Declaring and assigning value to a variable\n",
    "a= \"Apple\"\n",
    "print(a)\n",
    "# Changing value of a variable\n",
    "a = \"Aeroplane\"\n",
    "print(a)\n",
    "a = 100\n",
    "print(a)\n",
    "#Assigning Multiple values to a variable\n",
    "b, c, d = 1, 2.5, \"Hello\"\n",
    "print(b, c, d)\n",
    "#Assigning same value to multiple variables\n",
    "b = c=d=6\n",
    "print(b, c, d)"
   ],
   "metadata": {
    "collapsed": false,
    "ExecuteTime": {
     "end_time": "2023-06-21T21:35:47.840091Z",
     "start_time": "2023-06-21T21:35:47.783909Z"
    }
   }
  }
 ],
 "metadata": {
  "kernelspec": {
   "display_name": "Python 3 (ipykernel)",
   "language": "python",
   "name": "python3"
  },
  "language_info": {
   "codemirror_mode": {
    "name": "ipython",
    "version": 3
   },
   "file_extension": ".py",
   "mimetype": "text/x-python",
   "name": "python",
   "nbconvert_exporter": "python",
   "pygments_lexer": "ipython3",
   "version": "3.10.11"
  }
 },
 "nbformat": 4,
 "nbformat_minor": 4
}
