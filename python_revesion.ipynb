{
 "cells": [
  {
   "cell_type": "markdown",
   "source": [
    "![image1](images/001.png)"
   ],
   "metadata": {
    "collapsed": false
   }
  },
  {
   "cell_type": "markdown",
   "metadata": {},
   "source": []
  },
  {
   "cell_type": "markdown",
   "metadata": {},
   "source": [
    "![image2](./images/001-01.png)"
   ]
  },
  {
   "cell_type": "code",
   "execution_count": 1,
   "metadata": {
    "ExecuteTime": {
     "end_time": "2023-06-29T08:25:45.690305Z",
     "start_time": "2023-06-29T08:25:44.303803Z"
    }
   },
   "outputs": [
    {
     "name": "stdout",
     "output_type": "stream",
     "text": [
      "3.14\n",
      "9.8\n"
     ]
    }
   ],
   "source": [
    "# Declaring and assigning value to constants\n",
    "PI = 3.14\n",
    "GRAVITY = 9.8\n",
    "print(PI)\n",
    "print(GRAVITY)"
   ]
  },
  {
   "cell_type": "code",
   "execution_count": 2,
   "outputs": [
    {
     "name": "stdout",
     "output_type": "stream",
     "text": [
      "Apple\n",
      "Aeroplane\n",
      "100\n",
      "1 2.5 Hello\n",
      "6 6 6\n"
     ]
    }
   ],
   "source": [
    "#Declaring and assigning value to a variable\n",
    "a = \"Apple\"\n",
    "print(a)\n",
    "# Changing value of a variable\n",
    "a = \"Aeroplane\"\n",
    "print(a)\n",
    "a = 100\n",
    "print(a)\n",
    "#Assigning Multiple values to a variable\n",
    "b, c, d = 1, 2.5, \"Hello\"\n",
    "print(b, c, d)\n",
    "#Assigning same value to multiple variables\n",
    "b = c = d = 6\n",
    "print(b, c, d)"
   ],
   "metadata": {
    "collapsed": false,
    "ExecuteTime": {
     "end_time": "2023-06-29T08:25:45.690487Z",
     "start_time": "2023-06-29T08:25:44.311622Z"
    }
   }
  },
  {
   "cell_type": "markdown",
   "source": [
    "![image3](./images/002.png)"
   ],
   "metadata": {
    "collapsed": false
   }
  },
  {
   "cell_type": "code",
   "execution_count": 3,
   "outputs": [],
   "source": [
    "class MyComplexNumber:\n",
    "    # Constructor methods\n",
    "    def __init__(self, real=0, imag=0):\n",
    "        print(\"MyComplexNumber constructor executing...\")\n",
    "        self.real_part = real\n",
    "        self.imag_part = imag\n",
    "\n",
    "    def displayComplex(self): print(\"{0} + {1}j\".format(self.real_part, self.imag_part))"
   ],
   "metadata": {
    "collapsed": false,
    "ExecuteTime": {
     "end_time": "2023-06-29T08:25:45.690575Z",
     "start_time": "2023-06-29T08:25:44.315758Z"
    }
   }
  },
  {
   "cell_type": "code",
   "execution_count": 4,
   "outputs": [
    {
     "name": "stdout",
     "output_type": "stream",
     "text": [
      "MyComplexNumber constructor executing...\n",
      "20 + 80j\n"
     ]
    }
   ],
   "source": [
    "# Create a new object against MyComplexNumber class\n",
    "cmp1x1 = MyComplexNumber(20, 80)\n",
    "# Calling displayComplex() function\n",
    "#Output: 40 + 50j\n",
    "cmp1x1.displayComplex()"
   ],
   "metadata": {
    "collapsed": false,
    "ExecuteTime": {
     "end_time": "2023-06-29T08:25:45.690653Z",
     "start_time": "2023-06-29T08:25:44.318580Z"
    }
   }
  },
  {
   "cell_type": "code",
   "execution_count": 5,
   "outputs": [
    {
     "name": "stdout",
     "output_type": "stream",
     "text": [
      "MyComplexNumber constructor executing...\n",
      "60 + 70j\n",
      "(60, 70, 80)\n"
     ]
    }
   ],
   "source": [
    "# Create another object against MyComplexNumber class\n",
    "# and create a new attribute 'new_attribute'\n",
    "cmp1x2 = MyComplexNumber(60, 70)\n",
    "cmp1x2.new_attribute = 80\n",
    "cmp1x2.displayComplex()\n",
    "#Output: (60, 70, 80)\n",
    "print((cmp1x2.real_part, cmp1x2.imag_part, cmp1x2.new_attribute))"
   ],
   "metadata": {
    "collapsed": false,
    "ExecuteTime": {
     "end_time": "2023-06-29T08:25:45.690725Z",
     "start_time": "2023-06-29T08:25:44.322829Z"
    }
   }
  },
  {
   "cell_type": "code",
   "execution_count": 6,
   "outputs": [],
   "source": [
    "# but cmp1x1 object doesn't have attribute 'new_attribute' # AttributeError: 'MyComplexNumber' object has no attribute 'new_attribute'\n",
    "# cmp1x1.new_attribute\n",
    "# print(cmp1x1)"
   ],
   "metadata": {
    "collapsed": false,
    "ExecuteTime": {
     "end_time": "2023-06-29T08:25:45.690834Z",
     "start_time": "2023-06-29T08:25:44.327409Z"
    }
   }
  },
  {
   "cell_type": "code",
   "execution_count": 7,
   "outputs": [
    {
     "name": "stdout",
     "output_type": "stream",
     "text": [
      "<__main__.MyComplexNumber object at 0x110e556d0>\n"
     ]
    }
   ],
   "source": [
    "# Deleting object attributes and the object\n",
    "print(cmp1x1)\n",
    "del cmp1x1.real_part\n",
    "del cmp1x1"
   ],
   "metadata": {
    "collapsed": false,
    "ExecuteTime": {
     "end_time": "2023-06-29T08:25:45.690909Z",
     "start_time": "2023-06-29T08:25:44.331158Z"
    }
   }
  },
  {
   "cell_type": "code",
   "execution_count": 8,
   "outputs": [],
   "source": [
    "# print(cmp1x1) # output NameError: name 'cmp1x1' is not defined"
   ],
   "metadata": {
    "collapsed": false,
    "ExecuteTime": {
     "end_time": "2023-06-29T08:25:45.690983Z",
     "start_time": "2023-06-29T08:25:44.335351Z"
    }
   }
  },
  {
   "cell_type": "markdown",
   "source": [
    "![image4](./images/003.png)"
   ],
   "metadata": {
    "collapsed": false
   }
  },
  {
   "cell_type": "code",
   "execution_count": 9,
   "outputs": [
    {
     "name": "stdout",
     "output_type": "stream",
     "text": [
      "[10, 20, 30, 40, 50]\n",
      "10\n",
      "20\n",
      "30\n",
      "50\n",
      "40\n"
     ]
    }
   ],
   "source": [
    "# Defining and declaring and array\n",
    "arr = [10, 20, 30, 40, 50]\n",
    "print(arr)\n",
    "#Accessing Array elements\n",
    "print(arr[0])\n",
    "print(arr[1])\n",
    "print(arr[2])\n",
    "print(arr[-1])  # Negative Indexing\n",
    "print(arr[-2])  # Negative Indexing"
   ],
   "metadata": {
    "collapsed": false,
    "ExecuteTime": {
     "end_time": "2023-06-29T08:25:45.692126Z",
     "start_time": "2023-06-29T08:25:44.338423Z"
    }
   }
  },
  {
   "cell_type": "code",
   "execution_count": 10,
   "outputs": [
    {
     "name": "stdout",
     "output_type": "stream",
     "text": [
      "['Tesla', 'Apple', 'Google', 'Microsoft', 'Toyota']\n",
      "5\n",
      "['Tesla', 'Apple', 'Google', 'Microsoft', 'Toyota', 'Intel']\n"
     ]
    }
   ],
   "source": [
    "brands = [\"Tesla\", \"Apple\", \"Google\", \"Microsoft\", \"Toyota\"]\n",
    "print(brands)\n",
    "# Finding the Length of the array\n",
    "num_brands = len(brands)\n",
    "print(num_brands)\n",
    "# Adding an element to an array using append()\n",
    "brands.append(\"Intel\")\n",
    "print(brands)"
   ],
   "metadata": {
    "collapsed": false,
    "ExecuteTime": {
     "end_time": "2023-06-29T08:25:45.692298Z",
     "start_time": "2023-06-29T08:25:44.343266Z"
    }
   }
  },
  {
   "cell_type": "code",
   "execution_count": 11,
   "outputs": [
    {
     "name": "stdout",
     "output_type": "stream",
     "text": [
      "['violet', 'indigo', 'blue', 'green', 'yellow', 'orange', 'red']\n",
      "['violet', 'indigo', 'blue', 'green', 'orange', 'red']\n",
      "['violet', 'indigo', 'green', 'orange', 'red']\n",
      "['violet', 'indigo', 'green', 'red']\n"
     ]
    }
   ],
   "source": [
    "#Removing elements from an array\n",
    "colors = [\"violet\", \"indigo\", \"blue\", \"green\", \"yellow\", \"orange\", \"red\"]\n",
    "print(colors)\n",
    "\n",
    "del colors[4]\n",
    "print(colors)\n",
    "\n",
    "colors.remove(\"blue\")\n",
    "print(colors)\n",
    "\n",
    "colors.pop(3)\n",
    "print(colors)"
   ],
   "metadata": {
    "collapsed": false,
    "ExecuteTime": {
     "end_time": "2023-06-29T08:25:45.692438Z",
     "start_time": "2023-06-29T08:25:44.346781Z"
    }
   }
  },
  {
   "cell_type": "code",
   "execution_count": 12,
   "outputs": [
    {
     "name": "stdout",
     "output_type": "stream",
     "text": [
      "['Apple', 'Banana', 'Mango', 'Grapes', 'Orange']\n",
      "['Apple', 'Pineapple', 'Mango', 'Grapes', 'Orange']\n",
      "['Apple', 'Pineapple', 'Mango', 'Grapes', 'Guava']\n"
     ]
    }
   ],
   "source": [
    "# Modifying elements of an array using indexing\n",
    "fruits = [\"Apple\", \"Banana\", \"Mango\", \"Grapes\", \"Orange\"]\n",
    "print(fruits)\n",
    "\n",
    "fruits[1] = \"Pineapple\"\n",
    "print(fruits)\n",
    "\n",
    "fruits[-1] = \"Guava\"\n",
    "print(fruits)"
   ],
   "metadata": {
    "collapsed": false,
    "ExecuteTime": {
     "end_time": "2023-06-29T08:25:45.692575Z",
     "start_time": "2023-06-29T08:25:44.350273Z"
    }
   }
  },
  {
   "cell_type": "code",
   "execution_count": 13,
   "outputs": [
    {
     "name": "stdout",
     "output_type": "stream",
     "text": [
      "[1, 2, 3]\n",
      "[1, 2, 3]\n",
      "[1, 2, 3, 4, 5, 6]\n"
     ]
    }
   ],
   "source": [
    "# Concatenating two arrays using the + operator\n",
    "concat = [1, 2, 3]\n",
    "print(concat)\n",
    "\n",
    "concat + [4, 5, 6]\n",
    "print(concat)\n",
    "\n",
    "concat += [4, 5, 6]\n",
    "print(concat)"
   ],
   "metadata": {
    "collapsed": false,
    "ExecuteTime": {
     "end_time": "2023-06-29T08:25:45.692711Z",
     "start_time": "2023-06-29T08:25:44.354596Z"
    }
   }
  },
  {
   "cell_type": "code",
   "execution_count": 14,
   "outputs": [
    {
     "name": "stdout",
     "output_type": "stream",
     "text": [
      "['a']\n",
      "['a', 'a', 'a', 'a', 'a']\n"
     ]
    }
   ],
   "source": [
    "# Repeating element in an array\n",
    "repeat = [\"a\"]\n",
    "print(repeat)\n",
    "\n",
    "repeat *= 5\n",
    "print(repeat)"
   ],
   "metadata": {
    "collapsed": false,
    "ExecuteTime": {
     "end_time": "2023-06-29T08:25:45.692904Z",
     "start_time": "2023-06-29T08:25:44.359046Z"
    }
   }
  },
  {
   "cell_type": "code",
   "execution_count": 15,
   "outputs": [
    {
     "name": "stdout",
     "output_type": "stream",
     "text": [
      "['Apple', 'Banana', 'Mango', 'Grapes', 'Orange']\n",
      "['Banana', 'Mango', 'Grapes']\n",
      "['Apple', 'Banana', 'Mango']\n",
      "['Banana', 'Mango', 'Grapes', 'Orange']\n",
      "['Mango', 'Grapes']\n"
     ]
    }
   ],
   "source": [
    "#Slicing an array\n",
    "fruits = [\"Apple\", \"Banana\", \"Mango\", \"Grapes\", \"Orange\"]\n",
    "print(fruits)\n",
    "print(fruits[1:4])\n",
    "print(fruits[:3])\n",
    "print(fruits[-4:])\n",
    "print(fruits[-3:-1])"
   ],
   "metadata": {
    "collapsed": false,
    "ExecuteTime": {
     "end_time": "2023-06-29T08:25:45.739584Z",
     "start_time": "2023-06-29T08:25:44.363808Z"
    }
   }
  },
  {
   "cell_type": "code",
   "execution_count": 16,
   "outputs": [
    {
     "name": "stdout",
     "output_type": "stream",
     "text": [
      "[[1, 2], [3, 4], [5, 6], [7, 8]]\n",
      "[1, 2]\n",
      "[7, 8]\n",
      "6\n",
      "7\n"
     ]
    }
   ],
   "source": [
    "# Declaring and defining multidimensional array\n",
    "mult_d_arr = [[1, 2], [3, 4], [5, 6], [7, 8]]\n",
    "print(mult_d_arr)\n",
    "print(mult_d_arr[0])\n",
    "print(mult_d_arr[3])\n",
    "print(mult_d_arr[2][1])\n",
    "print(mult_d_arr[3][0])"
   ],
   "metadata": {
    "collapsed": false,
    "ExecuteTime": {
     "end_time": "2023-06-29T08:25:45.739793Z",
     "start_time": "2023-06-29T08:25:44.368039Z"
    }
   }
  },
  {
   "cell_type": "markdown",
   "source": [
    "# File methods\n",
    "\n",
    "![image5](./images/004.png)"
   ],
   "metadata": {
    "collapsed": false
   }
  },
  {
   "cell_type": "markdown",
   "source": [
    "![image6](./images/004-01.png)"
   ],
   "metadata": {
    "collapsed": false
   }
  },
  {
   "cell_type": "markdown",
   "source": [
    "# Keywords and identifiers\n",
    "\n",
    "![image7](./images/005.png)"
   ],
   "metadata": {
    "collapsed": false
   }
  },
  {
   "cell_type": "markdown",
   "source": [
    "![image8](./images/005-01.png)"
   ],
   "metadata": {
    "collapsed": false
   }
  },
  {
   "cell_type": "markdown",
   "source": [
    "![image9](./images/005-02.png)"
   ],
   "metadata": {
    "collapsed": false
   }
  },
  {
   "cell_type": "code",
   "execution_count": 17,
   "outputs": [
    {
     "name": "stdout",
     "output_type": "stream",
     "text": [
      "True\n",
      "False\n"
     ]
    }
   ],
   "source": [
    "# True False\n",
    "print(5 == 5)\n",
    "print(5 > 5)\n"
   ],
   "metadata": {
    "collapsed": false,
    "ExecuteTime": {
     "end_time": "2023-06-29T08:25:45.740002Z",
     "start_time": "2023-06-29T08:25:44.372683Z"
    }
   }
  },
  {
   "cell_type": "code",
   "execution_count": 18,
   "outputs": [
    {
     "name": "stdout",
     "output_type": "stream",
     "text": [
      "False\n",
      "False\n",
      "False\n",
      "True\n"
     ]
    }
   ],
   "source": [
    "# None\n",
    "print(None == 0)\n",
    "print(None == False)\n",
    "print(None == [])\n",
    "print(None == None)"
   ],
   "metadata": {
    "collapsed": false,
    "ExecuteTime": {
     "end_time": "2023-06-29T08:25:45.740145Z",
     "start_time": "2023-06-29T08:25:44.377654Z"
    }
   }
  },
  {
   "cell_type": "code",
   "execution_count": 19,
   "outputs": [
    {
     "name": "stdout",
     "output_type": "stream",
     "text": [
      "None\n"
     ]
    }
   ],
   "source": [
    "def a_void_function():\n",
    "    a = 1\n",
    "    b = 2\n",
    "    c = a + b\n",
    "    # return c\n",
    "\n",
    "\n",
    "x = a_void_function()\n",
    "print(x)"
   ],
   "metadata": {
    "collapsed": false,
    "ExecuteTime": {
     "end_time": "2023-06-29T08:25:45.740285Z",
     "start_time": "2023-06-29T08:25:44.381846Z"
    }
   }
  },
  {
   "cell_type": "code",
   "execution_count": 20,
   "outputs": [
    {
     "name": "stdout",
     "output_type": "stream",
     "text": [
      "False\n",
      "True\n",
      "True\n",
      "True\n",
      "True\n",
      "False\n"
     ]
    }
   ],
   "source": [
    "# and, or, not\n",
    "print(True and False)\n",
    "print(True or False)\n",
    "print(not False)\n",
    "print(True and True)\n",
    "print(True or True)\n",
    "print(not True)"
   ],
   "metadata": {
    "collapsed": false,
    "ExecuteTime": {
     "end_time": "2023-06-29T08:25:45.740512Z",
     "start_time": "2023-06-29T08:25:44.385208Z"
    }
   }
  },
  {
   "cell_type": "code",
   "execution_count": 21,
   "outputs": [
    {
     "name": "stdout",
     "output_type": "stream",
     "text": [
      "-1.0\n"
     ]
    }
   ],
   "source": [
    "# as\n",
    "import math as my_math\n",
    "\n",
    "print(my_math.cos(my_math.pi))"
   ],
   "metadata": {
    "collapsed": false,
    "ExecuteTime": {
     "end_time": "2023-06-29T08:25:45.740670Z",
     "start_time": "2023-06-29T08:25:44.391496Z"
    }
   }
  },
  {
   "cell_type": "code",
   "execution_count": 22,
   "outputs": [],
   "source": [
    "# assertion\n",
    "\n",
    "# assert 5 > 5 # output AssertionError\n",
    "assert 5 == 5"
   ],
   "metadata": {
    "collapsed": false,
    "ExecuteTime": {
     "end_time": "2023-06-29T08:25:45.740750Z",
     "start_time": "2023-06-29T08:25:44.397447Z"
    }
   }
  },
  {
   "cell_type": "code",
   "execution_count": 23,
   "outputs": [
    {
     "name": "stdout",
     "output_type": "stream",
     "text": [
      "1\n",
      "2\n",
      "3\n",
      "4\n"
     ]
    }
   ],
   "source": [
    "# break\n",
    "for i in range(1, 11):\n",
    "    if i == 5:\n",
    "        break\n",
    "    print(i)"
   ],
   "metadata": {
    "collapsed": false,
    "ExecuteTime": {
     "end_time": "2023-06-29T08:25:45.740886Z",
     "start_time": "2023-06-29T08:25:44.402686Z"
    }
   }
  },
  {
   "cell_type": "code",
   "execution_count": 24,
   "outputs": [
    {
     "name": "stdout",
     "output_type": "stream",
     "text": [
      "1\n",
      "2\n",
      "3\n",
      "4\n",
      "6\n",
      "7\n"
     ]
    }
   ],
   "source": [
    "# continue\n",
    "for i in range(1, 8):\n",
    "    if i == 5:\n",
    "        continue\n",
    "    print(i)"
   ],
   "metadata": {
    "collapsed": false,
    "ExecuteTime": {
     "end_time": "2023-06-29T08:25:45.741024Z",
     "start_time": "2023-06-29T08:25:44.409051Z"
    }
   }
  },
  {
   "cell_type": "code",
   "execution_count": 25,
   "outputs": [
    {
     "name": "stdout",
     "output_type": "stream",
     "text": [
      "function1() executing...\n",
      "function2() executing...\n"
     ]
    }
   ],
   "source": [
    "# class\n",
    "class ExampleClass:\n",
    "    def function1(parameters):\n",
    "        print(\"function1() executing...\")\n",
    "\n",
    "    def function2(parameters):\n",
    "        print(\"function2() executing...\")\n",
    "\n",
    "\n",
    "ob1 = ExampleClass()\n",
    "ob1.function1()\n",
    "ob1.function2()"
   ],
   "metadata": {
    "collapsed": false,
    "ExecuteTime": {
     "end_time": "2023-06-29T08:25:45.741164Z",
     "start_time": "2023-06-29T08:25:44.414297Z"
    }
   }
  },
  {
   "cell_type": "code",
   "execution_count": 26,
   "outputs": [],
   "source": [
    "# def\n",
    "def function_name(parameters):\n",
    "    pass\n",
    "\n",
    "\n",
    "function_name(10)"
   ],
   "metadata": {
    "collapsed": false,
    "ExecuteTime": {
     "end_time": "2023-06-29T08:25:45.741242Z",
     "start_time": "2023-06-29T08:25:44.420716Z"
    }
   }
  },
  {
   "cell_type": "code",
   "execution_count": 27,
   "outputs": [
    {
     "name": "stdout",
     "output_type": "stream",
     "text": [
      "10\n"
     ]
    }
   ],
   "source": [
    "# del\n",
    "a = 10\n",
    "print(a)\n",
    "del a\n",
    "# print(a) # name 'a' is not defined"
   ],
   "metadata": {
    "collapsed": false,
    "ExecuteTime": {
     "end_time": "2023-06-29T08:25:45.741377Z",
     "start_time": "2023-06-29T08:25:44.426653Z"
    }
   }
  },
  {
   "cell_type": "code",
   "execution_count": 28,
   "outputs": [
    {
     "name": "stdout",
     "output_type": "stream",
     "text": [
      "Two\n"
     ]
    }
   ],
   "source": [
    "# if..elif..else\n",
    "num = 2\n",
    "if num == 1:\n",
    "    print('One')\n",
    "elif num == 2:\n",
    "    print('Two')\n",
    "else:\n",
    "    print('Something else')"
   ],
   "metadata": {
    "collapsed": false,
    "ExecuteTime": {
     "end_time": "2023-06-29T08:25:45.741569Z",
     "start_time": "2023-06-29T08:25:44.432185Z"
    }
   }
  },
  {
   "cell_type": "code",
   "execution_count": 29,
   "outputs": [
    {
     "name": "stdout",
     "output_type": "stream",
     "text": [
      "Execution Successfully\n"
     ]
    }
   ],
   "source": [
    "# try...raise...catch...finally\n",
    "try:\n",
    "    X = 9\n",
    "    #raise ZeroDivisionError # Division cannot be performed #Execution Successfully\n",
    "except ZeroDivisionError:\n",
    "    print(\"Division cannot be performed\")\n",
    "finally:\n",
    "    print(\"Execution Successfully\")  # Execution Successfully"
   ],
   "metadata": {
    "collapsed": false,
    "ExecuteTime": {
     "end_time": "2023-06-29T08:25:45.741710Z",
     "start_time": "2023-06-29T08:25:44.437636Z"
    }
   }
  },
  {
   "cell_type": "code",
   "execution_count": 30,
   "outputs": [
    {
     "name": "stdout",
     "output_type": "stream",
     "text": [
      "1\n",
      "2\n",
      "3\n",
      "4\n",
      "5\n",
      "6\n",
      "7\n",
      "8\n",
      "9\n"
     ]
    }
   ],
   "source": [
    "# for\n",
    "for i in range(1, 10, 1):\n",
    "    print(i)"
   ],
   "metadata": {
    "collapsed": false,
    "ExecuteTime": {
     "end_time": "2023-06-29T08:25:45.741847Z",
     "start_time": "2023-06-29T08:25:44.443671Z"
    }
   }
  },
  {
   "cell_type": "code",
   "execution_count": 31,
   "outputs": [
    {
     "name": "stdout",
     "output_type": "stream",
     "text": [
      "-0.8390715290764524\n"
     ]
    }
   ],
   "source": [
    "# from.. import\n",
    "from math import cos\n",
    "\n",
    "print(cos(10))"
   ],
   "metadata": {
    "collapsed": false,
    "ExecuteTime": {
     "end_time": "2023-06-29T08:25:45.741984Z",
     "start_time": "2023-06-29T08:25:44.446933Z"
    }
   }
  },
  {
   "cell_type": "code",
   "execution_count": 32,
   "outputs": [
    {
     "name": "stdout",
     "output_type": "stream",
     "text": [
      "10\n",
      "5\n",
      "5\n"
     ]
    }
   ],
   "source": [
    "#global\n",
    "globvar = 10\n",
    "\n",
    "\n",
    "def read1():\n",
    "    print(globvar)\n",
    "\n",
    "\n",
    "def write1():\n",
    "    global globvar\n",
    "    globvar = 5\n",
    "\n",
    "\n",
    "def write2():\n",
    "    globvar = 15\n",
    "\n",
    "\n",
    "read1()\n",
    "write1()\n",
    "read1()\n",
    "write2()\n",
    "read1()"
   ],
   "metadata": {
    "collapsed": false,
    "ExecuteTime": {
     "end_time": "2023-06-29T08:25:45.742121Z",
     "start_time": "2023-06-29T08:25:44.451599Z"
    }
   }
  },
  {
   "cell_type": "code",
   "execution_count": 33,
   "outputs": [
    {
     "name": "stdout",
     "output_type": "stream",
     "text": [
      "True\n",
      "True\n"
     ]
    }
   ],
   "source": [
    "# in\n",
    "a = [1, 2, 3, 4]\n",
    "print(4 in a)\n",
    "print(44 not in a)"
   ],
   "metadata": {
    "collapsed": false,
    "ExecuteTime": {
     "end_time": "2023-06-29T08:25:45.742256Z",
     "start_time": "2023-06-29T08:25:44.459529Z"
    }
   }
  },
  {
   "cell_type": "code",
   "execution_count": 34,
   "outputs": [
    {
     "name": "stdout",
     "output_type": "stream",
     "text": [
      "True\n"
     ]
    }
   ],
   "source": [
    "# is\n",
    "print(True is True)"
   ],
   "metadata": {
    "collapsed": false,
    "ExecuteTime": {
     "end_time": "2023-06-29T08:25:45.742392Z",
     "start_time": "2023-06-29T08:25:44.465820Z"
    }
   }
  },
  {
   "cell_type": "code",
   "execution_count": 35,
   "outputs": [
    {
     "name": "stdout",
     "output_type": "stream",
     "text": [
      "1 2\n",
      "2 4\n",
      "3 6\n",
      "4 8\n",
      "5 10\n"
     ]
    }
   ],
   "source": [
    "# lambda\n",
    "a = lambda x: x * 2\n",
    "for i in range(1, 6):\n",
    "    print(i, a(i))"
   ],
   "metadata": {
    "collapsed": false,
    "ExecuteTime": {
     "end_time": "2023-06-29T08:25:45.742527Z",
     "start_time": "2023-06-29T08:25:44.471217Z"
    }
   }
  },
  {
   "cell_type": "code",
   "execution_count": 36,
   "outputs": [
    {
     "name": "stdout",
     "output_type": "stream",
     "text": [
      "Inner function:  10\n",
      "calling inner_function() a has been changed to 10\n",
      "Outer function:  10\n"
     ]
    }
   ],
   "source": [
    "# nonLocal\n",
    "a = 300\n",
    "\n",
    "\n",
    "def outer_function():\n",
    "    a = 5\n",
    "\n",
    "    def inner_function():\n",
    "        nonlocal a  # looks inside the outer scope not the global scope\n",
    "        a = 10\n",
    "        print(\"Inner function: \", a)\n",
    "\n",
    "    inner_function()\n",
    "    print('calling inner_function() a has been changed to', a)\n",
    "    print(\"Outer function: \", a)\n",
    "\n",
    "\n",
    "outer_function()"
   ],
   "metadata": {
    "collapsed": false,
    "ExecuteTime": {
     "end_time": "2023-06-29T08:25:45.742668Z",
     "start_time": "2023-06-29T08:25:44.478941Z"
    }
   }
  },
  {
   "cell_type": "code",
   "execution_count": 37,
   "outputs": [],
   "source": [
    "# pass\n",
    "def function(args):\n",
    "    pass\n",
    "\n",
    "\n",
    "function(10)"
   ],
   "metadata": {
    "collapsed": false,
    "ExecuteTime": {
     "end_time": "2023-06-29T08:25:45.742746Z",
     "start_time": "2023-06-29T08:25:44.484853Z"
    }
   }
  },
  {
   "cell_type": "code",
   "execution_count": 38,
   "outputs": [
    {
     "name": "stdout",
     "output_type": "stream",
     "text": [
      "(True, 10)\n",
      "True\n",
      "10\n"
     ]
    }
   ],
   "source": [
    "# return\n",
    "def func_return():\n",
    "    return True, 10\n",
    "\n",
    "\n",
    "flag, number = func_return()\n",
    "print(func_return())\n",
    "print(flag)\n",
    "print(number)"
   ],
   "metadata": {
    "collapsed": false,
    "ExecuteTime": {
     "end_time": "2023-06-29T08:25:45.742879Z",
     "start_time": "2023-06-29T08:25:44.490645Z"
    }
   }
  },
  {
   "cell_type": "code",
   "execution_count": 39,
   "outputs": [
    {
     "name": "stdout",
     "output_type": "stream",
     "text": [
      "5\n",
      "4\n",
      "3\n",
      "2\n",
      "1\n"
     ]
    }
   ],
   "source": [
    "#while\n",
    "i = 5\n",
    "while (i > 0):\n",
    "    print(i)\n",
    "    i -= 1"
   ],
   "metadata": {
    "collapsed": false,
    "ExecuteTime": {
     "end_time": "2023-06-29T08:25:45.743014Z",
     "start_time": "2023-06-29T08:25:44.496757Z"
    }
   }
  },
  {
   "cell_type": "code",
   "execution_count": 40,
   "outputs": [],
   "source": [
    "# with\n",
    "with open('./example.txt', 'w') as my_file:\n",
    "    my_file.write('Hello world!')"
   ],
   "metadata": {
    "collapsed": false,
    "ExecuteTime": {
     "end_time": "2023-06-29T08:25:45.743091Z",
     "start_time": "2023-06-29T08:25:44.500503Z"
    }
   }
  },
  {
   "cell_type": "code",
   "execution_count": 41,
   "outputs": [
    {
     "name": "stdout",
     "output_type": "stream",
     "text": [
      "[0, 1, 4, 9, 16, 25]\n",
      "0\n",
      "1\n",
      "4\n",
      "9\n",
      "16\n",
      "25\n"
     ]
    }
   ],
   "source": [
    "# yield\n",
    "def generator():\n",
    "    for i in range(6):\n",
    "        yield i * i\n",
    "\n",
    "\n",
    "g = generator()\n",
    "print(list(generator()))\n",
    "for i in g:\n",
    "    print(i)"
   ],
   "metadata": {
    "collapsed": false,
    "ExecuteTime": {
     "end_time": "2023-06-29T08:25:45.743226Z",
     "start_time": "2023-06-29T08:25:44.522396Z"
    }
   }
  },
  {
   "cell_type": "markdown",
   "source": [
    "# Tuples\n",
    "\n",
    "![image10](./images/006.png)"
   ],
   "metadata": {
    "collapsed": false
   }
  },
  {
   "cell_type": "markdown",
   "source": [
    "![image11](./images/006-01.png)"
   ],
   "metadata": {
    "collapsed": false
   }
  },
  {
   "cell_type": "markdown",
   "source": [
    "![image12](./images/006-02.png)"
   ],
   "metadata": {
    "collapsed": false
   }
  },
  {
   "cell_type": "code",
   "execution_count": 42,
   "outputs": [
    {
     "name": "stdout",
     "output_type": "stream",
     "text": [
      "()\n",
      "(1, 2, 3)\n",
      "(101, 'Anirban', 20000.0, 'HR Dept')\n"
     ]
    }
   ],
   "source": [
    "# creating an empty tuple\n",
    "tuple1 = ()\n",
    "print(tuple1)\n",
    "# creating tuples with integer elements print(tuple2)\n",
    "tuple2 = (1, 2, 3)\n",
    "print(tuple2)\n",
    "#tuple with mixed datatypes\n",
    "tuple3 = (101, \"Anirban\", 20000.00, \"HR Dept\")\n",
    "print(tuple3)"
   ],
   "metadata": {
    "collapsed": false,
    "ExecuteTime": {
     "end_time": "2023-06-29T08:25:45.743363Z",
     "start_time": "2023-06-29T08:25:44.528735Z"
    }
   }
  },
  {
   "cell_type": "code",
   "execution_count": 43,
   "outputs": [
    {
     "name": "stdout",
     "output_type": "stream",
     "text": [
      "('points', [1, 4, 3], (7, 8, 6))\n",
      "(101, 'Anirban', 20000.0, 'HR Dept')\n",
      "101\n",
      "Anirban\n",
      "20000.0\n",
      "HR Dept\n",
      "<class 'tuple'>\n"
     ]
    }
   ],
   "source": [
    "# creation of nested tuple\n",
    "tuple4 = (\"points\", [1, 4, 3], (7, 8, 6))\n",
    "print(tuple4)\n",
    "# tuple can be created without any parentheses\n",
    "# also called tuple packing\n",
    "tuple5 = 101, \"Anirban\", 20000.00, \"HR Dept\"\n",
    "print(tuple5)\n",
    "# tuple unpacking is also possible\n",
    "empid, empname, empsal, empdept = tuple5\n",
    "print(empid)\n",
    "print(empname)\n",
    "print(empsal)\n",
    "print(empdept)\n",
    "print(type(tuple5))"
   ],
   "metadata": {
    "collapsed": false,
    "ExecuteTime": {
     "end_time": "2023-06-29T08:25:45.743500Z",
     "start_time": "2023-06-29T08:25:44.535741Z"
    }
   }
  },
  {
   "cell_type": "code",
   "execution_count": 44,
   "outputs": [
    {
     "name": "stdout",
     "output_type": "stream",
     "text": [
      "('w', 'e', '1', 'c', 'o', 'm', 'e')\n",
      "e\n",
      "c\n",
      "m\n"
     ]
    }
   ],
   "source": [
    "# accessing elements in a tuple\n",
    "tuple1 = ('w', 'e', '1', 'c', 'o', 'm', 'e')\n",
    "print(tuple1)\n",
    "print(tuple1[1])\n",
    "print(tuple1[3])\n",
    "print(tuple1[5])"
   ],
   "metadata": {
    "collapsed": false,
    "ExecuteTime": {
     "end_time": "2023-06-29T08:25:45.743637Z",
     "start_time": "2023-06-29T08:25:44.543794Z"
    }
   }
  },
  {
   "cell_type": "code",
   "execution_count": 45,
   "outputs": [
    {
     "name": "stdout",
     "output_type": "stream",
     "text": [
      "('point', [1, 3, 4], (8, 7, 9))\n",
      "n\n",
      "4\n",
      "9\n"
     ]
    }
   ],
   "source": [
    "# nested tuple\n",
    "nest_tuple2 = (\"point\", [1, 3, 4], (8, 7, 9))\n",
    "print(nest_tuple2)\n",
    "print(nest_tuple2[0][3])\n",
    "print(nest_tuple2[1][2])\n",
    "print(nest_tuple2[2][2])"
   ],
   "metadata": {
    "collapsed": false,
    "ExecuteTime": {
     "end_time": "2023-06-29T08:25:45.743777Z",
     "start_time": "2023-06-29T08:25:44.549584Z"
    }
   }
  },
  {
   "cell_type": "code",
   "execution_count": 46,
   "outputs": [
    {
     "name": "stdout",
     "output_type": "stream",
     "text": [
      "('e', '1')\n",
      "('w', 'e', '1', 'c')\n",
      "('c', 'o', 'm', 'e')\n",
      "('w', 'e', '1', 'c', 'o', 'm', 'e')\n"
     ]
    }
   ],
   "source": [
    "# slicing tuple contents\n",
    "tuple1 = ('w', 'e', '1', 'c', 'o', 'm', 'e')\n",
    "print(tuple1[1:3])\n",
    "print(tuple1[:-3])\n",
    "print(tuple1[3:])\n",
    "print(tuple1[:])"
   ],
   "metadata": {
    "collapsed": false,
    "ExecuteTime": {
     "end_time": "2023-06-29T08:25:45.743914Z",
     "start_time": "2023-06-29T08:25:44.555701Z"
    }
   }
  },
  {
   "cell_type": "code",
   "execution_count": 47,
   "outputs": [
    {
     "name": "stdout",
     "output_type": "stream",
     "text": [
      "('w', 'e', '1', 'c', 'b', 'm', 'e')\n",
      "('g', 'o', 'o', 'd', 'b', 'y', 'e')\n"
     ]
    }
   ],
   "source": [
    "# tuple elements are immutable\n",
    "tuple1 = ('w', 'e', '1', 'c', 'b', 'm', 'e')\n",
    "print(tuple1)\n",
    "# tuple1[2] = 'x' # error # 'tuple' object does not support item assignment\n",
    "# tuples can be reassigned\n",
    "tuple1 = ('g', 'o', 'o', 'd', 'b', 'y', 'e')\n",
    "print(tuple1)"
   ],
   "metadata": {
    "collapsed": false,
    "ExecuteTime": {
     "end_time": "2023-06-29T08:25:45.744050Z",
     "start_time": "2023-06-29T08:25:44.562462Z"
    }
   }
  },
  {
   "cell_type": "code",
   "execution_count": 48,
   "outputs": [
    {
     "name": "stdout",
     "output_type": "stream",
     "text": [
      "('w', 'e', '1')\n",
      "('c', 'o', 'm', 'e')\n",
      "('w', 'e', '1', 'c', 'o', 'm', 'e')\n",
      "('again', 'again', 'again', 'again')\n"
     ]
    }
   ],
   "source": [
    "# concatenation of tuples\n",
    "tuple2 = ('w', 'e', '1')\n",
    "tuple3 = ('c', 'o', 'm', 'e')\n",
    "print(tuple2)\n",
    "print(tuple3)\n",
    "print(tuple2 + tuple3)\n",
    "print((\"again\",) * 4)"
   ],
   "metadata": {
    "collapsed": false,
    "ExecuteTime": {
     "end_time": "2023-06-29T08:25:45.744188Z",
     "start_time": "2023-06-29T08:25:44.569922Z"
    }
   }
  },
  {
   "cell_type": "code",
   "execution_count": 49,
   "outputs": [],
   "source": [
    "# deletion operation on a tuple\n",
    "tuple4 = ('w', 'e', '1', 'c', 'o', 'm', 'e')\n",
    "# as immutable so elements can not be deleted\n",
    "# del tuple4[2] # 'tuple' object doesn't support item deletion\n",
    "# but can delete entire tuple\n",
    "del tuple4\n",
    "# print(tuple4) # name 'tuple4' is not defined"
   ],
   "metadata": {
    "collapsed": false,
    "ExecuteTime": {
     "end_time": "2023-06-29T08:25:45.744266Z",
     "start_time": "2023-06-29T08:25:44.575771Z"
    }
   }
  },
  {
   "cell_type": "code",
   "execution_count": 50,
   "outputs": [
    {
     "name": "stdout",
     "output_type": "stream",
     "text": [
      "2\n",
      "3\n"
     ]
    }
   ],
   "source": [
    "#tuple methods\n",
    "tuple5 = ('w', 'e', '1', 'c', 'o', 'm', 'e')\n",
    "print(tuple5.count('e'))\n",
    "print(tuple5.index('c'))"
   ],
   "metadata": {
    "collapsed": false,
    "ExecuteTime": {
     "end_time": "2023-06-29T08:25:45.744415Z",
     "start_time": "2023-06-29T08:25:44.581671Z"
    }
   }
  },
  {
   "cell_type": "code",
   "execution_count": 51,
   "outputs": [
    {
     "name": "stdout",
     "output_type": "stream",
     "text": [
      "('w', 'e', '1', 'c', 'o', 'm', 'e')\n",
      "True\n",
      "False\n",
      "False\n",
      "True\n"
     ]
    }
   ],
   "source": [
    "# tuple operations\n",
    "tuple6 = ('w', 'e', '1', 'c', 'o', 'm', 'e')\n",
    "print(tuple6)\n",
    "# membership\n",
    "print('c' in tuple6)\n",
    "print('c' not in tuple6)\n",
    "print('a' in tuple6)\n",
    "print('a' not in tuple6)"
   ],
   "metadata": {
    "collapsed": false,
    "ExecuteTime": {
     "end_time": "2023-06-29T08:25:45.744557Z",
     "start_time": "2023-06-29T08:25:44.587709Z"
    }
   }
  },
  {
   "cell_type": "code",
   "execution_count": 52,
   "outputs": [
    {
     "name": "stdout",
     "output_type": "stream",
     "text": [
      "letter is ->  w\n",
      "letter is ->  e\n",
      "letter is ->  1\n",
      "letter is ->  c\n",
      "letter is ->  o\n",
      "letter is ->  m\n",
      "letter is ->  e\n"
     ]
    }
   ],
   "source": [
    "# iteration through tuple elements\n",
    "tuple6 = ('w', 'e', '1', 'c', 'o', 'm', 'e')\n",
    "for letters in tuple6:\n",
    "    print(\"letter is -> \", letters)"
   ],
   "metadata": {
    "collapsed": false,
    "ExecuteTime": {
     "end_time": "2023-06-29T08:25:45.744696Z",
     "start_time": "2023-06-29T08:25:44.593709Z"
    }
   }
  },
  {
   "cell_type": "code",
   "execution_count": 53,
   "outputs": [
    {
     "name": "stdout",
     "output_type": "stream",
     "text": [
      "(22, 33, 55, 44, 77, 66, 11)\n",
      "77\n",
      "11\n",
      "[11, 22, 33, 44, 55, 66, 77]\n",
      "7\n"
     ]
    }
   ],
   "source": [
    "# built-in functions with tuple\n",
    "tuple7 = (22, 33, 55, 44, 77, 66, 11)\n",
    "print(tuple7)\n",
    "print(max(tuple7))\n",
    "print(min(tuple7))\n",
    "print(sorted(tuple7))\n",
    "print(len(tuple7))"
   ],
   "metadata": {
    "collapsed": false,
    "ExecuteTime": {
     "end_time": "2023-06-29T08:25:45.744837Z",
     "start_time": "2023-06-29T08:25:44.597619Z"
    }
   }
  },
  {
   "cell_type": "markdown",
   "source": [
    "# sets\n",
    "\n",
    "![image13](./images/007.png)"
   ],
   "metadata": {
    "collapsed": false
   }
  },
  {
   "cell_type": "markdown",
   "source": [
    "![image14](./images/007-01.png)"
   ],
   "metadata": {
    "collapsed": false
   }
  },
  {
   "cell_type": "markdown",
   "source": [
    "![image15](./images/007-02.png)"
   ],
   "metadata": {
    "collapsed": false
   }
  },
  {
   "cell_type": "markdown",
   "source": [
    "![image16](./images/007-03.png)"
   ],
   "metadata": {
    "collapsed": false
   }
  },
  {
   "cell_type": "markdown",
   "source": [
    "![image17](./images/007-04.png)"
   ],
   "metadata": {
    "collapsed": false
   }
  },
  {
   "cell_type": "code",
   "execution_count": 54,
   "outputs": [
    {
     "name": "stdout",
     "output_type": "stream",
     "text": [
      "{33, 66, 22, 55, 11, 44}\n",
      "{(21, 2, 1994), 101, 'Agnibha'}\n",
      "{33, 11, 44, 22}\n"
     ]
    }
   ],
   "source": [
    "# creating sets\n",
    "# sets of integers\n",
    "my_set1 = {11, 33, 66, 55, 44, 22}\n",
    "print(my_set1)\n",
    "\n",
    "# set of mixed datatypes\n",
    "my_set2 = {101, \"Agnibha\", (21, 2, 1994)}\n",
    "print(my_set2)\n",
    "# duplicate values are not allowed\n",
    "my_set3 = {11, 22, 33, 33, 44, 22}\n",
    "print(my_set3)"
   ],
   "metadata": {
    "collapsed": false,
    "ExecuteTime": {
     "end_time": "2023-06-29T08:25:45.744974Z",
     "start_time": "2023-06-29T08:25:44.603804Z"
    }
   }
  },
  {
   "cell_type": "code",
   "execution_count": 55,
   "outputs": [
    {
     "name": "stdout",
     "output_type": "stream",
     "text": [
      "<class 'set'>\n",
      "{1, 2, 3}\n",
      "<class 'list'>\n",
      "[33, 11, 44, 22]\n"
     ]
    }
   ],
   "source": [
    "# set cannot have mutable items\n",
    "# my_set4 = {1, 2, [3, 4]} # Error #unhashable type: 'list'\n",
    "# we can make set from a list\n",
    "my_set5 = set([1, 2, 3, 2])\n",
    "print(type(my_set5))\n",
    "print(my_set5)\n",
    "# we can make list from a set\n",
    "my_list1 = list({11, 22, 33, 44})\n",
    "print(type(my_list1))\n",
    "print(my_list1)"
   ],
   "metadata": {
    "collapsed": false,
    "ExecuteTime": {
     "end_time": "2023-06-29T08:25:45.746553Z",
     "start_time": "2023-06-29T08:25:44.611382Z"
    }
   }
  },
  {
   "cell_type": "code",
   "execution_count": 56,
   "outputs": [
    {
     "name": "stdout",
     "output_type": "stream",
     "text": [
      "{33, 66, 55, 11, 44}\n",
      "{33, 66, 55, 11, 44, 77}\n",
      "{66, 11, 77, 22, 88, 33, 99, 44, 55}\n",
      "{66, 11, 77, 22, 88, 33, 99, 100, 102, 103, 104, 105, 44, 55}\n"
     ]
    }
   ],
   "source": [
    "# operations on sets\n",
    "my_set1 = {11, 33, 44, 66, 55}\n",
    "print(my_set1)\n",
    "# 'set' object does not support indexing\n",
    "#my_set1[0] #Error\n",
    "# add an element\n",
    "my_set1.add(77)\n",
    "print(my_set1)\n",
    "# add multiple elements\n",
    "my_set1.update([88, 99, 22])\n",
    "print(my_set1)\n",
    "# add List and set\n",
    "my_set1.update([100, 102], {103, 104, 105})\n",
    "print(my_set1)"
   ],
   "metadata": {
    "collapsed": false,
    "ExecuteTime": {
     "end_time": "2023-06-29T08:25:45.746726Z",
     "start_time": "2023-06-29T08:25:44.620049Z"
    }
   }
  },
  {
   "cell_type": "code",
   "execution_count": 57,
   "outputs": [
    {
     "name": "stdout",
     "output_type": "stream",
     "text": [
      "{33, 66, 55, 11, 44}\n",
      "{33, 66, 55, 11, 44}\n",
      "{33, 66, 55, 11, 44}\n",
      "{33, 66, 55, 11}\n",
      "{33, 66, 11}\n"
     ]
    }
   ],
   "source": [
    "# remove and discard\n",
    "# #initialize my_set\n",
    "my_set1 = {11, 33, 44, 55, 66}\n",
    "print(my_set1)\n",
    "# discard an element which is not present, no error\n",
    "my_set1.discard(4)\n",
    "print(my_set1)\n",
    "# remove an element which is not present, error raised\n",
    "#my_set1.remove(6) # KeyError: 6\n",
    "print(my_set1)\n",
    "# discard an element\n",
    "my_set1.discard(44)\n",
    "print(my_set1)\n",
    "my_set1.remove(55)\n",
    "print(my_set1)"
   ],
   "metadata": {
    "collapsed": false,
    "ExecuteTime": {
     "end_time": "2023-06-29T08:25:45.746872Z",
     "start_time": "2023-06-29T08:25:44.627446Z"
    }
   }
  },
  {
   "cell_type": "code",
   "execution_count": 58,
   "outputs": [
    {
     "name": "stdout",
     "output_type": "stream",
     "text": [
      "{33, 66, 55, 11, 44}\n",
      "33\n",
      "66\n",
      "{55, 11, 44}\n",
      "set()\n"
     ]
    }
   ],
   "source": [
    "# using pop()\n",
    "#initialize my_set\n",
    "my_set1 = {11, 33, 44, 55, 66}\n",
    "print(my_set1)\n",
    "# pop an element\n",
    "print(my_set1.pop())\n",
    "# pop another element\n",
    "print(my_set1.pop())\n",
    "print(my_set1)\n",
    "# clear my_set\n",
    "my_set1.clear()\n",
    "print(my_set1)"
   ],
   "metadata": {
    "collapsed": false,
    "ExecuteTime": {
     "end_time": "2023-06-29T08:25:45.747010Z",
     "start_time": "2023-06-29T08:25:44.631361Z"
    }
   }
  },
  {
   "cell_type": "code",
   "execution_count": 59,
   "outputs": [
    {
     "name": "stdout",
     "output_type": "stream",
     "text": [
      "{0, 1, 2, 3, 4, 5}\n",
      "{4, 5, 6, 7, 8, 9}\n",
      "{0, 1, 2, 3, 4, 5, 6, 7, 8, 9}\n",
      "{0, 1, 2, 3, 4, 5, 6, 7, 8, 9}\n",
      "{0, 1, 2, 3, 4, 5, 6, 7, 8, 9}\n",
      "{0, 1, 2, 3, 4, 5, 6, 7, 8, 9}\n"
     ]
    }
   ],
   "source": [
    "# set operations - union\n",
    "myset1 = {0, 1, 2, 3, 4, 5}\n",
    "myset2 = {4, 5, 6, 7, 8, 9}\n",
    "print(myset1)\n",
    "print(myset2)\n",
    "\n",
    "# use | operator for union\n",
    "print(myset1 | myset2)\n",
    "print(myset2 | myset1)\n",
    "print(myset1.union(myset2))\n",
    "print(myset2.union(myset1))"
   ],
   "metadata": {
    "collapsed": false,
    "ExecuteTime": {
     "end_time": "2023-06-29T08:25:45.747155Z",
     "start_time": "2023-06-29T08:25:44.640032Z"
    }
   }
  },
  {
   "cell_type": "code",
   "execution_count": 60,
   "outputs": [
    {
     "name": "stdout",
     "output_type": "stream",
     "text": [
      "{0, 1, 2, 3, 4, 5}\n",
      "{4, 5, 6, 7, 8, 9}\n",
      "{4, 5}\n",
      "{4, 5}\n",
      "{4, 5}\n",
      "{4, 5}\n"
     ]
    }
   ],
   "source": [
    "# set operations intersection\n",
    "myset1 = {0, 1, 2, 3, 4, 5}\n",
    "myset2 = {4, 5, 6, 7, 8, 9}\n",
    "print(myset1)\n",
    "print(myset2)\n",
    "\n",
    "# use & operator for intersection\n",
    "print(myset1 & myset2)\n",
    "print(myset2 & myset1)\n",
    "print(myset1.intersection(myset2))\n",
    "print(myset2.intersection(myset1))"
   ],
   "metadata": {
    "collapsed": false,
    "ExecuteTime": {
     "end_time": "2023-06-29T08:25:45.747296Z",
     "start_time": "2023-06-29T08:25:44.647781Z"
    }
   }
  },
  {
   "cell_type": "code",
   "execution_count": 61,
   "outputs": [
    {
     "name": "stdout",
     "output_type": "stream",
     "text": [
      "{0, 1, 2, 3, 4, 5}\n",
      "{4, 5, 6, 7, 8, 9}\n",
      "{0, 1, 2, 3}\n",
      "{8, 9, 6, 7}\n",
      "{0, 1, 2, 3}\n",
      "{8, 9, 6, 7}\n",
      "{0, 1, 2, 3, 4, 5}\n",
      "{4, 5, 6, 7, 8, 9}\n",
      "{0, 1, 2, 3, 6, 7, 8, 9}\n",
      "{0, 1, 2, 3, 6, 7, 8, 9}\n",
      "{0, 1, 2, 3, 6, 7, 8, 9}\n",
      "{0, 1, 2, 3, 6, 7, 8, 9}\n"
     ]
    }
   ],
   "source": [
    "# set operations - set difference\n",
    "myset1 = {0, 1, 2, 3, 4, 5}\n",
    "myset2 = {4, 5, 6, 7, 8, 9}\n",
    "print(myset1)\n",
    "print(myset2)\n",
    "\n",
    "#use - operator for set difference\n",
    "print(myset1 - myset2)\n",
    "print(myset2 - myset1)\n",
    "print(myset1.difference(myset2))  # differences in only one set\n",
    "print(myset2.difference(myset1))\n",
    "\n",
    "# set operations symmetric difference\n",
    "myset1 = {0, 1, 2, 3, 4, 5}\n",
    "myset2 = {4, 5, 6, 7, 8, 9}\n",
    "print(myset1)\n",
    "print(myset2)\n",
    "# use operator for symmetric difference\n",
    "print(myset1 ^ myset2)\n",
    "print(myset2 ^ myset1)\n",
    "print(myset1.symmetric_difference(myset2))  # differences in all two sets\n",
    "print(myset2.symmetric_difference(myset1))"
   ],
   "metadata": {
    "collapsed": false,
    "ExecuteTime": {
     "end_time": "2023-06-29T08:25:45.747434Z",
     "start_time": "2023-06-29T08:25:44.650572Z"
    }
   }
  },
  {
   "cell_type": "code",
   "execution_count": 62,
   "outputs": [
    {
     "name": "stdout",
     "output_type": "stream",
     "text": [
      "True\n",
      "False\n",
      "False\n",
      "True\n"
     ]
    }
   ],
   "source": [
    "# set membership\n",
    "myset1 = {0, 1, 2, 3, 4, 5}\n",
    "print(2 in myset1)\n",
    "print(6 in myset1)\n",
    "print(2 not in myset1)\n",
    "print(6 not in myset1)"
   ],
   "metadata": {
    "collapsed": false,
    "ExecuteTime": {
     "end_time": "2023-06-29T08:25:45.747575Z",
     "start_time": "2023-06-29T08:25:44.662164Z"
    }
   }
  },
  {
   "cell_type": "code",
   "execution_count": 63,
   "outputs": [
    {
     "name": "stdout",
     "output_type": "stream",
     "text": [
      "l\n",
      "e\n",
      "w\n",
      "c\n",
      "m\n",
      "o\n"
     ]
    }
   ],
   "source": [
    "# iterating through a set\n",
    "for letter in set(\"welcome\"):\n",
    "    print(letter)"
   ],
   "metadata": {
    "collapsed": false,
    "ExecuteTime": {
     "end_time": "2023-06-29T08:25:45.747710Z",
     "start_time": "2023-06-29T08:25:44.667584Z"
    }
   }
  },
  {
   "cell_type": "code",
   "execution_count": 64,
   "outputs": [
    {
     "name": "stdout",
     "output_type": "stream",
     "text": [
      "6\n",
      "5\n",
      "0\n",
      "[0, 1, 2, 3, 4, 5]\n"
     ]
    }
   ],
   "source": [
    "# built-in functions with set\n",
    "myset1 = {0, 1, 2, 3, 4, 5}\n",
    "print(len(myset1))\n",
    "print(max(myset1))\n",
    "print(min(myset1))\n",
    "print(sorted(myset1))"
   ],
   "metadata": {
    "collapsed": false,
    "ExecuteTime": {
     "end_time": "2023-06-29T08:25:45.747846Z",
     "start_time": "2023-06-29T08:25:44.674042Z"
    }
   }
  },
  {
   "cell_type": "code",
   "execution_count": 65,
   "outputs": [
    {
     "name": "stdout",
     "output_type": "stream",
     "text": [
      "frozenset({1, 2, 3, 4})\n",
      "frozenset({3, 4, 5, 6})\n",
      "frozenset({1, 2})\n",
      "frozenset({1, 2, 3, 4, 5, 6})\n",
      "frozenset({3, 4})\n",
      "frozenset({1, 2, 5, 6})\n"
     ]
    }
   ],
   "source": [
    "# python frozenset\n",
    "\n",
    "# Frozenset is a new class that has the characteristics\n",
    "# of a set, but its elements cannot be changed once assigned\n",
    "# While tuples are immutable lists, frozen-sets are immutable sets.\n",
    "# #initialize A and B\n",
    "myset1 = frozenset([1, 2, 3, 4])\n",
    "myset2 = frozenset([3, 4, 5, 6])\n",
    "print(myset1)\n",
    "print(myset2)\n",
    "print(myset1.difference(myset2))\n",
    "print(myset1.union(myset2))\n",
    "print(myset1.intersection(myset2))\n",
    "print(myset1.symmetric_difference(myset2))\n",
    "# myset1.add(10) #'frozenset' object has no attribute 'add'\n",
    "# it has look like tuples immutable"
   ],
   "metadata": {
    "collapsed": false,
    "ExecuteTime": {
     "end_time": "2023-06-29T08:25:45.747982Z",
     "start_time": "2023-06-29T08:25:44.682318Z"
    }
   }
  },
  {
   "cell_type": "markdown",
   "source": [
    "# imports\n",
    "\n",
    "![image18](./images/008.png)"
   ],
   "metadata": {
    "collapsed": false
   }
  },
  {
   "cell_type": "code",
   "execution_count": 66,
   "outputs": [
    {
     "name": "stdout",
     "output_type": "stream",
     "text": [
      "The value of pi is 3.141592653589793\n"
     ]
    }
   ],
   "source": [
    "# Importing module as well as renaming it.\n",
    "import math as m\n",
    "\n",
    "print(\"The value of pi is\", m.pi)"
   ],
   "metadata": {
    "collapsed": false,
    "ExecuteTime": {
     "end_time": "2023-06-29T08:25:45.748126Z",
     "start_time": "2023-06-29T08:25:44.687492Z"
    }
   }
  },
  {
   "cell_type": "code",
   "execution_count": 67,
   "outputs": [
    {
     "name": "stdout",
     "output_type": "stream",
     "text": [
      "The value of pi is 3.141592653589793\n"
     ]
    }
   ],
   "source": [
    "# Usage of from\n",
    "from math import pi\n",
    "\n",
    "print(\"The value of pi is\", pi)"
   ],
   "metadata": {
    "collapsed": false,
    "ExecuteTime": {
     "end_time": "2023-06-29T08:25:45.748330Z",
     "start_time": "2023-06-29T08:25:44.692949Z"
    }
   }
  },
  {
   "cell_type": "code",
   "execution_count": 68,
   "outputs": [
    {
     "name": "stdout",
     "output_type": "stream",
     "text": [
      "The value of pi is 3.141592653589793\n"
     ]
    }
   ],
   "source": [
    "# import all names from the standard module math\n",
    "from math import *\n",
    "\n",
    "print(\"The value of pi is\", pi)"
   ],
   "metadata": {
    "collapsed": false,
    "ExecuteTime": {
     "end_time": "2023-06-29T08:25:45.748469Z",
     "start_time": "2023-06-29T08:25:44.698979Z"
    }
   }
  },
  {
   "cell_type": "markdown",
   "source": [
    "# directories\n",
    "\n",
    "![image19](./images/009.png)"
   ],
   "metadata": {
    "collapsed": false
   }
  },
  {
   "cell_type": "code",
   "execution_count": 69,
   "outputs": [
    {
     "name": "stdout",
     "output_type": "stream",
     "text": [
      "/Users/abdelrahman/PycharmProjects/python-revision\n",
      "b'/Users/abdelrahman/PycharmProjects/python-revision'\n"
     ]
    }
   ],
   "source": [
    "import os\n",
    "\n",
    "print(os.getcwd())  #Returns the present working directory\n",
    "print(os.getcwdb())  #Returns the present working directory as a byte object"
   ],
   "metadata": {
    "collapsed": false,
    "ExecuteTime": {
     "end_time": "2023-06-29T08:25:45.748615Z",
     "start_time": "2023-06-29T08:25:44.702236Z"
    }
   }
  },
  {
   "cell_type": "code",
   "execution_count": 70,
   "outputs": [
    {
     "name": "stdout",
     "output_type": "stream",
     "text": [
      "['007-01.png', '002.png', '016.png', '017.png', '003.png', '007-02.png', '015.png', '001.png', '014.png', '007-03.png', '010.png', '004.png', '005-02.png', '005.png', '011.png', '007-04.png', '007.png', '013.png', '005-01.png', '012.png', '006.png', '013-02.png', '001-01.png', '013-01.png', '018-02.png', '006-02.png', '018-01.png', '006-01.png', '014-01.png', '004-01.png', '008.png', '020.png', '009.png', '019.png', '018.png', '010-01.png']\n"
     ]
    }
   ],
   "source": [
    "# os.chdir('C:\\\\Users\\\\Abdelrahman\\\\FileTest') #use to change directory\n",
    "os.chdir('/Users/abdelrahman/PycharmProjects/python-revision/images')  #use to change directory\n",
    "print(os.listdir())  # ALL files and subdirectories inside a directory # can be known using the Listdir() method."
   ],
   "metadata": {
    "collapsed": false,
    "ExecuteTime": {
     "end_time": "2023-06-29T08:25:45.748755Z",
     "start_time": "2023-06-29T08:25:44.709911Z"
    }
   }
  },
  {
   "cell_type": "code",
   "execution_count": 71,
   "outputs": [],
   "source": [
    "# os.mkdir('Test') # used to make a new directory\n",
    "# os.rename('Test', 'New_One') # used to rename a directory"
   ],
   "metadata": {
    "collapsed": false,
    "ExecuteTime": {
     "end_time": "2023-06-29T08:25:45.748833Z",
     "start_time": "2023-06-29T08:25:44.714344Z"
    }
   }
  },
  {
   "cell_type": "code",
   "execution_count": 72,
   "outputs": [],
   "source": [
    "os.chdir('/Users/abdelrahman/PycharmProjects/python-revision/')\n",
    "os.remove('example.txt')  # use to remove a file\n",
    "# os.rmdir('New_One') # use to remove a directory\n",
    "# os.chdir('C:\\\\Users\\\\Abdelrahman')"
   ],
   "metadata": {
    "collapsed": false,
    "ExecuteTime": {
     "end_time": "2023-06-29T08:25:45.748908Z",
     "start_time": "2023-06-29T08:25:44.719812Z"
    }
   }
  },
  {
   "cell_type": "markdown",
   "source": [
    "# dictionary\n",
    "\n",
    "![image20](./images/010.png)"
   ],
   "metadata": {
    "collapsed": false
   }
  },
  {
   "cell_type": "markdown",
   "source": [
    "![image21](./images/010-01.png)"
   ],
   "metadata": {
    "collapsed": false
   }
  },
  {
   "cell_type": "code",
   "execution_count": 73,
   "outputs": [
    {
     "name": "stdout",
     "output_type": "stream",
     "text": [
      "{1: 'Hello', 2: 'Hi', 3: 'Hola'}\n",
      "Hello\n",
      "Hi\n",
      "{1: 'Hey', 2: 'Hi', 3: 'Hola'}\n",
      "{1: 'Hey', 2: 'Hi', 3: 'Hola', 4: 'Namaste'}\n"
     ]
    }
   ],
   "source": [
    "#Accessing elements from a dictionary\n",
    "new_dict = {1: \"Hello\", 2: \"Hi\", 3: \"Hola\"}\n",
    "print(new_dict)\n",
    "print(new_dict[1])  # if invalid key rais error\n",
    "print(new_dict.get(2))  # if invalid key return None\n",
    "\n",
    "#Updating value\n",
    "new_dict[1] = \"Hey\"\n",
    "print(new_dict)\n",
    "#Adding value\n",
    "new_dict[4] = \"Namaste\"\n",
    "print(new_dict)"
   ],
   "metadata": {
    "collapsed": false,
    "ExecuteTime": {
     "end_time": "2023-06-29T08:25:45.749042Z",
     "start_time": "2023-06-29T08:25:44.723755Z"
    }
   }
  },
  {
   "cell_type": "code",
   "execution_count": 74,
   "outputs": [
    {
     "name": "stdout",
     "output_type": "stream",
     "text": [
      "{1: 1, 2: 4, 3: 9, 4: 16, 5: 25}\n",
      "16\n",
      "{1: 1, 2: 4, 3: 9, 5: 25}\n",
      "(5, 25)\n",
      "{1: 1, 2: 4, 3: 9}\n",
      "{2: 4, 3: 9}\n"
     ]
    }
   ],
   "source": [
    "# Creating a new dictionary\n",
    "squares = {1: 1, 2: 4, 3: 9, 4: 16, 5: 25}\n",
    "print(squares)\n",
    "# remove a particular item\n",
    "print(squares.pop(4))\n",
    "print(squares)\n",
    "# remove an arbitrary item\n",
    "print(squares.popitem())\n",
    "print(squares)\n",
    "# delete a particular item\n",
    "del squares[1]\n",
    "print(squares)\n",
    "\n",
    "del squares  # delete all dict\n",
    "# print(squares) # Error # name 'squares' is not defined"
   ],
   "metadata": {
    "collapsed": false,
    "ExecuteTime": {
     "end_time": "2023-06-29T08:25:45.749176Z",
     "start_time": "2023-06-29T08:25:44.730244Z"
    }
   }
  },
  {
   "cell_type": "code",
   "execution_count": 75,
   "outputs": [
    {
     "name": "stdout",
     "output_type": "stream",
     "text": [
      "{0: 0, 1: 1, 2: 4, 3: 9, 4: 16, 5: 25}\n",
      "{1: 1, 3: 9, 5: 25, 7: 49, 9: 81}\n",
      "True\n",
      "True\n",
      "False\n"
     ]
    }
   ],
   "source": [
    "# Creating a new dictionary using Comprehension\n",
    "squares = {x: x * x for x in range(6)}\n",
    "print(squares)\n",
    "\n",
    "# Dictionary Membership test\n",
    "squares = {1: 1, 3: 9, 5: 25, 7: 49, 9: 81}\n",
    "print(squares)\n",
    "\n",
    "print(1 in squares)\n",
    "print(2 not in squares)\n",
    "#membership tests for key only not value\n",
    "print(49 in squares)"
   ],
   "metadata": {
    "collapsed": false,
    "ExecuteTime": {
     "end_time": "2023-06-29T08:25:45.749312Z",
     "start_time": "2023-06-29T08:25:44.741656Z"
    }
   }
  },
  {
   "cell_type": "code",
   "execution_count": 76,
   "outputs": [
    {
     "name": "stdout",
     "output_type": "stream",
     "text": [
      "1\n",
      "9\n",
      "25\n",
      "49\n",
      "81\n",
      "5\n",
      "[1, 3, 5, 7, 9]\n"
     ]
    }
   ],
   "source": [
    "# Iterating through a dictionary\n",
    "squares = {1: 1, 3: 9, 5: 25, 7: 49, 9: 81}\n",
    "for i in squares:\n",
    "    print(squares[i])\n",
    "# Using built-in functions in a dictionary\n",
    "squares = {1: 1, 3: 9, 5: 25, 7: 49, 9: 81}\n",
    "print(len(squares))  # Prints the Length of the dictionary\n",
    "print(sorted(squares))  # Prints the dictionary in sorted order"
   ],
   "metadata": {
    "collapsed": false,
    "ExecuteTime": {
     "end_time": "2023-06-29T08:25:45.749447Z",
     "start_time": "2023-06-29T08:25:44.749490Z"
    }
   }
  },
  {
   "cell_type": "markdown",
   "source": [
    "# Strings\n",
    "\n",
    "![image22](./images/011.png)"
   ],
   "metadata": {
    "collapsed": false
   }
  },
  {
   "cell_type": "code",
   "execution_count": 77,
   "outputs": [
    {
     "name": "stdout",
     "output_type": "stream",
     "text": [
      "Welcome\n",
      "Welcome\n",
      "Welcome\n",
      "Welcome\n",
      "to the world of\n",
      "Python Programming\n"
     ]
    }
   ],
   "source": [
    "# different ways to define a string in Python\n",
    "mystr1 = 'Welcome'\n",
    "print(mystr1)\n",
    "mystr2 = \"Welcome\"\n",
    "print(mystr2)\n",
    "mystr3 = '''Welcome'''\n",
    "print(mystr3)\n",
    "# triple quotes string can extend multiple lines\n",
    "mystr3 = \"\"\"Welcome\n",
    "to the world of\n",
    "Python Programming\"\"\"\n",
    "print(mystr3)"
   ],
   "metadata": {
    "collapsed": false,
    "ExecuteTime": {
     "end_time": "2023-06-29T08:25:45.749582Z",
     "start_time": "2023-06-29T08:25:44.753764Z"
    }
   }
  },
  {
   "cell_type": "code",
   "execution_count": 78,
   "outputs": [
    {
     "name": "stdout",
     "output_type": "stream",
     "text": [
      "Welcome\n",
      "to the world of\n",
      "Python Programming\n",
      "mystr =  language\n",
      "mystr[0] =  l\n",
      "mystr[7] =  e\n",
      "mystr[-1] =  e\n",
      "mystr[1:5] =  angu\n",
      "mystr[5:-2] =  a\n"
     ]
    }
   ],
   "source": [
    "print(mystr3)\n",
    "# accessing characters in a string\n",
    "mystr = 'language'\n",
    "print('mystr = ', mystr)\n",
    "print('mystr[0] = ', mystr[0])\n",
    "print('mystr[7] = ', mystr[7])\n",
    "print('mystr[-1] = ', mystr[-1])\n",
    "print('mystr[1:5] = ', mystr[1:5])\n",
    "print('mystr[5:-2] = ', mystr[5:-2])\n",
    "#print('mystr[10] = ', mystr[10]) # Error #string index out of range"
   ],
   "metadata": {
    "collapsed": false,
    "ExecuteTime": {
     "end_time": "2023-06-29T08:25:45.749722Z",
     "start_time": "2023-06-29T08:25:44.762976Z"
    }
   }
  },
  {
   "cell_type": "code",
   "execution_count": 79,
   "outputs": [
    {
     "name": "stdout",
     "output_type": "stream",
     "text": [
      "language\n",
      "programming\n"
     ]
    }
   ],
   "source": [
    "# strings are immutable\n",
    "# but different strings can be assigned\n",
    "mystr = 'language'\n",
    "print(mystr)\n",
    "mystr = 'programming'\n",
    "print(mystr)\n",
    "#mystr[3] = 'x' #Error #'str' object does not support item assignment"
   ],
   "metadata": {
    "collapsed": false,
    "ExecuteTime": {
     "end_time": "2023-06-29T08:25:45.749856Z",
     "start_time": "2023-06-29T08:25:44.767138Z"
    }
   }
  },
  {
   "cell_type": "code",
   "execution_count": 80,
   "outputs": [
    {
     "name": "stdout",
     "output_type": "stream",
     "text": [
      "mystr1 + mystr2 =  Welcome to all\n",
      "mystr1 * 3 = WelcomeWelcomeWelcome\n"
     ]
    }
   ],
   "source": [
    "#concatenation of strings\n",
    "mystr1 = 'Welcome'\n",
    "mystr2 = ' to all'\n",
    "# using + operator\n",
    "print('mystr1 + mystr2 = ', mystr1 + mystr2)\n",
    "# using * operator\n",
    "print('mystr1 * 3 =', mystr1 * 3)"
   ],
   "metadata": {
    "collapsed": false,
    "ExecuteTime": {
     "end_time": "2023-06-29T08:25:45.749993Z",
     "start_time": "2023-06-29T08:25:44.775856Z"
    }
   }
  },
  {
   "cell_type": "code",
   "execution_count": 81,
   "outputs": [
    {
     "name": "stdout",
     "output_type": "stream",
     "text": [
      "3 times 1 letter has been found\n"
     ]
    }
   ],
   "source": [
    "# iterating through a string\n",
    "letter_count = 0\n",
    "for letters in 'Hello World':\n",
    "    if (letters == 'l'):\n",
    "        letter_count += 1\n",
    "print(letter_count, 'times 1 letter has been found')"
   ],
   "metadata": {
    "collapsed": false,
    "ExecuteTime": {
     "end_time": "2023-06-29T08:25:45.750128Z",
     "start_time": "2023-06-29T08:25:44.781285Z"
    }
   }
  },
  {
   "cell_type": "code",
   "execution_count": 82,
   "outputs": [
    {
     "name": "stdout",
     "output_type": "stream",
     "text": [
      "False\n",
      "True\n",
      "False\n",
      "True\n"
     ]
    }
   ],
   "source": [
    "# string membership\n",
    "print('1' in \"hello\")\n",
    "print('1' not in \"hello\")\n",
    "print('b' in \"hello\")\n",
    "print('b' not in \"hello\")"
   ],
   "metadata": {
    "collapsed": false,
    "ExecuteTime": {
     "end_time": "2023-06-29T08:25:45.750262Z",
     "start_time": "2023-06-29T08:25:44.786864Z"
    }
   }
  },
  {
   "cell_type": "code",
   "execution_count": 83,
   "outputs": [
    {
     "name": "stdout",
     "output_type": "stream",
     "text": [
      "list (enumerate (mystr) [(0, 'u'), (1, 'n'), (2, 'i'), (3, 'v'), (4, 'e'), (5, 'r'), (6, 's'), (7, 'i'), (8, 't'), (9, 'y')]\n",
      "len (mystr) =  10\n"
     ]
    }
   ],
   "source": [
    "# built-in functions\n",
    "mystr = 'university'\n",
    "# using enumerate()\n",
    "my_list_enumerate = list(enumerate(mystr))\n",
    "print('list (enumerate (mystr)', my_list_enumerate)\n",
    "#using character count\n",
    "print('len (mystr) = ', len(mystr))"
   ],
   "metadata": {
    "collapsed": false,
    "ExecuteTime": {
     "end_time": "2023-06-29T08:25:45.750396Z",
     "start_time": "2023-06-29T08:25:44.791469Z"
    }
   }
  },
  {
   "cell_type": "code",
   "execution_count": 84,
   "outputs": [
    {
     "name": "stdout",
     "output_type": "stream",
     "text": [
      "tell me \"What's your name?\"\n",
      "tell me \"What's your name?\"\n",
      "tell me 'What's your name?'\n",
      "tell me \"What's your name?\"\n"
     ]
    }
   ],
   "source": [
    "# string formatting using escape sequence\n",
    "#print(\"tell me \"What's your name?\"\") # Error # SyntaxError\n",
    "\n",
    "#using triple quotes\n",
    "print('''tell me \"What's your name?\"''')\n",
    "# escaping single quotes\n",
    "print('tell me \"What\\'s your name?\"')\n",
    "# escaping single quotes\n",
    "print(\"tell me 'What\\'s your name?'\")\n",
    "#escaping double quotes\n",
    "print(\"tell me \\\"What's your name?\\\"\")"
   ],
   "metadata": {
    "collapsed": false,
    "ExecuteTime": {
     "end_time": "2023-06-29T08:25:45.750530Z",
     "start_time": "2023-06-29T08:25:44.798630Z"
    }
   }
  },
  {
   "cell_type": "code",
   "execution_count": 85,
   "outputs": [
    {
     "name": "stdout",
     "output_type": "stream",
     "text": [
      "C:\\User\\user\\mydata.txt\n",
      "this line is having a new line \n",
      "character\n",
      "this line is having a tab \t character\n",
      "ABC written in ABC (HEX) representation\n",
      "Today is and Sunday\n",
      "Today is and Sunday\n",
      "Today is and Sunday\n"
     ]
    }
   ],
   "source": [
    "print(\"C:\\\\User\\\\user\\\\mydata.txt\")\n",
    "print(\"this line is having a new line \\ncharacter\")\n",
    "print(\"this line is having a tab \\t character\")\n",
    "print(\"ABC written in \\x41\\x42\\x43 (HEX) representation\")\n",
    "#format() method\n",
    "# default (implicit) order\n",
    "default_order = \"{} {} and {}\".format('Today', 'is', 'Sunday')\n",
    "print(default_order)\n",
    "# order using positional argument\n",
    "positional_order = \"{1} {0} and {2}\".format('is', 'Today', 'Sunday')\n",
    "print(positional_order)\n",
    "# order using keyword argument\n",
    "keyword_order = \"{t} {i} and {s}\".format(i='is', t='Today', s='Sunday')\n",
    "print(keyword_order)"
   ],
   "metadata": {
    "collapsed": false,
    "ExecuteTime": {
     "end_time": "2023-06-29T08:25:45.750687Z",
     "start_time": "2023-06-29T08:25:44.805055Z"
    }
   }
  },
  {
   "cell_type": "code",
   "execution_count": 86,
   "outputs": [
    {
     "name": "stdout",
     "output_type": "stream",
     "text": [
      "Required binary representation of 20 is 10100\n",
      "Exponent representation: 1.566345e+03\n",
      "One third is: 0.333\n"
     ]
    }
   ],
   "source": [
    "# formatting numbers\n",
    "print(\"Required binary representation of {0} is {0:b}\".format(20))\n",
    "#formatting floats\n",
    "print(\"Exponent representation: {0:e}\".format(1566.345))\n",
    "# round off\n",
    "print(\"One third is: {0:.3f}\".format(1 / 3))"
   ],
   "metadata": {
    "collapsed": false,
    "ExecuteTime": {
     "end_time": "2023-06-29T08:25:45.750824Z",
     "start_time": "2023-06-29T08:25:44.811203Z"
    }
   }
  },
  {
   "cell_type": "code",
   "execution_count": 87,
   "outputs": [
    {
     "name": "stdout",
     "output_type": "stream",
     "text": [
      "good morning to a1l\n",
      "GOOD MORNING TO A1L\n",
      "13\n",
      "-1\n",
      "gOOD moRNing tO a1L\n",
      "gOOD moRNing tO everybody\n"
     ]
    }
   ],
   "source": [
    "# string methods\n",
    "print(\"gOOD moRNing tO a1L\".lower())\n",
    "print(\"gOOD moRNing tO a1L\".upper())\n",
    "print(\"gOOD moRNing tO a1L\".find('tO'))\n",
    "print(\"gOOD moRNing tO a1L\".find('to'))\n",
    "print(\"gOOD moRNing tO a1L\".replace('all', 'everybody'))\n",
    "print(\"gOOD moRNing tO a1L\".replace('a1L', 'everybody'))"
   ],
   "metadata": {
    "collapsed": false,
    "ExecuteTime": {
     "end_time": "2023-06-29T08:25:45.751818Z",
     "start_time": "2023-06-29T08:25:44.815239Z"
    }
   }
  },
  {
   "cell_type": "markdown",
   "source": [
    "# DataType Conversion\n",
    "\n",
    "![image23](./images/012.png)"
   ],
   "metadata": {
    "collapsed": false
   }
  },
  {
   "cell_type": "code",
   "execution_count": 88,
   "outputs": [
    {
     "name": "stdout",
     "output_type": "stream",
     "text": [
      "datatype of num_int:  <class 'int'>\n",
      "datatype of num_flo:  <class 'float'>\n",
      "Value of num_new:  124.23\n",
      "datatype of num_new:  <class 'float'>\n"
     ]
    }
   ],
   "source": [
    "# Implicit Type Conversion\n",
    "num_int = 123\n",
    "num_flo = 1.23\n",
    "num_new = num_int + num_flo\n",
    "print(\"datatype of num_int: \", type(num_int))\n",
    "print(\"datatype of num_flo: \", type(num_flo))\n",
    "print(\"Value of num_new: \", num_new)\n",
    "print(\"datatype of num_new: \", type(num_new))"
   ],
   "metadata": {
    "collapsed": false,
    "ExecuteTime": {
     "end_time": "2023-06-29T08:25:45.751969Z",
     "start_time": "2023-06-29T08:25:44.823154Z"
    }
   }
  },
  {
   "cell_type": "code",
   "execution_count": 89,
   "outputs": [
    {
     "name": "stdout",
     "output_type": "stream",
     "text": [
      "Data type of num_int:  <class 'int'>\n",
      "Data type of num_str: <class 'str'>\n"
     ]
    }
   ],
   "source": [
    "# Addition of string (higher) data type and integer (Lower) datatype\n",
    "num_int = 123\n",
    "num_str = \"456\"\n",
    "print(\"Data type of num_int: \", type(num_int))\n",
    "print(\"Data type of num_str:\", type(num_str))\n",
    "# print(num_int+num_str) #Error: Implicit conversion will not work here"
   ],
   "metadata": {
    "collapsed": false,
    "ExecuteTime": {
     "end_time": "2023-06-29T08:25:45.766519Z",
     "start_time": "2023-06-29T08:25:44.830236Z"
    }
   }
  },
  {
   "cell_type": "code",
   "execution_count": 90,
   "outputs": [
    {
     "name": "stdout",
     "output_type": "stream",
     "text": [
      "Data type of num_int:  <class 'int'>\n",
      "Data type of num_str before Type Casting:  <class 'str'>\n",
      "Data type of num_str after Type Casting:  <class 'int'>\n",
      "Sum of num_int and num_str: 579\n",
      "Data type of the sum:  <class 'int'>\n"
     ]
    }
   ],
   "source": [
    "#Explicit Type Conversion\n",
    "num_int = 123\n",
    "num_str = \"456\"\n",
    "print(\"Data type of num_int: \", type(num_int))\n",
    "print(\"Data type of num_str before Type Casting: \", type(num_str))\n",
    "\n",
    "num_str = int(num_str)  # Converting string to int\n",
    "print(\"Data type of num_str after Type Casting: \", type(num_str))\n",
    "\n",
    "num_sum = num_int + num_str\n",
    "print(\"Sum of num_int and num_str:\", num_sum)\n",
    "print(\"Data type of the sum: \", type(num_sum))"
   ],
   "metadata": {
    "collapsed": false,
    "ExecuteTime": {
     "end_time": "2023-06-29T08:25:45.766734Z",
     "start_time": "2023-06-29T08:25:44.837065Z"
    }
   }
  },
  {
   "cell_type": "markdown",
   "source": [
    "# Numbers\n",
    "\n",
    "![image24](./images/013.png)"
   ],
   "metadata": {
    "collapsed": false
   }
  },
  {
   "cell_type": "markdown",
   "source": [
    "![image25](./images/013-01.png)"
   ],
   "metadata": {
    "collapsed": false
   }
  },
  {
   "cell_type": "markdown",
   "source": [
    "![image26](./images/013-02.png)"
   ],
   "metadata": {
    "collapsed": false
   }
  },
  {
   "cell_type": "code",
   "execution_count": 91,
   "outputs": [
    {
     "name": "stdout",
     "output_type": "stream",
     "text": [
      "<class 'int'>\n",
      "True\n",
      "False\n",
      "False\n"
     ]
    }
   ],
   "source": [
    "value1 = 100\n",
    "print(type(value1))\n",
    "print(isinstance(value1, int))\n",
    "print(isinstance(value1, float))\n",
    "print(isinstance(value1, complex))"
   ],
   "metadata": {
    "collapsed": false,
    "ExecuteTime": {
     "end_time": "2023-06-29T08:25:45.766885Z",
     "start_time": "2023-06-29T08:25:44.841271Z"
    }
   }
  },
  {
   "cell_type": "code",
   "execution_count": 92,
   "outputs": [
    {
     "name": "stdout",
     "output_type": "stream",
     "text": [
      "<class 'float'>\n",
      "False\n",
      "True\n",
      "False\n"
     ]
    }
   ],
   "source": [
    "value2 = 100.24\n",
    "print(type(value2))\n",
    "print(isinstance(value2, int))\n",
    "print(isinstance(value2, float))\n",
    "print(isinstance(value2, complex))"
   ],
   "metadata": {
    "collapsed": false,
    "ExecuteTime": {
     "end_time": "2023-06-29T08:25:45.767027Z",
     "start_time": "2023-06-29T08:25:44.849782Z"
    }
   }
  },
  {
   "cell_type": "code",
   "execution_count": 93,
   "outputs": [
    {
     "name": "stdout",
     "output_type": "stream",
     "text": [
      "<class 'complex'>\n",
      "False\n",
      "False\n",
      "True\n"
     ]
    }
   ],
   "source": [
    "value3 = 50 + 6j\n",
    "print(type(value3))\n",
    "print(isinstance(value3, int))\n",
    "print(isinstance(value3, float))\n",
    "print(isinstance(value3, complex))"
   ],
   "metadata": {
    "collapsed": false,
    "ExecuteTime": {
     "end_time": "2023-06-29T08:25:45.767168Z",
     "start_time": "2023-06-29T08:25:44.855192Z"
    }
   }
  },
  {
   "cell_type": "code",
   "execution_count": 94,
   "outputs": [
    {
     "name": "stdout",
     "output_type": "stream",
     "text": [
      "13\n",
      "171\n",
      "19\n"
     ]
    }
   ],
   "source": [
    "print(0b1101)\n",
    "print(0xab)\n",
    "print(0o23)"
   ],
   "metadata": {
    "collapsed": false,
    "ExecuteTime": {
     "end_time": "2023-06-29T08:25:45.767307Z",
     "start_time": "2023-06-29T08:25:44.861846Z"
    }
   }
  },
  {
   "cell_type": "code",
   "execution_count": 95,
   "outputs": [
    {
     "name": "stdout",
     "output_type": "stream",
     "text": [
      "43.4\n"
     ]
    }
   ],
   "source": [
    "print(10 + 33.4)"
   ],
   "metadata": {
    "collapsed": false,
    "ExecuteTime": {
     "end_time": "2023-06-29T08:25:45.767444Z",
     "start_time": "2023-06-29T08:25:44.866234Z"
    }
   }
  },
  {
   "cell_type": "code",
   "execution_count": 96,
   "outputs": [
    {
     "name": "stdout",
     "output_type": "stream",
     "text": [
      "10\n",
      "-20\n",
      "10.0\n"
     ]
    }
   ],
   "source": [
    "# Type conversion\n",
    "print(int(10.5))\n",
    "print(int(-20.99))\n",
    "print(float(10))"
   ],
   "metadata": {
    "collapsed": false,
    "ExecuteTime": {
     "end_time": "2023-06-29T08:25:45.767590Z",
     "start_time": "2023-06-29T08:25:44.872319Z"
    }
   }
  },
  {
   "cell_type": "code",
   "execution_count": 97,
   "outputs": [
    {
     "name": "stdout",
     "output_type": "stream",
     "text": [
      "with normal way: 0.30000000000000004\n",
      "with Decimal: 0.3\n",
      "with normal way: 3.0\n",
      "with Decimal: 3.00\n"
     ]
    }
   ],
   "source": [
    "#Python Decimal\n",
    "from decimal import Decimal as D\n",
    "\n",
    "data1 = 0.1 + 0.2\n",
    "print(f\"with normal way: {data1}\")\n",
    "print(f\"with Decimal: {D('0.1') + D('0.2')}\")\n",
    "\n",
    "data1 = 1.20 * 2.50\n",
    "print(f\"with normal way: {data1}\")\n",
    "print(f\"with Decimal: {D('1.2') * D('2.5')}\")"
   ],
   "metadata": {
    "collapsed": false,
    "ExecuteTime": {
     "end_time": "2023-06-29T08:25:45.767743Z",
     "start_time": "2023-06-29T08:25:44.879990Z"
    }
   }
  },
  {
   "cell_type": "code",
   "execution_count": 98,
   "outputs": [
    {
     "name": "stdout",
     "output_type": "stream",
     "text": [
      "3/2\n",
      "5\n",
      "1/5\n",
      "3/70\n"
     ]
    }
   ],
   "source": [
    "# Python Fractions\n",
    "from fractions import Fraction as F\n",
    "\n",
    "print(F(1.5))\n",
    "print(F(5))\n",
    "print(F(1, 5))\n",
    "print(F(3, 70))"
   ],
   "metadata": {
    "collapsed": false,
    "ExecuteTime": {
     "end_time": "2023-06-29T08:25:45.767882Z",
     "start_time": "2023-06-29T08:25:44.885565Z"
    }
   }
  },
  {
   "cell_type": "code",
   "execution_count": 99,
   "outputs": [
    {
     "name": "stdout",
     "output_type": "stream",
     "text": [
      "3.141592653589793\n",
      "-0.8390715290764524\n",
      "2.302585092994046\n",
      "1.0\n",
      "22026.465794806718\n",
      "120\n",
      "11013.232874703393\n",
      "12.34\n"
     ]
    }
   ],
   "source": [
    "# Python math module\n",
    "import math\n",
    "\n",
    "print(math.pi)\n",
    "print(math.cos(10))\n",
    "print(math.log(10))\n",
    "print(math.log10(10))\n",
    "print(math.exp(10))\n",
    "print(math.factorial(5))\n",
    "print(math.sinh(10))\n",
    "print(abs(-12.34))"
   ],
   "metadata": {
    "collapsed": false,
    "ExecuteTime": {
     "end_time": "2023-06-29T08:25:45.768020Z",
     "start_time": "2023-06-29T08:25:44.892688Z"
    }
   }
  },
  {
   "cell_type": "code",
   "execution_count": 100,
   "outputs": [
    {
     "name": "stdout",
     "output_type": "stream",
     "text": [
      "Random number ->  5\n",
      "Random number ->  5\n",
      "Random number ->  10\n",
      "Random number ->  14\n",
      "Fri\n",
      "['Sun', 'Mon', 'Tue', 'Wed', 'Thu', 'Fri', 'Sat']\n",
      "['Mon', 'Wed', 'Tue', 'Sun', 'Thu', 'Fri', 'Sat']\n",
      "0.4349893968340688\n"
     ]
    }
   ],
   "source": [
    "# Python random module\n",
    "import random\n",
    "\n",
    "print('Random number -> ', random.randrange(5, 15))\n",
    "print('Random number -> ', random.randrange(5, 15))\n",
    "print('Random number -> ', random.randrange(5, 15))\n",
    "print('Random number -> ', random.randrange(5, 15))\n",
    "day = ['Sun', 'Mon', 'Tue', 'Wed', 'Thu', 'Fri', 'Sat']\n",
    "print(random.choice(day))\n",
    "print(day)\n",
    "random.shuffle(day)\n",
    "print(day)\n",
    "# Print random element\n",
    "print(random.random())"
   ],
   "metadata": {
    "collapsed": false,
    "ExecuteTime": {
     "end_time": "2023-06-29T08:25:45.768159Z",
     "start_time": "2023-06-29T08:25:44.899530Z"
    }
   }
  },
  {
   "cell_type": "markdown",
   "source": [
    "# Namespace\n",
    "\n",
    "![image27](./images/014.png)"
   ],
   "metadata": {
    "collapsed": false
   }
  },
  {
   "cell_type": "markdown",
   "source": [
    "![image28](./images/014-01.png)"
   ],
   "metadata": {
    "collapsed": false
   }
  },
  {
   "cell_type": "code",
   "execution_count": 101,
   "outputs": [
    {
     "name": "stdout",
     "output_type": "stream",
     "text": [
      "id(2)= 4533923400\n",
      "id(a)= 4533923400\n",
      "id(a)= 4533923400\n",
      "id(a)= 4533923432\n",
      "id(3)= 4533923432\n",
      "id(2)= 4533923400\n",
      "id(b)= 4533923400\n"
     ]
    }
   ],
   "source": [
    "# Name (also called identifier) is simply a name given to objects.\n",
    "# We can get the address (in RAM) of some object through the built-in function, id(). #Note: You may get different value of id\n",
    "a = 2\n",
    "# Output: id (2)= 4363189832\n",
    "print('id(2)=', id(2))\n",
    "\n",
    "#Output: id (a) = 4363189832\n",
    "print('id(a)=', id(a))\n",
    "a = 2\n",
    "# Output: id (a) = 4363189832\n",
    "print('id(a)=', id(a))\n",
    "\n",
    "a = a + 1\n",
    "#Output: id(a) = 4363189864\n",
    "print('id(a)=', id(a))\n",
    "#Output: id(3) = 4363189864\n",
    "print('id(3)=', id(3))\n",
    "b = 2\n",
    "#Output: id(2) = 4363189832\n",
    "print('id(2)=', id(2))\n",
    "print('id(b)=', id(b))"
   ],
   "metadata": {
    "collapsed": false,
    "ExecuteTime": {
     "end_time": "2023-06-29T08:25:45.768299Z",
     "start_time": "2023-06-29T08:25:44.903622Z"
    }
   }
  },
  {
   "cell_type": "code",
   "execution_count": 102,
   "outputs": [
    {
     "name": "stdout",
     "output_type": "stream",
     "text": [
      "a = 10\n",
      "a = 30\n",
      "a = 30\n",
      "a = 30\n"
     ]
    }
   ],
   "source": [
    "#Scope\n",
    "\n",
    "def outer_function():\n",
    "    global a\n",
    "    a = 20\n",
    "\n",
    "    def inner_function():\n",
    "        global a\n",
    "        a = 30\n",
    "        print('a =', a)\n",
    "\n",
    "    inner_function()\n",
    "    print('a =', a)\n",
    "\n",
    "\n",
    "a = 10\n",
    "print('a =', a)\n",
    "outer_function()\n",
    "print('a =', a)"
   ],
   "metadata": {
    "collapsed": false,
    "ExecuteTime": {
     "end_time": "2023-06-29T08:25:45.768436Z",
     "start_time": "2023-06-29T08:25:44.913311Z"
    }
   }
  },
  {
   "cell_type": "code",
   "execution_count": 103,
   "outputs": [
    {
     "name": "stdout",
     "output_type": "stream",
     "text": [
      "a = 10\n",
      "a = 30\n",
      "a = 20\n",
      "a = 30\n"
     ]
    }
   ],
   "source": [
    "def outer_function():\n",
    "    a = 20\n",
    "\n",
    "    def inner_function():\n",
    "        global a\n",
    "        a = 30\n",
    "        print('a =', a)\n",
    "\n",
    "    inner_function()\n",
    "    print('a =', a)\n",
    "\n",
    "\n",
    "a = 10\n",
    "print('a =', a)\n",
    "outer_function()\n",
    "print('a =', a)"
   ],
   "metadata": {
    "collapsed": false,
    "ExecuteTime": {
     "end_time": "2023-06-29T08:25:45.768579Z",
     "start_time": "2023-06-29T08:25:44.919792Z"
    }
   }
  },
  {
   "cell_type": "markdown",
   "source": [
    "# Local && Global and Nonlocal Variables\n",
    "\n",
    "![image29](./images/015.png)"
   ],
   "metadata": {
    "collapsed": false
   }
  },
  {
   "cell_type": "code",
   "execution_count": 104,
   "outputs": [
    {
     "name": "stdout",
     "output_type": "stream",
     "text": [
      "Global x =  global\n",
      "globalglobal\n",
      "local\n",
      "Global x =  globalglobal\n"
     ]
    }
   ],
   "source": [
    "# Global and Local variable with different name\n",
    "x = \"global\"  # Global variable can be accessed from anywhere\n",
    "\n",
    "\n",
    "def funct1():\n",
    "    global x\n",
    "    y = \"local\"\n",
    "    x = x * 2\n",
    "    print(x)\n",
    "    print(y)\n",
    "\n",
    "\n",
    "print(\"Global x = \", x)\n",
    "funct1()\n",
    "print(\"Global x = \", x)"
   ],
   "metadata": {
    "collapsed": false,
    "ExecuteTime": {
     "end_time": "2023-06-29T08:25:45.768715Z",
     "start_time": "2023-06-29T08:25:44.926805Z"
    }
   }
  },
  {
   "cell_type": "code",
   "execution_count": 105,
   "outputs": [
    {
     "name": "stdout",
     "output_type": "stream",
     "text": [
      "global a: 5\n",
      "local a: 10\n",
      "global a: 5\n"
     ]
    }
   ],
   "source": [
    "# Global and Local variable with same name\n",
    "a = 5\n",
    "\n",
    "\n",
    "def funct2():\n",
    "    a = 10  # Local variables are accessed from the block where it is defined only\n",
    "    print(\"local a:\", a)\n",
    "\n",
    "\n",
    "print(\"global a:\", a)\n",
    "funct2()\n",
    "print(\"global a:\", a)"
   ],
   "metadata": {
    "collapsed": false,
    "ExecuteTime": {
     "end_time": "2023-06-29T08:25:45.768898Z",
     "start_time": "2023-06-29T08:25:44.930447Z"
    }
   }
  },
  {
   "cell_type": "code",
   "execution_count": 106,
   "outputs": [
    {
     "name": "stdout",
     "output_type": "stream",
     "text": [
      "inner: nonlocal\n",
      "outer: nonlocal\n"
     ]
    }
   ],
   "source": [
    "# Creating and using a Non-Local variable\n",
    "def outer():\n",
    "    x = \"local\"\n",
    "\n",
    "    def inner():\n",
    "        nonlocal x  # Nonlocal variable are used in nested function\n",
    "        x = \"nonlocal\"\n",
    "        print(\"inner:\", x)\n",
    "\n",
    "    inner()\n",
    "    print(\"outer:\", x)  # This will print 'nonlocal' also\n",
    "\n",
    "\n",
    "outer()"
   ],
   "metadata": {
    "collapsed": false,
    "ExecuteTime": {
     "end_time": "2023-06-29T08:25:45.769103Z",
     "start_time": "2023-06-29T08:25:44.935745Z"
    }
   }
  },
  {
   "cell_type": "code",
   "execution_count": 107,
   "outputs": [
    {
     "name": "stdout",
     "output_type": "stream",
     "text": [
      "a = 30\n",
      "a = 20\n"
     ]
    }
   ],
   "source": [
    "def outer_function():\n",
    "    a = 20\n",
    "\n",
    "    def inner_function():\n",
    "        a = 30\n",
    "        print('a =', a)\n",
    "\n",
    "    inner_function()\n",
    "    print('a =', a)\n",
    "\n",
    "\n",
    "outer_function()"
   ],
   "metadata": {
    "collapsed": false,
    "ExecuteTime": {
     "end_time": "2023-06-29T08:25:45.769257Z",
     "start_time": "2023-06-29T08:25:44.944416Z"
    }
   }
  },
  {
   "cell_type": "code",
   "execution_count": 108,
   "outputs": [
    {
     "name": "stdout",
     "output_type": "stream",
     "text": [
      "a = 30\n",
      "a = 30\n"
     ]
    }
   ],
   "source": [
    "def outer_function():\n",
    "    a = 20\n",
    "\n",
    "    def inner_function():\n",
    "        nonlocal a\n",
    "        a = 30\n",
    "        print('a =', a)\n",
    "\n",
    "    inner_function()\n",
    "    print('a =', a)\n",
    "\n",
    "\n",
    "outer_function()"
   ],
   "metadata": {
    "collapsed": false,
    "ExecuteTime": {
     "end_time": "2023-06-29T08:25:45.769407Z",
     "start_time": "2023-06-29T08:25:44.950604Z"
    }
   }
  },
  {
   "cell_type": "code",
   "execution_count": 109,
   "outputs": [
    {
     "name": "stdout",
     "output_type": "stream",
     "text": [
      "before calling inner_function b= 20\n",
      "before calling inner_function c= 300\n",
      "changing global b value 10\n",
      "changing nonlocal c value 300\n",
      "b = 3028932846923\n",
      "c = 5050505\n",
      "after calling inner_function b= 20\n",
      "after calling inner_function c= 5050505\n",
      "b = 3028932846923\n",
      "c = 100\n"
     ]
    }
   ],
   "source": [
    "b = 10\n",
    "c = 100\n",
    "\n",
    "\n",
    "def outer_function2():\n",
    "    b = 20\n",
    "    c = 300\n",
    "\n",
    "    def inner_function():\n",
    "        global b\n",
    "        print('changing global b value', b)\n",
    "        b = 3028932846923\n",
    "        nonlocal c\n",
    "        print('changing nonlocal c value', c)\n",
    "        c = 5050505\n",
    "        print('b =', b)\n",
    "        print('c =', c)\n",
    "\n",
    "    print('before calling inner_function b=', b)\n",
    "    print('before calling inner_function c=', c)\n",
    "    inner_function()\n",
    "    print('after calling inner_function b=', b)\n",
    "    print('after calling inner_function c=', c)\n",
    "\n",
    "\n",
    "outer_function2()\n",
    "print('b =', b)\n",
    "print('c =', c)"
   ],
   "metadata": {
    "collapsed": false,
    "ExecuteTime": {
     "end_time": "2023-06-29T08:25:45.769552Z",
     "start_time": "2023-06-29T08:25:44.959418Z"
    }
   }
  },
  {
   "cell_type": "markdown",
   "source": [
    "## Global variables\n",
    "\n",
    "![image30](./images/016.png)"
   ],
   "metadata": {
    "collapsed": false
   }
  },
  {
   "cell_type": "code",
   "execution_count": 110,
   "outputs": [
    {
     "name": "stdout",
     "output_type": "stream",
     "text": [
      "Before calling funct2:  20\n",
      "Calling funct2 now\n",
      "After calling funct2:  20\n",
      "x in main :  25\n"
     ]
    }
   ],
   "source": [
    "def funct1():\n",
    "    x = 20\n",
    "\n",
    "    def funct2():\n",
    "        global x\n",
    "        # Global keyword is used to modify a global variable\n",
    "        x = 25\n",
    "\n",
    "    print(\"Before calling funct2: \", x)\n",
    "    print(\"Calling funct2 now\")\n",
    "    funct2()\n",
    "    print(\"After calling funct2: \", x)\n",
    "\n",
    "\n",
    "funct1()\n",
    "print(\"x in main : \", x)"
   ],
   "metadata": {
    "collapsed": false,
    "ExecuteTime": {
     "end_time": "2023-06-29T08:25:45.769693Z",
     "start_time": "2023-06-29T08:25:44.965189Z"
    }
   }
  },
  {
   "cell_type": "markdown",
   "source": [
    "# Iterators\n",
    "\n",
    "![image31](./images/017.png)"
   ],
   "metadata": {
    "collapsed": false
   }
  },
  {
   "cell_type": "code",
   "execution_count": 111,
   "outputs": [
    {
     "name": "stdout",
     "output_type": "stream",
     "text": [
      "44\n",
      "77\n",
      "11\n",
      "33\n"
     ]
    }
   ],
   "source": [
    "#defining a list\n",
    "our_list = [44, 77, 11, 33]\n",
    "# get an iterator using iter() method\n",
    "our_iter = iter(our_list)\n",
    "## iterate through it using next() method\n",
    "# prints 44\n",
    "print(next(our_iter))\n",
    "# prints 77\n",
    "print(next(our_iter))\n",
    "## next(obj) is same as calling obj.__next__() method\n",
    "# prints 11\n",
    "print(our_iter.__next__())\n",
    "# prints 33\n",
    "print(our_iter.__next__())\n",
    "# This will raise error, no items left\n",
    "# print (our_iter.__next__())"
   ],
   "metadata": {
    "collapsed": false,
    "ExecuteTime": {
     "end_time": "2023-06-29T08:25:45.769831Z",
     "start_time": "2023-06-29T08:25:44.971944Z"
    }
   }
  },
  {
   "cell_type": "code",
   "execution_count": 112,
   "outputs": [
    {
     "name": "stdout",
     "output_type": "stream",
     "text": [
      "Class to implement an iterator\n",
      "    of powers of two\n",
      "1\n",
      "2\n",
      "4\n",
      "8\n",
      "16\n"
     ]
    }
   ],
   "source": [
    "#Creating a custom iterrator\n",
    "class Pow_of_Two:\n",
    "    '''Class to implement an iterator\n",
    "    of powers of two'''\n",
    "\n",
    "    def __init__(self, max=0):\n",
    "        self.max = max\n",
    "\n",
    "    def __iter__(self):\n",
    "        self.n = 0\n",
    "        self.constant_number = 2\n",
    "        return self\n",
    "\n",
    "    def __next__(self):\n",
    "        if self.n <= self.max:\n",
    "            result = self.constant_number ** self.n\n",
    "            self.n += 1\n",
    "            return result\n",
    "        else:\n",
    "            raise StopIteration\n",
    "\n",
    "\n",
    "print(Pow_of_Two.__doc__)\n",
    "a = Pow_of_Two(4)  # create an object # 4 is the max value\n",
    "i = iter(a)  # create an iterable object\n",
    "print(next(i))  # print the first item from the iterator\n",
    "print(next(i))  # print the next item from the iterator\n",
    "print(next(i))  # print the next item from the iterator\n",
    "print(next(i))  # print the next item from the iterator\n",
    "print(next(i))  # print the last item from the iterator"
   ],
   "metadata": {
    "collapsed": false,
    "ExecuteTime": {
     "end_time": "2023-06-29T08:25:45.769967Z",
     "start_time": "2023-06-29T08:25:44.976429Z"
    }
   }
  },
  {
   "cell_type": "code",
   "execution_count": 113,
   "outputs": [
    {
     "name": "stdout",
     "output_type": "stream",
     "text": [
      "1\n",
      "3\n",
      "5\n",
      "7\n"
     ]
    }
   ],
   "source": [
    "#Creating an infinite iterator\n",
    "class InfIter:\n",
    "    '''Infinite iterator to return all\n",
    "        odd numbers'''\n",
    "\n",
    "    def __iter__(self):\n",
    "        self.num = 1\n",
    "        return self\n",
    "\n",
    "    def __next__(self):\n",
    "        num = self.num\n",
    "        self.num += 2\n",
    "        return num\n",
    "\n",
    "\n",
    "a = iter(InfIter())\n",
    "print(next(a))\n",
    "print(next(a))\n",
    "print(next(a))\n",
    "print(next(a))\n"
   ],
   "metadata": {
    "collapsed": false,
    "ExecuteTime": {
     "end_time": "2023-06-29T08:25:45.770101Z",
     "start_time": "2023-06-29T08:25:44.988732Z"
    }
   }
  },
  {
   "cell_type": "markdown",
   "source": [
    "# Iterations using for loop\n",
    "\n",
    "![image32](./images/018.png)"
   ],
   "metadata": {
    "collapsed": false
   }
  },
  {
   "cell_type": "markdown",
   "source": [
    "![image33](./images/018-01.png)"
   ],
   "metadata": {
    "collapsed": false
   }
  },
  {
   "cell_type": "markdown",
   "source": [
    "![image34](./images/018-02.png)"
   ],
   "metadata": {
    "collapsed": false
   }
  },
  {
   "cell_type": "code",
   "execution_count": 114,
   "outputs": [
    {
     "name": "stdout",
     "output_type": "stream",
     "text": [
      "1 hello\n",
      "2 hello\n",
      "3 hello\n",
      "4 hello\n",
      "5 hello\n",
      "6 hello\n",
      "7 hello\n",
      "8 hello\n",
      "9 hello\n",
      "10 hello\n"
     ]
    }
   ],
   "source": [
    "# Printing all the elements present in a set\n",
    "a = [1, 2, 3, 4, 5, 6, 7, 8, 9, 10]\n",
    "for i in a:\n",
    "    print(i, end=\" \")\n",
    "    print(\"hello\")"
   ],
   "metadata": {
    "collapsed": false,
    "ExecuteTime": {
     "end_time": "2023-06-29T08:25:45.770236Z",
     "start_time": "2023-06-29T08:25:44.994830Z"
    }
   }
  },
  {
   "cell_type": "code",
   "execution_count": 115,
   "outputs": [
    {
     "name": "stdout",
     "output_type": "stream",
     "text": [
      "6\n",
      "8\n",
      "10\n"
     ]
    }
   ],
   "source": [
    "# Using range in for Loop\n",
    "for i in range(6, 11, 2):\n",
    "    print(i)"
   ],
   "metadata": {
    "collapsed": false,
    "ExecuteTime": {
     "end_time": "2023-06-29T08:25:45.770369Z",
     "start_time": "2023-06-29T08:25:44.999885Z"
    }
   }
  },
  {
   "cell_type": "code",
   "execution_count": 116,
   "outputs": [
    {
     "name": "stdout",
     "output_type": "stream",
     "text": [
      "11\n",
      "12\n",
      "13\n",
      "14\n",
      "15\n",
      "Printing Completed!\n"
     ]
    }
   ],
   "source": [
    "# Using for Loop for printing the values present in the # tuple and using the else command in the for Loop\n",
    "b = (11, 12, 13, 14, 15)\n",
    "for i in b:\n",
    "    print(i)\n",
    "else:\n",
    "    print(\"Printing Completed!\")"
   ],
   "metadata": {
    "collapsed": false,
    "ExecuteTime": {
     "end_time": "2023-06-29T08:25:45.770504Z",
     "start_time": "2023-06-29T08:25:45.006101Z"
    }
   }
  },
  {
   "cell_type": "markdown",
   "source": [
    "# Inheritance\n",
    "\n",
    "![image35](./images/019.png)"
   ],
   "metadata": {
    "collapsed": false
   }
  },
  {
   "cell_type": "code",
   "execution_count": 117,
   "outputs": [],
   "source": [
    "# Creating Class and Object in Python\n",
    "class MyBird:\n",
    "    def __init__(self):\n",
    "        print(\"myBird class constructor is executing...\")\n",
    "\n",
    "    def whatType(self):\n",
    "        print(\"I am a Bird...\")\n",
    "\n",
    "    def canSwim(self):\n",
    "        print(\"I can Swim...\")\n"
   ],
   "metadata": {
    "collapsed": false,
    "ExecuteTime": {
     "end_time": "2023-06-29T08:25:45.770580Z",
     "start_time": "2023-06-29T08:25:45.011661Z"
    }
   }
  },
  {
   "cell_type": "code",
   "execution_count": 118,
   "outputs": [],
   "source": [
    "#myPenguin class inheriting the attributes from the myBird class\n",
    "class myPenguin(MyBird):\n",
    "    def __init__(self):\n",
    "        # call super() function\n",
    "        super().__init__()\n",
    "        print(\"myPenguin class constructor is executing...\")\n",
    "\n",
    "    def whoisThis(self):\n",
    "        print(\"I am Penguin...\")\n",
    "\n",
    "    def canRun(self):\n",
    "        print(\"I can run faster...\")"
   ],
   "metadata": {
    "collapsed": false,
    "ExecuteTime": {
     "end_time": "2023-06-29T08:25:45.770656Z",
     "start_time": "2023-06-29T08:25:45.017577Z"
    }
   }
  },
  {
   "cell_type": "code",
   "execution_count": 119,
   "outputs": [
    {
     "name": "stdout",
     "output_type": "stream",
     "text": [
      "myBird class constructor is executing...\n",
      "myPenguin class constructor is executing...\n",
      "I am a Bird...\n",
      "I am Penguin...\n",
      "I can Swim...\n",
      "I can run faster...\n"
     ]
    }
   ],
   "source": [
    "# Accessing the child class's attributes (Inheritance)\n",
    "pg1 = myPenguin()\n",
    "pg1.whatType()  #defined in myBird class\n",
    "pg1.whoisThis()  #defined in myPenguin class\n",
    "pg1.canSwim()  #defined in myBird class\n",
    "pg1.canRun()  #defined in myPenguin class"
   ],
   "metadata": {
    "collapsed": false,
    "ExecuteTime": {
     "end_time": "2023-06-29T08:25:45.770788Z",
     "start_time": "2023-06-29T08:25:45.022819Z"
    }
   }
  },
  {
   "cell_type": "code",
   "execution_count": 120,
   "outputs": [],
   "source": [
    "# Polymorphism\n",
    "class MyParrot:\n",
    "    def canFly(self):\n",
    "        print(\"Parrot can fly...\\n\")\n",
    "\n",
    "    def canSwim(self):\n",
    "        print(\"Parrot can't swim...\\n\")"
   ],
   "metadata": {
    "collapsed": false,
    "ExecuteTime": {
     "end_time": "2023-06-29T08:25:45.770864Z",
     "start_time": "2023-06-29T08:25:45.029208Z"
    }
   }
  },
  {
   "cell_type": "code",
   "execution_count": 121,
   "outputs": [],
   "source": [
    "class MyPenguin:\n",
    "    def canFly(self):\n",
    "        print(\"Penguin can't fly...\\n\")\n",
    "\n",
    "    def canSwim(self):\n",
    "        print(\"Penguin can swim...\\n\")"
   ],
   "metadata": {
    "collapsed": false,
    "ExecuteTime": {
     "end_time": "2023-06-29T08:25:45.770937Z",
     "start_time": "2023-06-29T08:25:45.059296Z"
    }
   }
  },
  {
   "cell_type": "code",
   "execution_count": 122,
   "outputs": [],
   "source": [
    "# common interface\n",
    "def flying_bird_test(bird):\n",
    "    bird.canFly()\n",
    "    bird.canSwim()"
   ],
   "metadata": {
    "collapsed": false,
    "ExecuteTime": {
     "end_time": "2023-06-29T08:25:45.771011Z",
     "start_time": "2023-06-29T08:25:45.067829Z"
    }
   }
  },
  {
   "cell_type": "code",
   "execution_count": 123,
   "outputs": [
    {
     "name": "stdout",
     "output_type": "stream",
     "text": [
      "Parrot can fly...\n",
      "\n",
      "Parrot can't swim...\n",
      "\n",
      "Penguin can't fly...\n",
      "\n",
      "Penguin can swim...\n",
      "\n"
     ]
    }
   ],
   "source": [
    "# instantiate objects\n",
    "bird_parrot = MyParrot()\n",
    "bird_penguin = MyPenguin()\n",
    "#passing the object\n",
    "flying_bird_test(bird_parrot)\n",
    "flying_bird_test(bird_penguin)"
   ],
   "metadata": {
    "collapsed": false,
    "ExecuteTime": {
     "end_time": "2023-06-29T08:25:45.771142Z",
     "start_time": "2023-06-29T08:25:45.073696Z"
    }
   }
  },
  {
   "cell_type": "markdown",
   "source": [
    "# Multiple Inheritance\n",
    "\n",
    "![image36](./images/020.png)"
   ],
   "metadata": {
    "collapsed": false
   }
  },
  {
   "cell_type": "code",
   "execution_count": 124,
   "outputs": [],
   "source": [
    "# Multiple Inheritance\n",
    "class Basel:\n",
    "    pass\n",
    "class Base2:\n",
    "    pass\n",
    "class MultiDerived (Basel, Base2):\n",
    "    pass"
   ],
   "metadata": {
    "collapsed": false,
    "ExecuteTime": {
     "end_time": "2023-06-29T08:25:45.771218Z",
     "start_time": "2023-06-29T08:25:45.079790Z"
    }
   }
  },
  {
   "cell_type": "code",
   "execution_count": 125,
   "outputs": [],
   "source": [
    "# Multiple Inheritance\n",
    "class Base1:\n",
    "    def funcBasel (self):\n",
    "        print(\"funcBase1() is executing...\")\n",
    "\n",
    "class Base2:\n",
    "    def funcBase2(self):\n",
    "        print(\"funcBase2() is executing...\")\n",
    "\n",
    "class Base3:\n",
    "    def funcBase3 (self):\n",
    "        print(\"funcBase3() is executing...\")\n",
    "\n",
    "class MultiDerived (Base1, Base2, Base3):\n",
    "    def funcMultiDerived(self):\n",
    "        print(\"funcMultiDerived() is executing...\")"
   ],
   "metadata": {
    "collapsed": false,
    "ExecuteTime": {
     "end_time": "2023-06-29T08:25:45.771290Z",
     "start_time": "2023-06-29T08:25:45.086002Z"
    }
   }
  },
  {
   "cell_type": "code",
   "execution_count": 126,
   "outputs": [
    {
     "name": "stdout",
     "output_type": "stream",
     "text": [
      "funcBase1() is executing...\n",
      "funcBase2() is executing...\n",
      "funcBase3() is executing...\n",
      "funcMultiDerived() is executing...\n"
     ]
    }
   ],
   "source": [
    "# Creating an object of the derived class\n",
    "objMD = MultiDerived()\n",
    "objMD.funcBasel()\n",
    "objMD.funcBase2()\n",
    "objMD.funcBase3()\n",
    "objMD.funcMultiDerived()"
   ],
   "metadata": {
    "collapsed": false,
    "ExecuteTime": {
     "end_time": "2023-06-29T08:25:45.771422Z",
     "start_time": "2023-06-29T08:25:45.088965Z"
    }
   }
  }
 ],
 "metadata": {
  "kernelspec": {
   "display_name": "Python 3 (ipykernel)",
   "language": "python",
   "name": "python3"
  },
  "language_info": {
   "codemirror_mode": {
    "name": "ipython",
    "version": 3
   },
   "file_extension": ".py",
   "mimetype": "text/x-python",
   "name": "python",
   "nbconvert_exporter": "python",
   "pygments_lexer": "ipython3",
   "version": "3.10.11"
  }
 },
 "nbformat": 4,
 "nbformat_minor": 4
}
