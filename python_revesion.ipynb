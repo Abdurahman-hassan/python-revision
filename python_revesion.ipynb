{
 "cells": [
  {
   "cell_type": "markdown",
   "source": [
    "![image1](images/001.png)"
   ],
   "metadata": {
    "collapsed": false
   }
  },
  {
   "cell_type": "markdown",
   "metadata": {},
   "source": []
  },
  {
   "cell_type": "markdown",
   "metadata": {},
   "source": [
    "![image2](./images/001-01.png)"
   ]
  },
  {
   "cell_type": "code",
   "execution_count": 29,
   "metadata": {
    "ExecuteTime": {
     "end_time": "2023-07-04T12:29:12.812381Z",
     "start_time": "2023-07-04T12:29:08.959781Z"
    }
   },
   "outputs": [
    {
     "name": "stdout",
     "output_type": "stream",
     "text": [
      "3.14\n",
      "9.8\n"
     ]
    }
   ],
   "source": [
    "# Declaring and assigning value to constants\n",
    "PI = 3.14\n",
    "GRAVITY = 9.8\n",
    "print(PI)\n",
    "print(GRAVITY)"
   ]
  },
  {
   "cell_type": "code",
   "execution_count": 30,
   "outputs": [
    {
     "name": "stdout",
     "output_type": "stream",
     "text": [
      "Apple\n",
      "Aeroplane\n",
      "100\n",
      "1 2.5 Hello\n",
      "6 6 6\n"
     ]
    }
   ],
   "source": [
    "#Declaring and assigning value to a variable\n",
    "a = \"Apple\"\n",
    "print(a)\n",
    "# Changing value of a variable\n",
    "a = \"Aeroplane\"\n",
    "print(a)\n",
    "a = 100\n",
    "print(a)\n",
    "#Assigning Multiple values to a variable\n",
    "b, c, d = 1, 2.5, \"Hello\"\n",
    "print(b, c, d)\n",
    "#Assigning same value to multiple variables\n",
    "b = c = d = 6\n",
    "print(b, c, d)"
   ],
   "metadata": {
    "collapsed": false,
    "ExecuteTime": {
     "end_time": "2023-07-04T12:29:12.812895Z",
     "start_time": "2023-07-04T12:29:08.966606Z"
    }
   }
  },
  {
   "cell_type": "markdown",
   "source": [
    "![image3](./images/002.png)"
   ],
   "metadata": {
    "collapsed": false
   }
  },
  {
   "cell_type": "code",
   "execution_count": 31,
   "outputs": [],
   "source": [
    "class MyComplexNumber:\n",
    "    # Constructor methods\n",
    "    def __init__(self, real=0, imag=0):\n",
    "        print(\"MyComplexNumber constructor executing...\")\n",
    "        self.real_part = real\n",
    "        self.imag_part = imag\n",
    "\n",
    "    def displayComplex(self): print(\"{0} + {1}j\".format(self.real_part, self.imag_part))"
   ],
   "metadata": {
    "collapsed": false,
    "ExecuteTime": {
     "end_time": "2023-07-04T12:29:14.764613Z",
     "start_time": "2023-07-04T12:29:09.021761Z"
    }
   }
  },
  {
   "cell_type": "code",
   "execution_count": 32,
   "outputs": [
    {
     "name": "stdout",
     "output_type": "stream",
     "text": [
      "MyComplexNumber constructor executing...\n",
      "20 + 80j\n"
     ]
    }
   ],
   "source": [
    "# Create a new object against MyComplexNumber class\n",
    "cmp1x1 = MyComplexNumber(20, 80)\n",
    "# Calling displayComplex() function\n",
    "#Output: 40 + 50j\n",
    "cmp1x1.displayComplex()"
   ],
   "metadata": {
    "collapsed": false,
    "ExecuteTime": {
     "end_time": "2023-07-04T12:29:14.806067Z",
     "start_time": "2023-07-04T12:29:09.026866Z"
    }
   }
  },
  {
   "cell_type": "code",
   "execution_count": 33,
   "outputs": [
    {
     "name": "stdout",
     "output_type": "stream",
     "text": [
      "MyComplexNumber constructor executing...\n",
      "60 + 70j\n",
      "(60, 70, 80)\n"
     ]
    }
   ],
   "source": [
    "# Create another object against MyComplexNumber class\n",
    "# and create a new attribute 'new_attribute'\n",
    "cmp1x2 = MyComplexNumber(60, 70)\n",
    "cmp1x2.new_attribute = 80\n",
    "cmp1x2.displayComplex()\n",
    "#Output: (60, 70, 80)\n",
    "print((cmp1x2.real_part, cmp1x2.imag_part, cmp1x2.new_attribute))"
   ],
   "metadata": {
    "collapsed": false,
    "ExecuteTime": {
     "end_time": "2023-07-04T12:29:14.806581Z",
     "start_time": "2023-07-04T12:29:09.030839Z"
    }
   }
  },
  {
   "cell_type": "code",
   "execution_count": 34,
   "outputs": [],
   "source": [
    "# but cmp1x1 object doesn't have attribute 'new_attribute' # AttributeError: 'MyComplexNumber' object has no attribute 'new_attribute'\n",
    "# cmp1x1.new_attribute\n",
    "# print(cmp1x1)"
   ],
   "metadata": {
    "collapsed": false,
    "ExecuteTime": {
     "end_time": "2023-07-04T12:29:14.806783Z",
     "start_time": "2023-07-04T12:29:09.037006Z"
    }
   }
  },
  {
   "cell_type": "code",
   "execution_count": 35,
   "outputs": [
    {
     "name": "stdout",
     "output_type": "stream",
     "text": [
      "<__main__.MyComplexNumber object at 0x10f06a150>\n"
     ]
    }
   ],
   "source": [
    "# Deleting object attributes and the object\n",
    "print(cmp1x1)\n",
    "del cmp1x1.real_part\n",
    "del cmp1x1"
   ],
   "metadata": {
    "collapsed": false,
    "ExecuteTime": {
     "end_time": "2023-07-04T12:29:14.807137Z",
     "start_time": "2023-07-04T12:29:09.042959Z"
    }
   }
  },
  {
   "cell_type": "code",
   "execution_count": 36,
   "outputs": [],
   "source": [
    "# print(cmp1x1) # output NameError: name 'cmp1x1' is not defined"
   ],
   "metadata": {
    "collapsed": false,
    "ExecuteTime": {
     "end_time": "2023-07-04T12:29:14.807328Z",
     "start_time": "2023-07-04T12:29:09.047519Z"
    }
   }
  },
  {
   "cell_type": "markdown",
   "source": [
    "![image4](./images/003.png)"
   ],
   "metadata": {
    "collapsed": false
   }
  },
  {
   "cell_type": "code",
   "execution_count": 37,
   "outputs": [
    {
     "name": "stdout",
     "output_type": "stream",
     "text": [
      "[10, 20, 30, 40, 50]\n",
      "10\n",
      "20\n",
      "30\n",
      "50\n",
      "40\n"
     ]
    }
   ],
   "source": [
    "# Defining and declaring and array\n",
    "arr = [10, 20, 30, 40, 50]\n",
    "print(arr)\n",
    "#Accessing Array elements\n",
    "print(arr[0])\n",
    "print(arr[1])\n",
    "print(arr[2])\n",
    "print(arr[-1])  # Negative Indexing\n",
    "print(arr[-2])  # Negative Indexing"
   ],
   "metadata": {
    "collapsed": false,
    "ExecuteTime": {
     "end_time": "2023-07-04T12:29:15.023219Z",
     "start_time": "2023-07-04T12:29:09.079878Z"
    }
   }
  },
  {
   "cell_type": "code",
   "execution_count": 38,
   "outputs": [
    {
     "name": "stdout",
     "output_type": "stream",
     "text": [
      "['Tesla', 'Apple', 'Google', 'Microsoft', 'Toyota']\n",
      "5\n",
      "['Tesla', 'Apple', 'Google', 'Microsoft', 'Toyota', 'Intel']\n"
     ]
    }
   ],
   "source": [
    "brands = [\"Tesla\", \"Apple\", \"Google\", \"Microsoft\", \"Toyota\"]\n",
    "print(brands)\n",
    "# Finding the Length of the array\n",
    "num_brands = len(brands)\n",
    "print(num_brands)\n",
    "# Adding an element to an array using append()\n",
    "brands.append(\"Intel\")\n",
    "print(brands)"
   ],
   "metadata": {
    "collapsed": false,
    "ExecuteTime": {
     "end_time": "2023-07-04T12:29:15.023674Z",
     "start_time": "2023-07-04T12:29:09.085975Z"
    }
   }
  },
  {
   "cell_type": "code",
   "execution_count": 39,
   "outputs": [
    {
     "name": "stdout",
     "output_type": "stream",
     "text": [
      "['violet', 'indigo', 'blue', 'green', 'yellow', 'orange', 'red']\n",
      "['violet', 'indigo', 'blue', 'green', 'orange', 'red']\n",
      "['violet', 'indigo', 'green', 'orange', 'red']\n",
      "['violet', 'indigo', 'green', 'red']\n"
     ]
    }
   ],
   "source": [
    "#Removing elements from an array\n",
    "colors = [\"violet\", \"indigo\", \"blue\", \"green\", \"yellow\", \"orange\", \"red\"]\n",
    "print(colors)\n",
    "\n",
    "del colors[4]\n",
    "print(colors)\n",
    "\n",
    "colors.remove(\"blue\")\n",
    "print(colors)\n",
    "\n",
    "colors.pop(3)\n",
    "print(colors)"
   ],
   "metadata": {
    "collapsed": false,
    "ExecuteTime": {
     "end_time": "2023-07-04T12:29:15.024064Z",
     "start_time": "2023-07-04T12:29:09.092460Z"
    }
   }
  },
  {
   "cell_type": "code",
   "execution_count": 40,
   "outputs": [
    {
     "name": "stdout",
     "output_type": "stream",
     "text": [
      "['Apple', 'Banana', 'Mango', 'Grapes', 'Orange']\n",
      "['Apple', 'Pineapple', 'Mango', 'Grapes', 'Orange']\n",
      "['Apple', 'Pineapple', 'Mango', 'Grapes', 'Guava']\n"
     ]
    }
   ],
   "source": [
    "# Modifying elements of an array using indexing\n",
    "fruits = [\"Apple\", \"Banana\", \"Mango\", \"Grapes\", \"Orange\"]\n",
    "print(fruits)\n",
    "\n",
    "fruits[1] = \"Pineapple\"\n",
    "print(fruits)\n",
    "\n",
    "fruits[-1] = \"Guava\"\n",
    "print(fruits)"
   ],
   "metadata": {
    "collapsed": false,
    "ExecuteTime": {
     "end_time": "2023-07-04T12:29:15.024403Z",
     "start_time": "2023-07-04T12:29:09.099556Z"
    }
   }
  },
  {
   "cell_type": "code",
   "execution_count": 41,
   "outputs": [
    {
     "name": "stdout",
     "output_type": "stream",
     "text": [
      "[1, 2, 3]\n",
      "[1, 2, 3]\n",
      "[1, 2, 3, 4, 5, 6]\n"
     ]
    }
   ],
   "source": [
    "# Concatenating two arrays using the + operator\n",
    "concat = [1, 2, 3]\n",
    "print(concat)\n",
    "\n",
    "concat + [4, 5, 6]\n",
    "print(concat)\n",
    "\n",
    "concat += [4, 5, 6]\n",
    "print(concat)"
   ],
   "metadata": {
    "collapsed": false,
    "ExecuteTime": {
     "end_time": "2023-07-04T12:29:15.024740Z",
     "start_time": "2023-07-04T12:29:09.105392Z"
    }
   }
  },
  {
   "cell_type": "code",
   "execution_count": 42,
   "outputs": [
    {
     "name": "stdout",
     "output_type": "stream",
     "text": [
      "['a']\n",
      "['a', 'a', 'a', 'a', 'a']\n"
     ]
    }
   ],
   "source": [
    "# Repeating element in an array\n",
    "repeat = [\"a\"]\n",
    "print(repeat)\n",
    "\n",
    "repeat *= 5\n",
    "print(repeat)"
   ],
   "metadata": {
    "collapsed": false,
    "ExecuteTime": {
     "end_time": "2023-07-04T12:29:15.025178Z",
     "start_time": "2023-07-04T12:29:09.110607Z"
    }
   }
  },
  {
   "cell_type": "code",
   "execution_count": 43,
   "outputs": [
    {
     "name": "stdout",
     "output_type": "stream",
     "text": [
      "['Apple', 'Banana', 'Mango', 'Grapes', 'Orange']\n",
      "['Banana', 'Mango', 'Grapes']\n",
      "['Apple', 'Banana', 'Mango']\n",
      "['Banana', 'Mango', 'Grapes', 'Orange']\n",
      "['Mango', 'Grapes']\n"
     ]
    }
   ],
   "source": [
    "#Slicing an array\n",
    "fruits = [\"Apple\", \"Banana\", \"Mango\", \"Grapes\", \"Orange\"]\n",
    "print(fruits)\n",
    "print(fruits[1:4])\n",
    "print(fruits[:3])\n",
    "print(fruits[-4:])\n",
    "print(fruits[-3:-1])"
   ],
   "metadata": {
    "collapsed": false,
    "ExecuteTime": {
     "end_time": "2023-07-04T12:29:15.025662Z",
     "start_time": "2023-07-04T12:29:09.116304Z"
    }
   }
  },
  {
   "cell_type": "code",
   "execution_count": 44,
   "outputs": [
    {
     "name": "stdout",
     "output_type": "stream",
     "text": [
      "[[1, 2], [3, 4], [5, 6], [7, 8]]\n",
      "[1, 2]\n",
      "[7, 8]\n",
      "6\n",
      "7\n"
     ]
    }
   ],
   "source": [
    "# Declaring and defining multidimensional array\n",
    "mult_d_arr = [[1, 2], [3, 4], [5, 6], [7, 8]]\n",
    "print(mult_d_arr)\n",
    "print(mult_d_arr[0])\n",
    "print(mult_d_arr[3])\n",
    "print(mult_d_arr[2][1])\n",
    "print(mult_d_arr[3][0])"
   ],
   "metadata": {
    "collapsed": false,
    "ExecuteTime": {
     "end_time": "2023-07-04T12:29:15.026084Z",
     "start_time": "2023-07-04T12:29:09.120517Z"
    }
   }
  },
  {
   "cell_type": "markdown",
   "source": [
    "# File methods\n",
    "\n",
    "![image5](./images/004.png)"
   ],
   "metadata": {
    "collapsed": false
   }
  },
  {
   "cell_type": "markdown",
   "source": [
    "![image6](./images/004-01.png)"
   ],
   "metadata": {
    "collapsed": false
   }
  },
  {
   "cell_type": "markdown",
   "source": [
    "# Keywords and identifiers\n",
    "\n",
    "![image7](./images/005.png)"
   ],
   "metadata": {
    "collapsed": false
   }
  },
  {
   "cell_type": "markdown",
   "source": [
    "![image8](./images/005-01.png)"
   ],
   "metadata": {
    "collapsed": false
   }
  },
  {
   "cell_type": "markdown",
   "source": [
    "![image9](./images/005-02.png)"
   ],
   "metadata": {
    "collapsed": false
   }
  },
  {
   "cell_type": "code",
   "execution_count": 45,
   "outputs": [
    {
     "name": "stdout",
     "output_type": "stream",
     "text": [
      "True\n",
      "False\n"
     ]
    }
   ],
   "source": [
    "# True False\n",
    "print(5 == 5)\n",
    "print(5 > 5)\n"
   ],
   "metadata": {
    "collapsed": false,
    "ExecuteTime": {
     "end_time": "2023-07-04T12:29:15.743349Z",
     "start_time": "2023-07-04T12:29:09.366219Z"
    }
   }
  },
  {
   "cell_type": "code",
   "execution_count": 46,
   "outputs": [
    {
     "name": "stdout",
     "output_type": "stream",
     "text": [
      "False\n",
      "False\n",
      "False\n",
      "True\n"
     ]
    }
   ],
   "source": [
    "# None\n",
    "print(None == 0)\n",
    "print(None == False)\n",
    "print(None == [])\n",
    "print(None == None)"
   ],
   "metadata": {
    "collapsed": false,
    "ExecuteTime": {
     "end_time": "2023-07-04T12:29:15.743672Z",
     "start_time": "2023-07-04T12:29:09.372537Z"
    }
   }
  },
  {
   "cell_type": "code",
   "execution_count": 47,
   "outputs": [
    {
     "name": "stdout",
     "output_type": "stream",
     "text": [
      "None\n"
     ]
    }
   ],
   "source": [
    "def a_void_function():\n",
    "    a = 1\n",
    "    b = 2\n",
    "    c = a + b\n",
    "    # return c\n",
    "\n",
    "\n",
    "x = a_void_function()\n",
    "print(x)"
   ],
   "metadata": {
    "collapsed": false,
    "ExecuteTime": {
     "end_time": "2023-07-04T12:29:15.744012Z",
     "start_time": "2023-07-04T12:29:09.376442Z"
    }
   }
  },
  {
   "cell_type": "code",
   "execution_count": 48,
   "outputs": [
    {
     "name": "stdout",
     "output_type": "stream",
     "text": [
      "False\n",
      "True\n",
      "True\n",
      "True\n",
      "True\n",
      "False\n"
     ]
    }
   ],
   "source": [
    "# and, or, not\n",
    "print(True and False)\n",
    "print(True or False)\n",
    "print(not False)\n",
    "print(True and True)\n",
    "print(True or True)\n",
    "print(not True)"
   ],
   "metadata": {
    "collapsed": false,
    "ExecuteTime": {
     "end_time": "2023-07-04T12:29:15.744471Z",
     "start_time": "2023-07-04T12:29:09.380106Z"
    }
   }
  },
  {
   "cell_type": "code",
   "execution_count": 49,
   "outputs": [
    {
     "name": "stdout",
     "output_type": "stream",
     "text": [
      "-1.0\n"
     ]
    }
   ],
   "source": [
    "# as\n",
    "import math as my_math\n",
    "\n",
    "print(my_math.cos(my_math.pi))"
   ],
   "metadata": {
    "collapsed": false,
    "ExecuteTime": {
     "end_time": "2023-07-04T12:29:15.744832Z",
     "start_time": "2023-07-04T12:29:09.384151Z"
    }
   }
  },
  {
   "cell_type": "code",
   "execution_count": 50,
   "outputs": [],
   "source": [
    "# assertion\n",
    "\n",
    "# assert 5 > 5 # output AssertionError\n",
    "assert 5 == 5"
   ],
   "metadata": {
    "collapsed": false,
    "ExecuteTime": {
     "end_time": "2023-07-04T12:29:15.745158Z",
     "start_time": "2023-07-04T12:29:09.387935Z"
    }
   }
  },
  {
   "cell_type": "code",
   "execution_count": 51,
   "outputs": [
    {
     "name": "stdout",
     "output_type": "stream",
     "text": [
      "1\n",
      "2\n",
      "3\n",
      "4\n"
     ]
    }
   ],
   "source": [
    "# break\n",
    "for i in range(1, 11):\n",
    "    if i == 5:\n",
    "        break\n",
    "    print(i)"
   ],
   "metadata": {
    "collapsed": false,
    "ExecuteTime": {
     "end_time": "2023-07-04T12:29:15.745525Z",
     "start_time": "2023-07-04T12:29:09.391035Z"
    }
   }
  },
  {
   "cell_type": "code",
   "execution_count": 52,
   "outputs": [
    {
     "name": "stdout",
     "output_type": "stream",
     "text": [
      "1\n",
      "2\n",
      "3\n",
      "4\n",
      "6\n",
      "7\n"
     ]
    }
   ],
   "source": [
    "# continue\n",
    "for i in range(1, 8):\n",
    "    if i == 5:\n",
    "        continue\n",
    "    print(i)"
   ],
   "metadata": {
    "collapsed": false,
    "ExecuteTime": {
     "end_time": "2023-07-04T12:29:15.745853Z",
     "start_time": "2023-07-04T12:29:09.396071Z"
    }
   }
  },
  {
   "cell_type": "code",
   "execution_count": 53,
   "outputs": [
    {
     "name": "stdout",
     "output_type": "stream",
     "text": [
      "function1() executing...\n",
      "function2() executing...\n"
     ]
    }
   ],
   "source": [
    "# class\n",
    "class ExampleClass:\n",
    "    def function1(parameters):\n",
    "        print(\"function1() executing...\")\n",
    "\n",
    "    def function2(parameters):\n",
    "        print(\"function2() executing...\")\n",
    "\n",
    "\n",
    "ob1 = ExampleClass()\n",
    "ob1.function1()\n",
    "ob1.function2()"
   ],
   "metadata": {
    "collapsed": false,
    "ExecuteTime": {
     "end_time": "2023-07-04T12:29:15.746188Z",
     "start_time": "2023-07-04T12:29:09.401575Z"
    }
   }
  },
  {
   "cell_type": "code",
   "execution_count": 54,
   "outputs": [],
   "source": [
    "# def\n",
    "def function_name(parameters):\n",
    "    pass\n",
    "\n",
    "\n",
    "function_name(10)"
   ],
   "metadata": {
    "collapsed": false,
    "ExecuteTime": {
     "end_time": "2023-07-04T12:29:15.746387Z",
     "start_time": "2023-07-04T12:29:09.409374Z"
    }
   }
  },
  {
   "cell_type": "code",
   "execution_count": 55,
   "outputs": [
    {
     "name": "stdout",
     "output_type": "stream",
     "text": [
      "10\n"
     ]
    }
   ],
   "source": [
    "# del\n",
    "a = 10\n",
    "print(a)\n",
    "del a\n",
    "# print(a) # name 'a' is not defined"
   ],
   "metadata": {
    "collapsed": false,
    "ExecuteTime": {
     "end_time": "2023-07-04T12:29:15.746749Z",
     "start_time": "2023-07-04T12:29:09.413143Z"
    }
   }
  },
  {
   "cell_type": "code",
   "execution_count": 56,
   "outputs": [
    {
     "name": "stdout",
     "output_type": "stream",
     "text": [
      "Two\n"
     ]
    }
   ],
   "source": [
    "# if..elif..else\n",
    "num = 2\n",
    "if num == 1:\n",
    "    print('One')\n",
    "elif num == 2:\n",
    "    print('Two')\n",
    "else:\n",
    "    print('Something else')"
   ],
   "metadata": {
    "collapsed": false,
    "ExecuteTime": {
     "end_time": "2023-07-04T12:29:15.747093Z",
     "start_time": "2023-07-04T12:29:09.418931Z"
    }
   }
  },
  {
   "cell_type": "code",
   "execution_count": 57,
   "outputs": [
    {
     "name": "stdout",
     "output_type": "stream",
     "text": [
      "Execution Successfully\n"
     ]
    }
   ],
   "source": [
    "# try...raise...catch...finally\n",
    "try:\n",
    "    X = 9\n",
    "    #raise ZeroDivisionError # Division cannot be performed #Execution Successfully\n",
    "except ZeroDivisionError:\n",
    "    print(\"Division cannot be performed\")\n",
    "finally:\n",
    "    print(\"Execution Successfully\")  # Execution Successfully"
   ],
   "metadata": {
    "collapsed": false,
    "ExecuteTime": {
     "end_time": "2023-07-04T12:29:15.747450Z",
     "start_time": "2023-07-04T12:29:09.424027Z"
    }
   }
  },
  {
   "cell_type": "code",
   "execution_count": 58,
   "outputs": [
    {
     "name": "stdout",
     "output_type": "stream",
     "text": [
      "1\n",
      "2\n",
      "3\n",
      "4\n",
      "5\n",
      "6\n",
      "7\n",
      "8\n",
      "9\n"
     ]
    }
   ],
   "source": [
    "# for\n",
    "for i in range(1, 10, 1):\n",
    "    print(i)"
   ],
   "metadata": {
    "collapsed": false,
    "ExecuteTime": {
     "end_time": "2023-07-04T12:29:15.747830Z",
     "start_time": "2023-07-04T12:29:09.429221Z"
    }
   }
  },
  {
   "cell_type": "code",
   "execution_count": 59,
   "outputs": [
    {
     "name": "stdout",
     "output_type": "stream",
     "text": [
      "-0.8390715290764524\n"
     ]
    }
   ],
   "source": [
    "# from.. import\n",
    "from math import cos\n",
    "\n",
    "print(cos(10))"
   ],
   "metadata": {
    "collapsed": false,
    "ExecuteTime": {
     "end_time": "2023-07-04T12:29:15.750496Z",
     "start_time": "2023-07-04T12:29:09.434341Z"
    }
   }
  },
  {
   "cell_type": "code",
   "execution_count": 60,
   "outputs": [
    {
     "name": "stdout",
     "output_type": "stream",
     "text": [
      "10\n",
      "5\n",
      "5\n"
     ]
    }
   ],
   "source": [
    "#global\n",
    "globvar = 10\n",
    "\n",
    "\n",
    "def read1():\n",
    "    print(globvar)\n",
    "\n",
    "\n",
    "def write1():\n",
    "    global globvar\n",
    "    globvar = 5\n",
    "\n",
    "\n",
    "def write2():\n",
    "    globvar = 15\n",
    "\n",
    "\n",
    "read1()\n",
    "write1()\n",
    "read1()\n",
    "write2()\n",
    "read1()"
   ],
   "metadata": {
    "collapsed": false,
    "ExecuteTime": {
     "end_time": "2023-07-04T12:29:15.750988Z",
     "start_time": "2023-07-04T12:29:09.440270Z"
    }
   }
  },
  {
   "cell_type": "code",
   "execution_count": 61,
   "outputs": [
    {
     "name": "stdout",
     "output_type": "stream",
     "text": [
      "True\n",
      "True\n"
     ]
    }
   ],
   "source": [
    "# in\n",
    "a = [1, 2, 3, 4]\n",
    "print(4 in a)\n",
    "print(44 not in a)"
   ],
   "metadata": {
    "collapsed": false,
    "ExecuteTime": {
     "end_time": "2023-07-04T12:29:15.751415Z",
     "start_time": "2023-07-04T12:29:09.445800Z"
    }
   }
  },
  {
   "cell_type": "code",
   "execution_count": 62,
   "outputs": [
    {
     "name": "stdout",
     "output_type": "stream",
     "text": [
      "True\n"
     ]
    }
   ],
   "source": [
    "# is\n",
    "print(True is True)"
   ],
   "metadata": {
    "collapsed": false,
    "ExecuteTime": {
     "end_time": "2023-07-04T12:29:15.751721Z",
     "start_time": "2023-07-04T12:29:09.450329Z"
    }
   }
  },
  {
   "cell_type": "code",
   "execution_count": 63,
   "outputs": [
    {
     "name": "stdout",
     "output_type": "stream",
     "text": [
      "1 2\n",
      "2 4\n",
      "3 6\n",
      "4 8\n",
      "5 10\n"
     ]
    }
   ],
   "source": [
    "# lambda\n",
    "a = lambda x: x * 2\n",
    "for i in range(1, 6):\n",
    "    print(i, a(i))"
   ],
   "metadata": {
    "collapsed": false,
    "ExecuteTime": {
     "end_time": "2023-07-04T12:29:15.752061Z",
     "start_time": "2023-07-04T12:29:09.455527Z"
    }
   }
  },
  {
   "cell_type": "code",
   "execution_count": 64,
   "outputs": [
    {
     "name": "stdout",
     "output_type": "stream",
     "text": [
      "Inner function:  10\n",
      "calling inner_function() a has been changed to 10\n",
      "Outer function:  10\n"
     ]
    }
   ],
   "source": [
    "# nonLocal\n",
    "a = 300\n",
    "\n",
    "\n",
    "def outer_function():\n",
    "    a = 5\n",
    "\n",
    "    def inner_function():\n",
    "        nonlocal a  # looks inside the outer scope not the global scope\n",
    "        a = 10\n",
    "        print(\"Inner function: \", a)\n",
    "\n",
    "    inner_function()\n",
    "    print('calling inner_function() a has been changed to', a)\n",
    "    print(\"Outer function: \", a)\n",
    "\n",
    "\n",
    "outer_function()"
   ],
   "metadata": {
    "collapsed": false,
    "ExecuteTime": {
     "end_time": "2023-07-04T12:29:15.752365Z",
     "start_time": "2023-07-04T12:29:09.461149Z"
    }
   }
  },
  {
   "cell_type": "code",
   "execution_count": 65,
   "outputs": [],
   "source": [
    "# pass\n",
    "def function(args):\n",
    "    pass\n",
    "\n",
    "\n",
    "function(10)"
   ],
   "metadata": {
    "collapsed": false,
    "ExecuteTime": {
     "end_time": "2023-07-04T12:29:15.752546Z",
     "start_time": "2023-07-04T12:29:09.466058Z"
    }
   }
  },
  {
   "cell_type": "code",
   "execution_count": 66,
   "outputs": [
    {
     "name": "stdout",
     "output_type": "stream",
     "text": [
      "(True, 10)\n",
      "True\n",
      "10\n"
     ]
    }
   ],
   "source": [
    "# return\n",
    "def func_return():\n",
    "    return True, 10\n",
    "\n",
    "\n",
    "flag, number = func_return()\n",
    "print(func_return())\n",
    "print(flag)\n",
    "print(number)"
   ],
   "metadata": {
    "collapsed": false,
    "ExecuteTime": {
     "end_time": "2023-07-04T12:29:15.752873Z",
     "start_time": "2023-07-04T12:29:09.470964Z"
    }
   }
  },
  {
   "cell_type": "code",
   "execution_count": 67,
   "outputs": [
    {
     "name": "stdout",
     "output_type": "stream",
     "text": [
      "5\n",
      "4\n",
      "3\n",
      "2\n",
      "1\n"
     ]
    }
   ],
   "source": [
    "#while\n",
    "i = 5\n",
    "while (i > 0):\n",
    "    print(i)\n",
    "    i -= 1"
   ],
   "metadata": {
    "collapsed": false,
    "ExecuteTime": {
     "end_time": "2023-07-04T12:29:15.753205Z",
     "start_time": "2023-07-04T12:29:09.475582Z"
    }
   }
  },
  {
   "cell_type": "code",
   "execution_count": 68,
   "outputs": [],
   "source": [
    "# with\n",
    "with open('./example.txt', 'w') as my_file:\n",
    "    my_file.write('Hello world!')"
   ],
   "metadata": {
    "collapsed": false,
    "ExecuteTime": {
     "end_time": "2023-07-04T12:29:15.753384Z",
     "start_time": "2023-07-04T12:29:09.480347Z"
    }
   }
  },
  {
   "cell_type": "code",
   "execution_count": 69,
   "outputs": [
    {
     "name": "stdout",
     "output_type": "stream",
     "text": [
      "[0, 1, 4, 9, 16, 25]\n",
      "0\n",
      "1\n",
      "4\n",
      "9\n",
      "16\n",
      "25\n"
     ]
    }
   ],
   "source": [
    "# yield\n",
    "def generator():\n",
    "    for i in range(6):\n",
    "        yield i * i\n",
    "\n",
    "\n",
    "g = generator()\n",
    "print(list(generator()))\n",
    "for i in g:\n",
    "    print(i)"
   ],
   "metadata": {
    "collapsed": false,
    "ExecuteTime": {
     "end_time": "2023-07-04T12:29:15.753674Z",
     "start_time": "2023-07-04T12:29:09.485881Z"
    }
   }
  },
  {
   "cell_type": "markdown",
   "source": [
    "# Tuples\n",
    "\n",
    "![image10](./images/006.png)"
   ],
   "metadata": {
    "collapsed": false
   }
  },
  {
   "cell_type": "markdown",
   "source": [
    "![image11](./images/006-01.png)"
   ],
   "metadata": {
    "collapsed": false
   }
  },
  {
   "cell_type": "markdown",
   "source": [
    "![image12](./images/006-02.png)"
   ],
   "metadata": {
    "collapsed": false
   }
  },
  {
   "cell_type": "code",
   "execution_count": 70,
   "outputs": [
    {
     "name": "stdout",
     "output_type": "stream",
     "text": [
      "()\n",
      "(1, 2, 3)\n",
      "(101, 'Anirban', 20000.0, 'HR Dept')\n"
     ]
    }
   ],
   "source": [
    "# creating an empty tuple\n",
    "tuple1 = ()\n",
    "print(tuple1)\n",
    "# creating tuples with integer elements print(tuple2)\n",
    "tuple2 = (1, 2, 3)\n",
    "print(tuple2)\n",
    "#tuple with mixed datatypes\n",
    "tuple3 = (101, \"Anirban\", 20000.00, \"HR Dept\")\n",
    "print(tuple3)"
   ],
   "metadata": {
    "collapsed": false,
    "ExecuteTime": {
     "end_time": "2023-07-04T12:29:16.041622Z",
     "start_time": "2023-07-04T12:29:09.533423Z"
    }
   }
  },
  {
   "cell_type": "code",
   "execution_count": 71,
   "outputs": [
    {
     "name": "stdout",
     "output_type": "stream",
     "text": [
      "('points', [1, 4, 3], (7, 8, 6))\n",
      "(101, 'Anirban', 20000.0, 'HR Dept')\n",
      "101\n",
      "Anirban\n",
      "20000.0\n",
      "HR Dept\n",
      "<class 'tuple'>\n"
     ]
    }
   ],
   "source": [
    "# creation of nested tuple\n",
    "tuple4 = (\"points\", [1, 4, 3], (7, 8, 6))\n",
    "print(tuple4)\n",
    "# tuple can be created without any parentheses\n",
    "# also called tuple packing\n",
    "tuple5 = 101, \"Anirban\", 20000.00, \"HR Dept\"\n",
    "print(tuple5)\n",
    "# tuple unpacking is also possible\n",
    "empid, empname, empsal, empdept = tuple5\n",
    "print(empid)\n",
    "print(empname)\n",
    "print(empsal)\n",
    "print(empdept)\n",
    "print(type(tuple5))"
   ],
   "metadata": {
    "collapsed": false,
    "ExecuteTime": {
     "end_time": "2023-07-04T12:29:16.042046Z",
     "start_time": "2023-07-04T12:29:09.539151Z"
    }
   }
  },
  {
   "cell_type": "code",
   "execution_count": 72,
   "outputs": [
    {
     "name": "stdout",
     "output_type": "stream",
     "text": [
      "('w', 'e', '1', 'c', 'o', 'm', 'e')\n",
      "e\n",
      "c\n",
      "m\n"
     ]
    }
   ],
   "source": [
    "# accessing elements in a tuple\n",
    "tuple1 = ('w', 'e', '1', 'c', 'o', 'm', 'e')\n",
    "print(tuple1)\n",
    "print(tuple1[1])\n",
    "print(tuple1[3])\n",
    "print(tuple1[5])"
   ],
   "metadata": {
    "collapsed": false,
    "ExecuteTime": {
     "end_time": "2023-07-04T12:29:16.042389Z",
     "start_time": "2023-07-04T12:29:09.543787Z"
    }
   }
  },
  {
   "cell_type": "code",
   "execution_count": 73,
   "outputs": [
    {
     "name": "stdout",
     "output_type": "stream",
     "text": [
      "('point', [1, 3, 4], (8, 7, 9))\n",
      "n\n",
      "4\n",
      "9\n"
     ]
    }
   ],
   "source": [
    "# nested tuple\n",
    "nest_tuple2 = (\"point\", [1, 3, 4], (8, 7, 9))\n",
    "print(nest_tuple2)\n",
    "print(nest_tuple2[0][3])\n",
    "print(nest_tuple2[1][2])\n",
    "print(nest_tuple2[2][2])"
   ],
   "metadata": {
    "collapsed": false,
    "ExecuteTime": {
     "end_time": "2023-07-04T12:29:16.042852Z",
     "start_time": "2023-07-04T12:29:09.550452Z"
    }
   }
  },
  {
   "cell_type": "code",
   "execution_count": 74,
   "outputs": [
    {
     "name": "stdout",
     "output_type": "stream",
     "text": [
      "('e', '1')\n",
      "('w', 'e', '1', 'c')\n",
      "('c', 'o', 'm', 'e')\n",
      "('w', 'e', '1', 'c', 'o', 'm', 'e')\n"
     ]
    }
   ],
   "source": [
    "# slicing tuple contents\n",
    "tuple1 = ('w', 'e', '1', 'c', 'o', 'm', 'e')\n",
    "print(tuple1[1:3])\n",
    "print(tuple1[:-3])\n",
    "print(tuple1[3:])\n",
    "print(tuple1[:])"
   ],
   "metadata": {
    "collapsed": false,
    "ExecuteTime": {
     "end_time": "2023-07-04T12:29:16.043236Z",
     "start_time": "2023-07-04T12:29:09.557486Z"
    }
   }
  },
  {
   "cell_type": "code",
   "execution_count": 75,
   "outputs": [
    {
     "name": "stdout",
     "output_type": "stream",
     "text": [
      "('w', 'e', '1', 'c', 'b', 'm', 'e')\n",
      "('g', 'o', 'o', 'd', 'b', 'y', 'e')\n"
     ]
    }
   ],
   "source": [
    "# tuple elements are immutable\n",
    "tuple1 = ('w', 'e', '1', 'c', 'b', 'm', 'e')\n",
    "print(tuple1)\n",
    "# tuple1[2] = 'x' # error # 'tuple' object does not support item assignment\n",
    "# tuples can be reassigned\n",
    "tuple1 = ('g', 'o', 'o', 'd', 'b', 'y', 'e')\n",
    "print(tuple1)"
   ],
   "metadata": {
    "collapsed": false,
    "ExecuteTime": {
     "end_time": "2023-07-04T12:29:16.043549Z",
     "start_time": "2023-07-04T12:29:09.561429Z"
    }
   }
  },
  {
   "cell_type": "code",
   "execution_count": 76,
   "outputs": [
    {
     "name": "stdout",
     "output_type": "stream",
     "text": [
      "('w', 'e', '1')\n",
      "('c', 'o', 'm', 'e')\n",
      "('w', 'e', '1', 'c', 'o', 'm', 'e')\n",
      "('again', 'again', 'again', 'again')\n"
     ]
    }
   ],
   "source": [
    "# concatenation of tuples\n",
    "tuple2 = ('w', 'e', '1')\n",
    "tuple3 = ('c', 'o', 'm', 'e')\n",
    "print(tuple2)\n",
    "print(tuple3)\n",
    "print(tuple2 + tuple3)\n",
    "print((\"again\",) * 4)"
   ],
   "metadata": {
    "collapsed": false,
    "ExecuteTime": {
     "end_time": "2023-07-04T12:29:16.043878Z",
     "start_time": "2023-07-04T12:29:09.568026Z"
    }
   }
  },
  {
   "cell_type": "code",
   "execution_count": 77,
   "outputs": [],
   "source": [
    "# deletion operation on a tuple\n",
    "tuple4 = ('w', 'e', '1', 'c', 'o', 'm', 'e')\n",
    "# as immutable so elements can not be deleted\n",
    "# del tuple4[2] # 'tuple' object doesn't support item deletion\n",
    "# but can delete entire tuple\n",
    "del tuple4\n",
    "# print(tuple4) # name 'tuple4' is not defined"
   ],
   "metadata": {
    "collapsed": false,
    "ExecuteTime": {
     "end_time": "2023-07-04T12:29:16.044153Z",
     "start_time": "2023-07-04T12:29:09.572496Z"
    }
   }
  },
  {
   "cell_type": "code",
   "execution_count": 78,
   "outputs": [
    {
     "name": "stdout",
     "output_type": "stream",
     "text": [
      "2\n",
      "3\n"
     ]
    }
   ],
   "source": [
    "#tuple methods\n",
    "tuple5 = ('w', 'e', '1', 'c', 'o', 'm', 'e')\n",
    "print(tuple5.count('e'))\n",
    "print(tuple5.index('c'))"
   ],
   "metadata": {
    "collapsed": false,
    "ExecuteTime": {
     "end_time": "2023-07-04T12:29:16.044473Z",
     "start_time": "2023-07-04T12:29:09.576344Z"
    }
   }
  },
  {
   "cell_type": "code",
   "execution_count": 79,
   "outputs": [
    {
     "name": "stdout",
     "output_type": "stream",
     "text": [
      "('w', 'e', '1', 'c', 'o', 'm', 'e')\n",
      "True\n",
      "False\n",
      "False\n",
      "True\n"
     ]
    }
   ],
   "source": [
    "# tuple operations\n",
    "tuple6 = ('w', 'e', '1', 'c', 'o', 'm', 'e')\n",
    "print(tuple6)\n",
    "# membership\n",
    "print('c' in tuple6)\n",
    "print('c' not in tuple6)\n",
    "print('a' in tuple6)\n",
    "print('a' not in tuple6)"
   ],
   "metadata": {
    "collapsed": false,
    "ExecuteTime": {
     "end_time": "2023-07-04T12:29:16.044816Z",
     "start_time": "2023-07-04T12:29:09.582560Z"
    }
   }
  },
  {
   "cell_type": "code",
   "execution_count": 80,
   "outputs": [
    {
     "name": "stdout",
     "output_type": "stream",
     "text": [
      "letter is ->  w\n",
      "letter is ->  e\n",
      "letter is ->  1\n",
      "letter is ->  c\n",
      "letter is ->  o\n",
      "letter is ->  m\n",
      "letter is ->  e\n"
     ]
    }
   ],
   "source": [
    "# iteration through tuple elements\n",
    "tuple6 = ('w', 'e', '1', 'c', 'o', 'm', 'e')\n",
    "for letters in tuple6:\n",
    "    print(\"letter is -> \", letters)"
   ],
   "metadata": {
    "collapsed": false,
    "ExecuteTime": {
     "end_time": "2023-07-04T12:29:16.045129Z",
     "start_time": "2023-07-04T12:29:09.587416Z"
    }
   }
  },
  {
   "cell_type": "code",
   "execution_count": 81,
   "outputs": [
    {
     "name": "stdout",
     "output_type": "stream",
     "text": [
      "(22, 33, 55, 44, 77, 66, 11)\n",
      "77\n",
      "11\n",
      "[11, 22, 33, 44, 55, 66, 77]\n",
      "7\n"
     ]
    }
   ],
   "source": [
    "# built-in functions with tuple\n",
    "tuple7 = (22, 33, 55, 44, 77, 66, 11)\n",
    "print(tuple7)\n",
    "print(max(tuple7))\n",
    "print(min(tuple7))\n",
    "print(sorted(tuple7))\n",
    "print(len(tuple7))"
   ],
   "metadata": {
    "collapsed": false,
    "ExecuteTime": {
     "end_time": "2023-07-04T12:29:16.045444Z",
     "start_time": "2023-07-04T12:29:09.592667Z"
    }
   }
  },
  {
   "cell_type": "markdown",
   "source": [
    "# sets\n",
    "\n",
    "![image13](./images/007.png)"
   ],
   "metadata": {
    "collapsed": false
   }
  },
  {
   "cell_type": "markdown",
   "source": [
    "![image14](./images/007-01.png)"
   ],
   "metadata": {
    "collapsed": false
   }
  },
  {
   "cell_type": "markdown",
   "source": [
    "![image15](./images/007-02.png)"
   ],
   "metadata": {
    "collapsed": false
   }
  },
  {
   "cell_type": "markdown",
   "source": [
    "![image16](./images/007-03.png)"
   ],
   "metadata": {
    "collapsed": false
   }
  },
  {
   "cell_type": "markdown",
   "source": [
    "![image17](./images/007-04.png)"
   ],
   "metadata": {
    "collapsed": false
   }
  },
  {
   "cell_type": "code",
   "execution_count": 82,
   "outputs": [
    {
     "name": "stdout",
     "output_type": "stream",
     "text": [
      "{33, 66, 22, 55, 11, 44}\n",
      "{'Agnibha', (21, 2, 1994), 101}\n",
      "{33, 11, 44, 22}\n"
     ]
    }
   ],
   "source": [
    "# creating sets\n",
    "# sets of integers\n",
    "my_set1 = {11, 33, 66, 55, 44, 22}\n",
    "print(my_set1)\n",
    "\n",
    "# set of mixed datatypes\n",
    "my_set2 = {101, \"Agnibha\", (21, 2, 1994)}\n",
    "print(my_set2)\n",
    "# duplicate values are not allowed\n",
    "my_set3 = {11, 22, 33, 33, 44, 22}\n",
    "print(my_set3)"
   ],
   "metadata": {
    "collapsed": false,
    "ExecuteTime": {
     "end_time": "2023-07-04T12:29:16.318860Z",
     "start_time": "2023-07-04T12:29:09.812163Z"
    }
   }
  },
  {
   "cell_type": "code",
   "execution_count": 83,
   "outputs": [
    {
     "name": "stdout",
     "output_type": "stream",
     "text": [
      "<class 'set'>\n",
      "{1, 2, 3}\n",
      "<class 'list'>\n",
      "[33, 11, 44, 22]\n"
     ]
    }
   ],
   "source": [
    "# set cannot have mutable items\n",
    "# my_set4 = {1, 2, [3, 4]} # Error #unhashable type: 'list'\n",
    "# we can make set from a list\n",
    "my_set5 = set([1, 2, 3, 2])\n",
    "print(type(my_set5))\n",
    "print(my_set5)\n",
    "# we can make list from a set\n",
    "my_list1 = list({11, 22, 33, 44})\n",
    "print(type(my_list1))\n",
    "print(my_list1)"
   ],
   "metadata": {
    "collapsed": false,
    "ExecuteTime": {
     "end_time": "2023-07-04T12:29:16.319382Z",
     "start_time": "2023-07-04T12:29:09.817758Z"
    }
   }
  },
  {
   "cell_type": "code",
   "execution_count": 84,
   "outputs": [
    {
     "name": "stdout",
     "output_type": "stream",
     "text": [
      "{33, 66, 55, 11, 44}\n",
      "{33, 66, 55, 11, 44, 77}\n",
      "{66, 11, 77, 22, 88, 33, 99, 44, 55}\n",
      "{66, 11, 77, 22, 88, 33, 99, 100, 102, 103, 104, 105, 44, 55}\n"
     ]
    }
   ],
   "source": [
    "# operations on sets\n",
    "my_set1 = {11, 33, 44, 66, 55}\n",
    "print(my_set1)\n",
    "# 'set' object does not support indexing\n",
    "#my_set1[0] #Error\n",
    "# add an element\n",
    "my_set1.add(77)\n",
    "print(my_set1)\n",
    "# add multiple elements\n",
    "my_set1.update([88, 99, 22])\n",
    "print(my_set1)\n",
    "# add List and set\n",
    "my_set1.update([100, 102], {103, 104, 105})\n",
    "print(my_set1)"
   ],
   "metadata": {
    "collapsed": false,
    "ExecuteTime": {
     "end_time": "2023-07-04T12:29:16.319892Z",
     "start_time": "2023-07-04T12:29:09.823780Z"
    }
   }
  },
  {
   "cell_type": "code",
   "execution_count": 85,
   "outputs": [
    {
     "name": "stdout",
     "output_type": "stream",
     "text": [
      "{33, 66, 55, 11, 44}\n",
      "{33, 66, 55, 11, 44}\n",
      "{33, 66, 55, 11, 44}\n",
      "{33, 66, 55, 11}\n",
      "{33, 66, 11}\n"
     ]
    }
   ],
   "source": [
    "# remove and discard\n",
    "# #initialize my_set\n",
    "my_set1 = {11, 33, 44, 55, 66}\n",
    "print(my_set1)\n",
    "# discard an element which is not present, no error\n",
    "my_set1.discard(4)\n",
    "print(my_set1)\n",
    "# remove an element which is not present, error raised\n",
    "#my_set1.remove(6) # KeyError: 6\n",
    "print(my_set1)\n",
    "# discard an element\n",
    "my_set1.discard(44)\n",
    "print(my_set1)\n",
    "my_set1.remove(55)\n",
    "print(my_set1)"
   ],
   "metadata": {
    "collapsed": false,
    "ExecuteTime": {
     "end_time": "2023-07-04T12:29:16.320305Z",
     "start_time": "2023-07-04T12:29:09.827854Z"
    }
   }
  },
  {
   "cell_type": "code",
   "execution_count": 86,
   "outputs": [
    {
     "name": "stdout",
     "output_type": "stream",
     "text": [
      "{33, 66, 55, 11, 44}\n",
      "33\n",
      "66\n",
      "{55, 11, 44}\n",
      "set()\n"
     ]
    }
   ],
   "source": [
    "# using pop()\n",
    "#initialize my_set\n",
    "my_set1 = {11, 33, 44, 55, 66}\n",
    "print(my_set1)\n",
    "# pop an element\n",
    "print(my_set1.pop())\n",
    "# pop another element\n",
    "print(my_set1.pop())\n",
    "print(my_set1)\n",
    "# clear my_set\n",
    "my_set1.clear()\n",
    "print(my_set1)"
   ],
   "metadata": {
    "collapsed": false,
    "ExecuteTime": {
     "end_time": "2023-07-04T12:29:16.320661Z",
     "start_time": "2023-07-04T12:29:09.837006Z"
    }
   }
  },
  {
   "cell_type": "code",
   "execution_count": 87,
   "outputs": [
    {
     "name": "stdout",
     "output_type": "stream",
     "text": [
      "{0, 1, 2, 3, 4, 5}\n",
      "{4, 5, 6, 7, 8, 9}\n",
      "{0, 1, 2, 3, 4, 5, 6, 7, 8, 9}\n",
      "{0, 1, 2, 3, 4, 5, 6, 7, 8, 9}\n",
      "{0, 1, 2, 3, 4, 5, 6, 7, 8, 9}\n",
      "{0, 1, 2, 3, 4, 5, 6, 7, 8, 9}\n"
     ]
    }
   ],
   "source": [
    "# set operations - union\n",
    "myset1 = {0, 1, 2, 3, 4, 5}\n",
    "myset2 = {4, 5, 6, 7, 8, 9}\n",
    "print(myset1)\n",
    "print(myset2)\n",
    "\n",
    "# use | operator for union\n",
    "print(myset1 | myset2)\n",
    "print(myset2 | myset1)\n",
    "print(myset1.union(myset2))\n",
    "print(myset2.union(myset1))"
   ],
   "metadata": {
    "collapsed": false,
    "ExecuteTime": {
     "end_time": "2023-07-04T12:29:16.320992Z",
     "start_time": "2023-07-04T12:29:09.843069Z"
    }
   }
  },
  {
   "cell_type": "code",
   "execution_count": 88,
   "outputs": [
    {
     "name": "stdout",
     "output_type": "stream",
     "text": [
      "{0, 1, 2, 3, 4, 5}\n",
      "{4, 5, 6, 7, 8, 9}\n",
      "{4, 5}\n",
      "{4, 5}\n",
      "{4, 5}\n",
      "{4, 5}\n"
     ]
    }
   ],
   "source": [
    "# set operations intersection\n",
    "myset1 = {0, 1, 2, 3, 4, 5}\n",
    "myset2 = {4, 5, 6, 7, 8, 9}\n",
    "print(myset1)\n",
    "print(myset2)\n",
    "\n",
    "# use & operator for intersection\n",
    "print(myset1 & myset2)\n",
    "print(myset2 & myset1)\n",
    "print(myset1.intersection(myset2))\n",
    "print(myset2.intersection(myset1))"
   ],
   "metadata": {
    "collapsed": false,
    "ExecuteTime": {
     "end_time": "2023-07-04T12:29:16.321331Z",
     "start_time": "2023-07-04T12:29:09.848834Z"
    }
   }
  },
  {
   "cell_type": "code",
   "execution_count": 89,
   "outputs": [
    {
     "name": "stdout",
     "output_type": "stream",
     "text": [
      "{0, 1, 2, 3, 4, 5}\n",
      "{4, 5, 6, 7, 8, 9}\n",
      "{0, 1, 2, 3}\n",
      "{8, 9, 6, 7}\n",
      "{0, 1, 2, 3}\n",
      "{8, 9, 6, 7}\n",
      "{0, 1, 2, 3, 4, 5}\n",
      "{4, 5, 6, 7, 8, 9}\n",
      "{0, 1, 2, 3, 6, 7, 8, 9}\n",
      "{0, 1, 2, 3, 6, 7, 8, 9}\n",
      "{0, 1, 2, 3, 6, 7, 8, 9}\n",
      "{0, 1, 2, 3, 6, 7, 8, 9}\n"
     ]
    }
   ],
   "source": [
    "# set operations - set difference\n",
    "myset1 = {0, 1, 2, 3, 4, 5}\n",
    "myset2 = {4, 5, 6, 7, 8, 9}\n",
    "print(myset1)\n",
    "print(myset2)\n",
    "\n",
    "#use - operator for set difference\n",
    "print(myset1 - myset2)\n",
    "print(myset2 - myset1)\n",
    "print(myset1.difference(myset2))  # differences in only one set\n",
    "print(myset2.difference(myset1))\n",
    "\n",
    "# set operations symmetric difference\n",
    "myset1 = {0, 1, 2, 3, 4, 5}\n",
    "myset2 = {4, 5, 6, 7, 8, 9}\n",
    "print(myset1)\n",
    "print(myset2)\n",
    "# use operator for symmetric difference\n",
    "print(myset1 ^ myset2)\n",
    "print(myset2 ^ myset1)\n",
    "print(myset1.symmetric_difference(myset2))  # differences in all two sets\n",
    "print(myset2.symmetric_difference(myset1))"
   ],
   "metadata": {
    "collapsed": false,
    "ExecuteTime": {
     "end_time": "2023-07-04T12:29:16.321651Z",
     "start_time": "2023-07-04T12:29:09.856426Z"
    }
   }
  },
  {
   "cell_type": "code",
   "execution_count": 90,
   "outputs": [
    {
     "name": "stdout",
     "output_type": "stream",
     "text": [
      "True\n",
      "False\n",
      "False\n",
      "True\n"
     ]
    }
   ],
   "source": [
    "# set membership\n",
    "myset1 = {0, 1, 2, 3, 4, 5}\n",
    "print(2 in myset1)\n",
    "print(6 in myset1)\n",
    "print(2 not in myset1)\n",
    "print(6 not in myset1)"
   ],
   "metadata": {
    "collapsed": false,
    "ExecuteTime": {
     "end_time": "2023-07-04T12:29:16.399119Z",
     "start_time": "2023-07-04T12:29:09.862722Z"
    }
   }
  },
  {
   "cell_type": "code",
   "execution_count": 91,
   "outputs": [
    {
     "name": "stdout",
     "output_type": "stream",
     "text": [
      "c\n",
      "m\n",
      "w\n",
      "e\n",
      "o\n",
      "l\n"
     ]
    }
   ],
   "source": [
    "# iterating through a set\n",
    "for letter in set(\"welcome\"):\n",
    "    print(letter)"
   ],
   "metadata": {
    "collapsed": false,
    "ExecuteTime": {
     "end_time": "2023-07-04T12:29:16.399581Z",
     "start_time": "2023-07-04T12:29:09.868997Z"
    }
   }
  },
  {
   "cell_type": "code",
   "execution_count": 92,
   "outputs": [
    {
     "name": "stdout",
     "output_type": "stream",
     "text": [
      "6\n",
      "5\n",
      "0\n",
      "[0, 1, 2, 3, 4, 5]\n"
     ]
    }
   ],
   "source": [
    "# built-in functions with set\n",
    "myset1 = {0, 1, 2, 3, 4, 5}\n",
    "print(len(myset1))\n",
    "print(max(myset1))\n",
    "print(min(myset1))\n",
    "print(sorted(myset1))"
   ],
   "metadata": {
    "collapsed": false,
    "ExecuteTime": {
     "end_time": "2023-07-04T12:29:16.399915Z",
     "start_time": "2023-07-04T12:29:09.873092Z"
    }
   }
  },
  {
   "cell_type": "code",
   "execution_count": 93,
   "outputs": [
    {
     "name": "stdout",
     "output_type": "stream",
     "text": [
      "frozenset({1, 2, 3, 4})\n",
      "frozenset({3, 4, 5, 6})\n",
      "frozenset({1, 2})\n",
      "frozenset({1, 2, 3, 4, 5, 6})\n",
      "frozenset({3, 4})\n",
      "frozenset({1, 2, 5, 6})\n"
     ]
    }
   ],
   "source": [
    "# python frozenset\n",
    "\n",
    "# Frozenset is a new class that has the characteristics\n",
    "# of a set, but its elements cannot be changed once assigned\n",
    "# While tuples are immutable lists, frozen-sets are immutable sets.\n",
    "# #initialize A and B\n",
    "myset1 = frozenset([1, 2, 3, 4])\n",
    "myset2 = frozenset([3, 4, 5, 6])\n",
    "print(myset1)\n",
    "print(myset2)\n",
    "print(myset1.difference(myset2))\n",
    "print(myset1.union(myset2))\n",
    "print(myset1.intersection(myset2))\n",
    "print(myset1.symmetric_difference(myset2))\n",
    "# myset1.add(10) #'frozenset' object has no attribute 'add'\n",
    "# it has look like tuples immutable"
   ],
   "metadata": {
    "collapsed": false,
    "ExecuteTime": {
     "end_time": "2023-07-04T12:29:16.400311Z",
     "start_time": "2023-07-04T12:29:09.879880Z"
    }
   }
  },
  {
   "cell_type": "markdown",
   "source": [
    "# imports\n",
    "\n",
    "![image18](./images/008.png)"
   ],
   "metadata": {
    "collapsed": false
   }
  },
  {
   "cell_type": "code",
   "execution_count": 94,
   "outputs": [
    {
     "name": "stdout",
     "output_type": "stream",
     "text": [
      "The value of pi is 3.141592653589793\n"
     ]
    }
   ],
   "source": [
    "# Importing module as well as renaming it.\n",
    "import math as m\n",
    "\n",
    "print(\"The value of pi is\", m.pi)"
   ],
   "metadata": {
    "collapsed": false,
    "ExecuteTime": {
     "end_time": "2023-07-04T12:29:16.400720Z",
     "start_time": "2023-07-04T12:29:09.887138Z"
    }
   }
  },
  {
   "cell_type": "code",
   "execution_count": 95,
   "outputs": [
    {
     "name": "stdout",
     "output_type": "stream",
     "text": [
      "The value of pi is 3.141592653589793\n"
     ]
    }
   ],
   "source": [
    "# Usage of from\n",
    "from math import pi\n",
    "\n",
    "print(\"The value of pi is\", pi)"
   ],
   "metadata": {
    "collapsed": false,
    "ExecuteTime": {
     "end_time": "2023-07-04T12:29:16.401123Z",
     "start_time": "2023-07-04T12:29:09.892193Z"
    }
   }
  },
  {
   "cell_type": "code",
   "execution_count": 96,
   "outputs": [
    {
     "name": "stdout",
     "output_type": "stream",
     "text": [
      "The value of pi is 3.141592653589793\n"
     ]
    }
   ],
   "source": [
    "# import all names from the standard module math\n",
    "from math import *\n",
    "\n",
    "print(\"The value of pi is\", pi)"
   ],
   "metadata": {
    "collapsed": false,
    "ExecuteTime": {
     "end_time": "2023-07-04T12:29:16.401465Z",
     "start_time": "2023-07-04T12:29:09.897301Z"
    }
   }
  },
  {
   "cell_type": "markdown",
   "source": [
    "# directories\n",
    "\n",
    "![image19](./images/009.png)"
   ],
   "metadata": {
    "collapsed": false
   }
  },
  {
   "cell_type": "code",
   "execution_count": 97,
   "outputs": [
    {
     "name": "stdout",
     "output_type": "stream",
     "text": [
      "/Users/abdelrahman/PycharmProjects/python-revision\n",
      "b'/Users/abdelrahman/PycharmProjects/python-revision'\n"
     ]
    }
   ],
   "source": [
    "import os\n",
    "\n",
    "print(os.getcwd())  #Returns the present working directory\n",
    "print(os.getcwdb())  #Returns the present working directory as a byte object"
   ],
   "metadata": {
    "collapsed": false,
    "ExecuteTime": {
     "end_time": "2023-07-04T12:29:16.490792Z",
     "start_time": "2023-07-04T12:29:09.927353Z"
    }
   }
  },
  {
   "cell_type": "code",
   "execution_count": 98,
   "outputs": [
    {
     "name": "stdout",
     "output_type": "stream",
     "text": [
      "['007-01.png', '002.png', '016.png', '023-01.png', '017.png', '003.png', '031-01.png', '007-02.png', '029.png', '015.png', '001.png', '023-02.png', '014.png', '028.png', '007-03.png', '010.png', '004.png', '005-02.png', '005.png', '011.png', '007-04.png', '007.png', '013.png', '005-01.png', '033-01.png', '012.png', '006.png', '025-02.png', '029-02.png', '029-03.png', '013-02.png', '025-01.png', '029-01.png', '001-01.png', '013-01.png', '029-04.png', '018-02.png', '006-02.png', '018-01.png', '006-01.png', '014-01.png', '004-01.png', '023.png', '024-01.png', '022.png', '028-01.png', '008.png', '020.png', '021.png', '009.png', '028-02.png', '031.png', '025.png', '019.png', '018.png', '024.png', '030.png', '026-02.png', '010-01.png', '026.png', '032.png', '033.png', '027.png', '026-01.png']\n"
     ]
    }
   ],
   "source": [
    "# os.chdir('C:\\\\Users\\\\Abdelrahman\\\\FileTest') #use to change directory\n",
    "os.chdir('/Users/abdelrahman/PycharmProjects/python-revision/images')  #use to change directory\n",
    "print(os.listdir())  # ALL files and subdirectories inside a directory # can be known using the Listdir() method."
   ],
   "metadata": {
    "collapsed": false,
    "ExecuteTime": {
     "end_time": "2023-07-04T12:29:16.491331Z",
     "start_time": "2023-07-04T12:29:09.933510Z"
    }
   }
  },
  {
   "cell_type": "code",
   "execution_count": 99,
   "outputs": [],
   "source": [
    "# os.mkdir('Test') # used to make a new directory\n",
    "# os.rename('Test', 'New_One') # used to rename a directory"
   ],
   "metadata": {
    "collapsed": false,
    "ExecuteTime": {
     "end_time": "2023-07-04T12:29:16.491584Z",
     "start_time": "2023-07-04T12:29:09.938568Z"
    }
   }
  },
  {
   "cell_type": "code",
   "execution_count": 100,
   "outputs": [],
   "source": [
    "os.chdir('/Users/abdelrahman/PycharmProjects/python-revision/')\n",
    "os.remove('example.txt')  # use to remove a file\n",
    "# os.rmdir('New_One') # use to remove a directory\n",
    "# os.chdir('C:\\\\Users\\\\Abdelrahman')"
   ],
   "metadata": {
    "collapsed": false,
    "ExecuteTime": {
     "end_time": "2023-07-04T12:29:16.491774Z",
     "start_time": "2023-07-04T12:29:09.943275Z"
    }
   }
  },
  {
   "cell_type": "markdown",
   "source": [
    "# dictionary\n",
    "\n",
    "![image20](./images/010.png)"
   ],
   "metadata": {
    "collapsed": false
   }
  },
  {
   "cell_type": "markdown",
   "source": [
    "![image21](./images/010-01.png)"
   ],
   "metadata": {
    "collapsed": false
   }
  },
  {
   "cell_type": "code",
   "execution_count": 101,
   "outputs": [
    {
     "name": "stdout",
     "output_type": "stream",
     "text": [
      "{1: 'Hello', 2: 'Hi', 3: 'Hola'}\n",
      "Hello\n",
      "Hi\n",
      "{1: 'Hey', 2: 'Hi', 3: 'Hola'}\n",
      "{1: 'Hey', 2: 'Hi', 3: 'Hola', 4: 'Namaste'}\n"
     ]
    }
   ],
   "source": [
    "#Accessing elements from a dictionary\n",
    "new_dict = {1: \"Hello\", 2: \"Hi\", 3: \"Hola\"}\n",
    "print(new_dict)\n",
    "print(new_dict[1])  # if invalid key rais error\n",
    "print(new_dict.get(2))  # if invalid key return None\n",
    "\n",
    "#Updating value\n",
    "new_dict[1] = \"Hey\"\n",
    "print(new_dict)\n",
    "#Adding value\n",
    "new_dict[4] = \"Namaste\"\n",
    "print(new_dict)"
   ],
   "metadata": {
    "collapsed": false,
    "ExecuteTime": {
     "end_time": "2023-07-04T12:29:16.584603Z",
     "start_time": "2023-07-04T12:29:10.042147Z"
    }
   }
  },
  {
   "cell_type": "code",
   "execution_count": 102,
   "outputs": [
    {
     "name": "stdout",
     "output_type": "stream",
     "text": [
      "{1: 1, 2: 4, 3: 9, 4: 16, 5: 25}\n",
      "16\n",
      "{1: 1, 2: 4, 3: 9, 5: 25}\n",
      "(5, 25)\n",
      "{1: 1, 2: 4, 3: 9}\n",
      "{2: 4, 3: 9}\n"
     ]
    }
   ],
   "source": [
    "# Creating a new dictionary\n",
    "squares = {1: 1, 2: 4, 3: 9, 4: 16, 5: 25}\n",
    "print(squares)\n",
    "# remove a particular item\n",
    "print(squares.pop(4))\n",
    "print(squares)\n",
    "# remove an arbitrary item\n",
    "print(squares.popitem())\n",
    "print(squares)\n",
    "# delete a particular item\n",
    "del squares[1]\n",
    "print(squares)\n",
    "\n",
    "del squares  # delete all dict\n",
    "# print(squares) # Error # name 'squares' is not defined"
   ],
   "metadata": {
    "collapsed": false,
    "ExecuteTime": {
     "end_time": "2023-07-04T12:29:16.585006Z",
     "start_time": "2023-07-04T12:29:10.048681Z"
    }
   }
  },
  {
   "cell_type": "code",
   "execution_count": 103,
   "outputs": [
    {
     "name": "stdout",
     "output_type": "stream",
     "text": [
      "{0: 0, 1: 1, 2: 4, 3: 9, 4: 16, 5: 25}\n",
      "{1: 1, 3: 9, 5: 25, 7: 49, 9: 81}\n",
      "True\n",
      "True\n",
      "False\n"
     ]
    }
   ],
   "source": [
    "# Creating a new dictionary using Comprehension\n",
    "squares = {x: x * x for x in range(6)}\n",
    "print(squares)\n",
    "\n",
    "# Dictionary Membership test\n",
    "squares = {1: 1, 3: 9, 5: 25, 7: 49, 9: 81}\n",
    "print(squares)\n",
    "\n",
    "print(1 in squares)\n",
    "print(2 not in squares)\n",
    "#membership tests for key only not value\n",
    "print(49 in squares)"
   ],
   "metadata": {
    "collapsed": false,
    "ExecuteTime": {
     "end_time": "2023-07-04T12:29:16.585326Z",
     "start_time": "2023-07-04T12:29:10.054142Z"
    }
   }
  },
  {
   "cell_type": "code",
   "execution_count": 104,
   "outputs": [
    {
     "name": "stdout",
     "output_type": "stream",
     "text": [
      "1\n",
      "9\n",
      "25\n",
      "49\n",
      "81\n",
      "5\n",
      "[1, 3, 5, 7, 9]\n"
     ]
    }
   ],
   "source": [
    "# Iterating through a dictionary\n",
    "squares = {1: 1, 3: 9, 5: 25, 7: 49, 9: 81}\n",
    "for i in squares:\n",
    "    print(squares[i])\n",
    "# Using built-in functions in a dictionary\n",
    "squares = {1: 1, 3: 9, 5: 25, 7: 49, 9: 81}\n",
    "print(len(squares))  # Prints the Length of the dictionary\n",
    "print(sorted(squares))  # Prints the dictionary in sorted order"
   ],
   "metadata": {
    "collapsed": false,
    "ExecuteTime": {
     "end_time": "2023-07-04T12:29:16.585634Z",
     "start_time": "2023-07-04T12:29:10.061838Z"
    }
   }
  },
  {
   "cell_type": "markdown",
   "source": [
    "# Strings\n",
    "\n",
    "![image22](./images/011.png)"
   ],
   "metadata": {
    "collapsed": false
   }
  },
  {
   "cell_type": "code",
   "execution_count": 105,
   "outputs": [
    {
     "name": "stdout",
     "output_type": "stream",
     "text": [
      "Welcome\n",
      "Welcome\n",
      "Welcome\n",
      "Welcome\n",
      "to the world of\n",
      "Python Programming\n"
     ]
    }
   ],
   "source": [
    "# different ways to define a string in Python\n",
    "mystr1 = 'Welcome'\n",
    "print(mystr1)\n",
    "mystr2 = \"Welcome\"\n",
    "print(mystr2)\n",
    "mystr3 = '''Welcome'''\n",
    "print(mystr3)\n",
    "# triple quotes string can extend multiple lines\n",
    "mystr3 = \"\"\"Welcome\n",
    "to the world of\n",
    "Python Programming\"\"\"\n",
    "print(mystr3)"
   ],
   "metadata": {
    "collapsed": false,
    "ExecuteTime": {
     "end_time": "2023-07-04T12:29:16.840660Z",
     "start_time": "2023-07-04T12:29:10.101503Z"
    }
   }
  },
  {
   "cell_type": "code",
   "execution_count": 106,
   "outputs": [
    {
     "name": "stdout",
     "output_type": "stream",
     "text": [
      "Welcome\n",
      "to the world of\n",
      "Python Programming\n",
      "mystr =  language\n",
      "mystr[0] =  l\n",
      "mystr[7] =  e\n",
      "mystr[-1] =  e\n",
      "mystr[1:5] =  angu\n",
      "mystr[5:-2] =  a\n"
     ]
    }
   ],
   "source": [
    "print(mystr3)\n",
    "# accessing characters in a string\n",
    "mystr = 'language'\n",
    "print('mystr = ', mystr)\n",
    "print('mystr[0] = ', mystr[0])\n",
    "print('mystr[7] = ', mystr[7])\n",
    "print('mystr[-1] = ', mystr[-1])\n",
    "print('mystr[1:5] = ', mystr[1:5])\n",
    "print('mystr[5:-2] = ', mystr[5:-2])\n",
    "#print('mystr[10] = ', mystr[10]) # Error #string index out of range"
   ],
   "metadata": {
    "collapsed": false,
    "ExecuteTime": {
     "end_time": "2023-07-04T12:29:16.841047Z",
     "start_time": "2023-07-04T12:29:10.107394Z"
    }
   }
  },
  {
   "cell_type": "code",
   "execution_count": 107,
   "outputs": [
    {
     "name": "stdout",
     "output_type": "stream",
     "text": [
      "language\n",
      "programming\n"
     ]
    }
   ],
   "source": [
    "# strings are immutable\n",
    "# but different strings can be assigned\n",
    "mystr = 'language'\n",
    "print(mystr)\n",
    "mystr = 'programming'\n",
    "print(mystr)\n",
    "#mystr[3] = 'x' #Error #'str' object does not support item assignment"
   ],
   "metadata": {
    "collapsed": false,
    "ExecuteTime": {
     "end_time": "2023-07-04T12:29:16.841384Z",
     "start_time": "2023-07-04T12:29:10.112497Z"
    }
   }
  },
  {
   "cell_type": "code",
   "execution_count": 108,
   "outputs": [
    {
     "name": "stdout",
     "output_type": "stream",
     "text": [
      "mystr1 + mystr2 =  Welcome to all\n",
      "mystr1 * 3 = WelcomeWelcomeWelcome\n"
     ]
    }
   ],
   "source": [
    "#concatenation of strings\n",
    "mystr1 = 'Welcome'\n",
    "mystr2 = ' to all'\n",
    "# using + operator\n",
    "print('mystr1 + mystr2 = ', mystr1 + mystr2)\n",
    "# using * operator\n",
    "print('mystr1 * 3 =', mystr1 * 3)"
   ],
   "metadata": {
    "collapsed": false,
    "ExecuteTime": {
     "end_time": "2023-07-04T12:29:16.841689Z",
     "start_time": "2023-07-04T12:29:10.119132Z"
    }
   }
  },
  {
   "cell_type": "code",
   "execution_count": 109,
   "outputs": [
    {
     "name": "stdout",
     "output_type": "stream",
     "text": [
      "3 times 1 letter has been found\n"
     ]
    }
   ],
   "source": [
    "# iterating through a string\n",
    "letter_count = 0\n",
    "for letters in 'Hello World':\n",
    "    if (letters == 'l'):\n",
    "        letter_count += 1\n",
    "print(letter_count, 'times 1 letter has been found')"
   ],
   "metadata": {
    "collapsed": false,
    "ExecuteTime": {
     "end_time": "2023-07-04T12:29:16.841972Z",
     "start_time": "2023-07-04T12:29:10.124262Z"
    }
   }
  },
  {
   "cell_type": "code",
   "execution_count": 110,
   "outputs": [
    {
     "name": "stdout",
     "output_type": "stream",
     "text": [
      "False\n",
      "True\n",
      "False\n",
      "True\n"
     ]
    }
   ],
   "source": [
    "# string membership\n",
    "print('1' in \"hello\")\n",
    "print('1' not in \"hello\")\n",
    "print('b' in \"hello\")\n",
    "print('b' not in \"hello\")"
   ],
   "metadata": {
    "collapsed": false,
    "ExecuteTime": {
     "end_time": "2023-07-04T12:29:16.842264Z",
     "start_time": "2023-07-04T12:29:10.129569Z"
    }
   }
  },
  {
   "cell_type": "code",
   "execution_count": 111,
   "outputs": [
    {
     "name": "stdout",
     "output_type": "stream",
     "text": [
      "list (enumerate (mystr) [(0, 'u'), (1, 'n'), (2, 'i'), (3, 'v'), (4, 'e'), (5, 'r'), (6, 's'), (7, 'i'), (8, 't'), (9, 'y')]\n",
      "len (mystr) =  10\n"
     ]
    }
   ],
   "source": [
    "# built-in functions\n",
    "mystr = 'university'\n",
    "# using enumerate()\n",
    "my_list_enumerate = list(enumerate(mystr))\n",
    "print('list (enumerate (mystr)', my_list_enumerate)\n",
    "#using character count\n",
    "print('len (mystr) = ', len(mystr))"
   ],
   "metadata": {
    "collapsed": false,
    "ExecuteTime": {
     "end_time": "2023-07-04T12:29:16.843117Z",
     "start_time": "2023-07-04T12:29:10.134618Z"
    }
   }
  },
  {
   "cell_type": "code",
   "execution_count": 112,
   "outputs": [
    {
     "name": "stdout",
     "output_type": "stream",
     "text": [
      "tell me \"What's your name?\"\n",
      "tell me \"What's your name?\"\n",
      "tell me 'What's your name?'\n",
      "tell me \"What's your name?\"\n"
     ]
    }
   ],
   "source": [
    "# string formatting using escape sequence\n",
    "#print(\"tell me \"What's your name?\"\") # Error # SyntaxError\n",
    "\n",
    "#using triple quotes\n",
    "print('''tell me \"What's your name?\"''')\n",
    "# escaping single quotes\n",
    "print('tell me \"What\\'s your name?\"')\n",
    "# escaping single quotes\n",
    "print(\"tell me 'What\\'s your name?'\")\n",
    "#escaping double quotes\n",
    "print(\"tell me \\\"What's your name?\\\"\")"
   ],
   "metadata": {
    "collapsed": false,
    "ExecuteTime": {
     "end_time": "2023-07-04T12:29:16.843444Z",
     "start_time": "2023-07-04T12:29:10.140297Z"
    }
   }
  },
  {
   "cell_type": "code",
   "execution_count": 113,
   "outputs": [
    {
     "name": "stdout",
     "output_type": "stream",
     "text": [
      "C:\\User\\user\\mydata.txt\n",
      "this line is having a new line \n",
      "character\n",
      "this line is having a tab \t character\n",
      "ABC written in ABC (HEX) representation\n",
      "Today is and Sunday\n",
      "Today is and Sunday\n",
      "Today is and Sunday\n"
     ]
    }
   ],
   "source": [
    "print(\"C:\\\\User\\\\user\\\\mydata.txt\")\n",
    "print(\"this line is having a new line \\ncharacter\")\n",
    "print(\"this line is having a tab \\t character\")\n",
    "print(\"ABC written in \\x41\\x42\\x43 (HEX) representation\")\n",
    "#format() method\n",
    "# default (implicit) order\n",
    "default_order = \"{} {} and {}\".format('Today', 'is', 'Sunday')\n",
    "print(default_order)\n",
    "# order using positional argument\n",
    "positional_order = \"{1} {0} and {2}\".format('is', 'Today', 'Sunday')\n",
    "print(positional_order)\n",
    "# order using keyword argument\n",
    "keyword_order = \"{t} {i} and {s}\".format(i='is', t='Today', s='Sunday')\n",
    "print(keyword_order)"
   ],
   "metadata": {
    "collapsed": false,
    "ExecuteTime": {
     "end_time": "2023-07-04T12:29:16.843784Z",
     "start_time": "2023-07-04T12:29:10.146876Z"
    }
   }
  },
  {
   "cell_type": "code",
   "execution_count": 114,
   "outputs": [
    {
     "name": "stdout",
     "output_type": "stream",
     "text": [
      "Required binary representation of 20 is 10100\n",
      "Exponent representation: 1.566345e+03\n",
      "One third is: 0.333\n"
     ]
    }
   ],
   "source": [
    "# formatting numbers\n",
    "print(\"Required binary representation of {0} is {0:b}\".format(20))\n",
    "#formatting floats\n",
    "print(\"Exponent representation: {0:e}\".format(1566.345))\n",
    "# round off\n",
    "print(\"One third is: {0:.3f}\".format(1 / 3))"
   ],
   "metadata": {
    "collapsed": false,
    "ExecuteTime": {
     "end_time": "2023-07-04T12:29:16.904712Z",
     "start_time": "2023-07-04T12:29:10.154989Z"
    }
   }
  },
  {
   "cell_type": "code",
   "execution_count": 115,
   "outputs": [
    {
     "name": "stdout",
     "output_type": "stream",
     "text": [
      "good morning to a1l\n",
      "GOOD MORNING TO A1L\n",
      "13\n",
      "-1\n",
      "gOOD moRNing tO a1L\n",
      "gOOD moRNing tO everybody\n"
     ]
    }
   ],
   "source": [
    "# string methods\n",
    "print(\"gOOD moRNing tO a1L\".lower())\n",
    "print(\"gOOD moRNing tO a1L\".upper())\n",
    "print(\"gOOD moRNing tO a1L\".find('tO'))\n",
    "print(\"gOOD moRNing tO a1L\".find('to'))\n",
    "print(\"gOOD moRNing tO a1L\".replace('all', 'everybody'))\n",
    "print(\"gOOD moRNing tO a1L\".replace('a1L', 'everybody'))"
   ],
   "metadata": {
    "collapsed": false,
    "ExecuteTime": {
     "end_time": "2023-07-04T12:29:16.905122Z",
     "start_time": "2023-07-04T12:29:10.160016Z"
    }
   }
  },
  {
   "cell_type": "markdown",
   "source": [
    "# DataType Conversion\n",
    "\n",
    "![image23](./images/012.png)"
   ],
   "metadata": {
    "collapsed": false
   }
  },
  {
   "cell_type": "code",
   "execution_count": 116,
   "outputs": [
    {
     "name": "stdout",
     "output_type": "stream",
     "text": [
      "datatype of num_int:  <class 'int'>\n",
      "datatype of num_flo:  <class 'float'>\n",
      "Value of num_new:  124.23\n",
      "datatype of num_new:  <class 'float'>\n"
     ]
    }
   ],
   "source": [
    "# Implicit Type Conversion\n",
    "num_int = 123\n",
    "num_flo = 1.23\n",
    "num_new = num_int + num_flo\n",
    "print(\"datatype of num_int: \", type(num_int))\n",
    "print(\"datatype of num_flo: \", type(num_flo))\n",
    "print(\"Value of num_new: \", num_new)\n",
    "print(\"datatype of num_new: \", type(num_new))"
   ],
   "metadata": {
    "collapsed": false,
    "ExecuteTime": {
     "end_time": "2023-07-04T12:29:16.905425Z",
     "start_time": "2023-07-04T12:29:10.167393Z"
    }
   }
  },
  {
   "cell_type": "code",
   "execution_count": 117,
   "outputs": [
    {
     "name": "stdout",
     "output_type": "stream",
     "text": [
      "Data type of num_int:  <class 'int'>\n",
      "Data type of num_str: <class 'str'>\n"
     ]
    }
   ],
   "source": [
    "# Addition of string (higher) data type and integer (Lower) datatype\n",
    "num_int = 123\n",
    "num_str = \"456\"\n",
    "print(\"Data type of num_int: \", type(num_int))\n",
    "print(\"Data type of num_str:\", type(num_str))\n",
    "# print(num_int+num_str) #Error: Implicit conversion will not work here"
   ],
   "metadata": {
    "collapsed": false,
    "ExecuteTime": {
     "end_time": "2023-07-04T12:29:16.905714Z",
     "start_time": "2023-07-04T12:29:10.172727Z"
    }
   }
  },
  {
   "cell_type": "code",
   "execution_count": 118,
   "outputs": [
    {
     "name": "stdout",
     "output_type": "stream",
     "text": [
      "Data type of num_int:  <class 'int'>\n",
      "Data type of num_str before Type Casting:  <class 'str'>\n",
      "Data type of num_str after Type Casting:  <class 'int'>\n",
      "Sum of num_int and num_str: 579\n",
      "Data type of the sum:  <class 'int'>\n"
     ]
    }
   ],
   "source": [
    "#Explicit Type Conversion\n",
    "num_int = 123\n",
    "num_str = \"456\"\n",
    "print(\"Data type of num_int: \", type(num_int))\n",
    "print(\"Data type of num_str before Type Casting: \", type(num_str))\n",
    "\n",
    "num_str = int(num_str)  # Converting string to int\n",
    "print(\"Data type of num_str after Type Casting: \", type(num_str))\n",
    "\n",
    "num_sum = num_int + num_str\n",
    "print(\"Sum of num_int and num_str:\", num_sum)\n",
    "print(\"Data type of the sum: \", type(num_sum))"
   ],
   "metadata": {
    "collapsed": false,
    "ExecuteTime": {
     "end_time": "2023-07-04T12:29:16.906003Z",
     "start_time": "2023-07-04T12:29:10.179023Z"
    }
   }
  },
  {
   "cell_type": "markdown",
   "source": [
    "# Numbers\n",
    "\n",
    "![image24](./images/013.png)"
   ],
   "metadata": {
    "collapsed": false
   }
  },
  {
   "cell_type": "markdown",
   "source": [
    "![image25](./images/013-01.png)"
   ],
   "metadata": {
    "collapsed": false
   }
  },
  {
   "cell_type": "markdown",
   "source": [
    "![image26](./images/013-02.png)"
   ],
   "metadata": {
    "collapsed": false
   }
  },
  {
   "cell_type": "code",
   "execution_count": 119,
   "outputs": [
    {
     "name": "stdout",
     "output_type": "stream",
     "text": [
      "<class 'int'>\n",
      "True\n",
      "False\n",
      "False\n"
     ]
    }
   ],
   "source": [
    "value1 = 100\n",
    "print(type(value1))\n",
    "print(isinstance(value1, int))\n",
    "print(isinstance(value1, float))\n",
    "print(isinstance(value1, complex))"
   ],
   "metadata": {
    "collapsed": false,
    "ExecuteTime": {
     "end_time": "2023-07-04T12:29:17.219975Z",
     "start_time": "2023-07-04T12:29:10.328762Z"
    }
   }
  },
  {
   "cell_type": "code",
   "execution_count": 120,
   "outputs": [
    {
     "name": "stdout",
     "output_type": "stream",
     "text": [
      "<class 'float'>\n",
      "False\n",
      "True\n",
      "False\n"
     ]
    }
   ],
   "source": [
    "value2 = 100.24\n",
    "print(type(value2))\n",
    "print(isinstance(value2, int))\n",
    "print(isinstance(value2, float))\n",
    "print(isinstance(value2, complex))"
   ],
   "metadata": {
    "collapsed": false,
    "ExecuteTime": {
     "end_time": "2023-07-04T12:29:17.220382Z",
     "start_time": "2023-07-04T12:29:10.334913Z"
    }
   }
  },
  {
   "cell_type": "code",
   "execution_count": 121,
   "outputs": [
    {
     "name": "stdout",
     "output_type": "stream",
     "text": [
      "<class 'complex'>\n",
      "False\n",
      "False\n",
      "True\n"
     ]
    }
   ],
   "source": [
    "value3 = 50 + 6j\n",
    "print(type(value3))\n",
    "print(isinstance(value3, int))\n",
    "print(isinstance(value3, float))\n",
    "print(isinstance(value3, complex))"
   ],
   "metadata": {
    "collapsed": false,
    "ExecuteTime": {
     "end_time": "2023-07-04T12:29:17.220721Z",
     "start_time": "2023-07-04T12:29:10.339034Z"
    }
   }
  },
  {
   "cell_type": "code",
   "execution_count": 122,
   "outputs": [
    {
     "name": "stdout",
     "output_type": "stream",
     "text": [
      "13\n",
      "171\n",
      "19\n"
     ]
    }
   ],
   "source": [
    "print(0b1101)\n",
    "print(0xab)\n",
    "print(0o23)"
   ],
   "metadata": {
    "collapsed": false,
    "ExecuteTime": {
     "end_time": "2023-07-04T12:29:17.221065Z",
     "start_time": "2023-07-04T12:29:10.345191Z"
    }
   }
  },
  {
   "cell_type": "code",
   "execution_count": 123,
   "outputs": [
    {
     "name": "stdout",
     "output_type": "stream",
     "text": [
      "43.4\n"
     ]
    }
   ],
   "source": [
    "print(10 + 33.4)"
   ],
   "metadata": {
    "collapsed": false,
    "ExecuteTime": {
     "end_time": "2023-07-04T12:29:17.221358Z",
     "start_time": "2023-07-04T12:29:10.351699Z"
    }
   }
  },
  {
   "cell_type": "code",
   "execution_count": 124,
   "outputs": [
    {
     "name": "stdout",
     "output_type": "stream",
     "text": [
      "10\n",
      "-20\n",
      "10.0\n"
     ]
    }
   ],
   "source": [
    "# Type conversion\n",
    "print(int(10.5))\n",
    "print(int(-20.99))\n",
    "print(float(10))"
   ],
   "metadata": {
    "collapsed": false,
    "ExecuteTime": {
     "end_time": "2023-07-04T12:29:17.221654Z",
     "start_time": "2023-07-04T12:29:10.356411Z"
    }
   }
  },
  {
   "cell_type": "code",
   "execution_count": 125,
   "outputs": [
    {
     "name": "stdout",
     "output_type": "stream",
     "text": [
      "with normal way: 0.30000000000000004\n",
      "with Decimal: 0.3\n",
      "with normal way: 3.0\n",
      "with Decimal: 3.00\n"
     ]
    }
   ],
   "source": [
    "#Python Decimal\n",
    "from decimal import Decimal as D\n",
    "\n",
    "data1 = 0.1 + 0.2\n",
    "print(f\"with normal way: {data1}\")\n",
    "print(f\"with Decimal: {D('0.1') + D('0.2')}\")\n",
    "\n",
    "data1 = 1.20 * 2.50\n",
    "print(f\"with normal way: {data1}\")\n",
    "print(f\"with Decimal: {D('1.2') * D('2.5')}\")"
   ],
   "metadata": {
    "collapsed": false,
    "ExecuteTime": {
     "end_time": "2023-07-04T12:29:17.221963Z",
     "start_time": "2023-07-04T12:29:10.360456Z"
    }
   }
  },
  {
   "cell_type": "code",
   "execution_count": 126,
   "outputs": [
    {
     "name": "stdout",
     "output_type": "stream",
     "text": [
      "3/2\n",
      "5\n",
      "1/5\n",
      "3/70\n"
     ]
    }
   ],
   "source": [
    "# Python Fractions\n",
    "from fractions import Fraction as F\n",
    "\n",
    "print(F(1.5))\n",
    "print(F(5))\n",
    "print(F(1, 5))\n",
    "print(F(3, 70))"
   ],
   "metadata": {
    "collapsed": false,
    "ExecuteTime": {
     "end_time": "2023-07-04T12:29:17.222255Z",
     "start_time": "2023-07-04T12:29:10.367683Z"
    }
   }
  },
  {
   "cell_type": "code",
   "execution_count": 127,
   "outputs": [
    {
     "name": "stdout",
     "output_type": "stream",
     "text": [
      "3.141592653589793\n",
      "-0.8390715290764524\n",
      "2.302585092994046\n",
      "1.0\n",
      "22026.465794806718\n",
      "120\n",
      "11013.232874703393\n",
      "12.34\n"
     ]
    }
   ],
   "source": [
    "# Python math module\n",
    "import math\n",
    "\n",
    "print(math.pi)\n",
    "print(math.cos(10))\n",
    "print(math.log(10))\n",
    "print(math.log10(10))\n",
    "print(math.exp(10))\n",
    "print(math.factorial(5))\n",
    "print(math.sinh(10))\n",
    "print(abs(-12.34))"
   ],
   "metadata": {
    "collapsed": false,
    "ExecuteTime": {
     "end_time": "2023-07-04T12:29:17.222558Z",
     "start_time": "2023-07-04T12:29:10.373774Z"
    }
   }
  },
  {
   "cell_type": "code",
   "execution_count": 128,
   "outputs": [
    {
     "name": "stdout",
     "output_type": "stream",
     "text": [
      "Random number ->  10\n",
      "Random number ->  12\n",
      "Random number ->  5\n",
      "Random number ->  9\n",
      "Tue\n",
      "['Sun', 'Mon', 'Tue', 'Wed', 'Thu', 'Fri', 'Sat']\n",
      "['Fri', 'Wed', 'Mon', 'Sat', 'Thu', 'Sun', 'Tue']\n",
      "0.4628937901240404\n"
     ]
    }
   ],
   "source": [
    "# Python random module\n",
    "import random\n",
    "\n",
    "print('Random number -> ', random.randrange(5, 15))\n",
    "print('Random number -> ', random.randrange(5, 15))\n",
    "print('Random number -> ', random.randrange(5, 15))\n",
    "print('Random number -> ', random.randrange(5, 15))\n",
    "day = ['Sun', 'Mon', 'Tue', 'Wed', 'Thu', 'Fri', 'Sat']\n",
    "print(random.choice(day))\n",
    "print(day)\n",
    "random.shuffle(day)\n",
    "print(day)\n",
    "# Print random element\n",
    "print(random.random())"
   ],
   "metadata": {
    "collapsed": false,
    "ExecuteTime": {
     "end_time": "2023-07-04T12:29:17.222897Z",
     "start_time": "2023-07-04T12:29:10.380565Z"
    }
   }
  },
  {
   "cell_type": "markdown",
   "source": [
    "# Namespace\n",
    "\n",
    "![image27](./images/014.png)"
   ],
   "metadata": {
    "collapsed": false
   }
  },
  {
   "cell_type": "markdown",
   "source": [
    "![image28](./images/014-01.png)"
   ],
   "metadata": {
    "collapsed": false
   }
  },
  {
   "cell_type": "code",
   "execution_count": 129,
   "outputs": [
    {
     "name": "stdout",
     "output_type": "stream",
     "text": [
      "id(2)= 4501532232\n",
      "id(a)= 4501532232\n",
      "id(a)= 4501532232\n",
      "id(a)= 4501532264\n",
      "id(3)= 4501532264\n",
      "id(2)= 4501532232\n",
      "id(b)= 4501532232\n"
     ]
    }
   ],
   "source": [
    "# Name (also called identifier) is simply a name given to objects.\n",
    "# We can get the address (in RAM) of some object through the built-in function, id(). #Note: You may get different value of id\n",
    "a = 2\n",
    "# Output: id (2)= 4363189832\n",
    "print('id(2)=', id(2))\n",
    "\n",
    "#Output: id (a) = 4363189832\n",
    "print('id(a)=', id(a))\n",
    "a = 2\n",
    "# Output: id (a) = 4363189832\n",
    "print('id(a)=', id(a))\n",
    "\n",
    "a = a + 1\n",
    "#Output: id(a) = 4363189864\n",
    "print('id(a)=', id(a))\n",
    "#Output: id(3) = 4363189864\n",
    "print('id(3)=', id(3))\n",
    "b = 2\n",
    "#Output: id(2) = 4363189832\n",
    "print('id(2)=', id(2))\n",
    "print('id(b)=', id(b))"
   ],
   "metadata": {
    "collapsed": false,
    "ExecuteTime": {
     "end_time": "2023-07-04T12:29:17.284029Z",
     "start_time": "2023-07-04T12:29:10.443468Z"
    }
   }
  },
  {
   "cell_type": "code",
   "execution_count": 130,
   "outputs": [
    {
     "name": "stdout",
     "output_type": "stream",
     "text": [
      "a = 10\n",
      "a = 30\n",
      "a = 30\n",
      "a = 30\n"
     ]
    }
   ],
   "source": [
    "#Scope\n",
    "\n",
    "def outer_function():\n",
    "    global a\n",
    "    a = 20\n",
    "\n",
    "    def inner_function():\n",
    "        global a\n",
    "        a = 30\n",
    "        print('a =', a)\n",
    "\n",
    "    inner_function()\n",
    "    print('a =', a)\n",
    "\n",
    "\n",
    "a = 10\n",
    "print('a =', a)\n",
    "outer_function()\n",
    "print('a =', a)"
   ],
   "metadata": {
    "collapsed": false,
    "ExecuteTime": {
     "end_time": "2023-07-04T12:29:17.284410Z",
     "start_time": "2023-07-04T12:29:10.449423Z"
    }
   }
  },
  {
   "cell_type": "code",
   "execution_count": 131,
   "outputs": [
    {
     "name": "stdout",
     "output_type": "stream",
     "text": [
      "a = 10\n",
      "a = 30\n",
      "a = 20\n",
      "a = 30\n"
     ]
    }
   ],
   "source": [
    "def outer_function():\n",
    "    a = 20\n",
    "\n",
    "    def inner_function():\n",
    "        global a\n",
    "        a = 30\n",
    "        print('a =', a)\n",
    "\n",
    "    inner_function()\n",
    "    print('a =', a)\n",
    "\n",
    "\n",
    "a = 10\n",
    "print('a =', a)\n",
    "outer_function()\n",
    "print('a =', a)"
   ],
   "metadata": {
    "collapsed": false,
    "ExecuteTime": {
     "end_time": "2023-07-04T12:29:17.284715Z",
     "start_time": "2023-07-04T12:29:10.454186Z"
    }
   }
  },
  {
   "cell_type": "markdown",
   "source": [
    "# Local && Global and Nonlocal Variables\n",
    "\n",
    "![image29](./images/015.png)"
   ],
   "metadata": {
    "collapsed": false
   }
  },
  {
   "cell_type": "code",
   "execution_count": 132,
   "outputs": [
    {
     "name": "stdout",
     "output_type": "stream",
     "text": [
      "Global x =  global\n",
      "globalglobal\n",
      "local\n",
      "Global x =  globalglobal\n"
     ]
    }
   ],
   "source": [
    "# Global and Local variable with different name\n",
    "x = \"global\"  # Global variable can be accessed from anywhere\n",
    "\n",
    "\n",
    "def funct1():\n",
    "    global x\n",
    "    y = \"local\"\n",
    "    x = x * 2\n",
    "    print(x)\n",
    "    print(y)\n",
    "\n",
    "\n",
    "print(\"Global x = \", x)\n",
    "funct1()\n",
    "print(\"Global x = \", x)"
   ],
   "metadata": {
    "collapsed": false,
    "ExecuteTime": {
     "end_time": "2023-07-04T12:29:17.441898Z",
     "start_time": "2023-07-04T12:29:10.500921Z"
    }
   }
  },
  {
   "cell_type": "code",
   "execution_count": 133,
   "outputs": [
    {
     "name": "stdout",
     "output_type": "stream",
     "text": [
      "global a: 5\n",
      "local a: 10\n",
      "global a: 5\n"
     ]
    }
   ],
   "source": [
    "# Global and Local variable with same name\n",
    "a = 5\n",
    "\n",
    "\n",
    "def funct2():\n",
    "    a = 10  # Local variables are accessed from the block where it is defined only\n",
    "    print(\"local a:\", a)\n",
    "\n",
    "\n",
    "print(\"global a:\", a)\n",
    "funct2()\n",
    "print(\"global a:\", a)"
   ],
   "metadata": {
    "collapsed": false,
    "ExecuteTime": {
     "end_time": "2023-07-04T12:29:17.442316Z",
     "start_time": "2023-07-04T12:29:10.507792Z"
    }
   }
  },
  {
   "cell_type": "code",
   "execution_count": 134,
   "outputs": [
    {
     "name": "stdout",
     "output_type": "stream",
     "text": [
      "inner: nonlocal\n",
      "outer: nonlocal\n"
     ]
    }
   ],
   "source": [
    "# Creating and using a Non-Local variable\n",
    "def outer():\n",
    "    x = \"local\"\n",
    "\n",
    "    def inner():\n",
    "        nonlocal x  # Nonlocal variable are used in nested function\n",
    "        x = \"nonlocal\"\n",
    "        print(\"inner:\", x)\n",
    "\n",
    "    inner()\n",
    "    print(\"outer:\", x)  # This will print 'nonlocal' also\n",
    "\n",
    "\n",
    "outer()"
   ],
   "metadata": {
    "collapsed": false,
    "ExecuteTime": {
     "end_time": "2023-07-04T12:29:17.442645Z",
     "start_time": "2023-07-04T12:29:10.512232Z"
    }
   }
  },
  {
   "cell_type": "code",
   "execution_count": 135,
   "outputs": [
    {
     "name": "stdout",
     "output_type": "stream",
     "text": [
      "a = 30\n",
      "a = 20\n"
     ]
    }
   ],
   "source": [
    "def outer_function():\n",
    "    a = 20\n",
    "\n",
    "    def inner_function():\n",
    "        a = 30\n",
    "        print('a =', a)\n",
    "\n",
    "    inner_function()\n",
    "    print('a =', a)\n",
    "\n",
    "\n",
    "outer_function()"
   ],
   "metadata": {
    "collapsed": false,
    "ExecuteTime": {
     "end_time": "2023-07-04T12:29:17.442957Z",
     "start_time": "2023-07-04T12:29:10.519212Z"
    }
   }
  },
  {
   "cell_type": "code",
   "execution_count": 136,
   "outputs": [
    {
     "name": "stdout",
     "output_type": "stream",
     "text": [
      "a = 30\n",
      "a = 30\n"
     ]
    }
   ],
   "source": [
    "def outer_function():\n",
    "    a = 20\n",
    "\n",
    "    def inner_function():\n",
    "        nonlocal a\n",
    "        a = 30\n",
    "        print('a =', a)\n",
    "\n",
    "    inner_function()\n",
    "    print('a =', a)\n",
    "\n",
    "\n",
    "outer_function()"
   ],
   "metadata": {
    "collapsed": false,
    "ExecuteTime": {
     "end_time": "2023-07-04T12:29:17.443237Z",
     "start_time": "2023-07-04T12:29:10.525908Z"
    }
   }
  },
  {
   "cell_type": "code",
   "execution_count": 137,
   "outputs": [
    {
     "name": "stdout",
     "output_type": "stream",
     "text": [
      "before calling inner_function b= 20\n",
      "before calling inner_function c= 300\n",
      "changing global b value 10\n",
      "changing nonlocal c value 300\n",
      "b = 3028932846923\n",
      "c = 5050505\n",
      "after calling inner_function b= 20\n",
      "after calling inner_function c= 5050505\n",
      "b = 3028932846923\n",
      "c = 100\n"
     ]
    }
   ],
   "source": [
    "b = 10\n",
    "c = 100\n",
    "\n",
    "\n",
    "def outer_function2():\n",
    "    b = 20\n",
    "    c = 300\n",
    "\n",
    "    def inner_function():\n",
    "        global b\n",
    "        print('changing global b value', b)\n",
    "        b = 3028932846923\n",
    "        nonlocal c\n",
    "        print('changing nonlocal c value', c)\n",
    "        c = 5050505\n",
    "        print('b =', b)\n",
    "        print('c =', c)\n",
    "\n",
    "    print('before calling inner_function b=', b)\n",
    "    print('before calling inner_function c=', c)\n",
    "    inner_function()\n",
    "    print('after calling inner_function b=', b)\n",
    "    print('after calling inner_function c=', c)\n",
    "\n",
    "\n",
    "outer_function2()\n",
    "print('b =', b)\n",
    "print('c =', c)"
   ],
   "metadata": {
    "collapsed": false,
    "ExecuteTime": {
     "end_time": "2023-07-04T12:29:17.443654Z",
     "start_time": "2023-07-04T12:29:10.529509Z"
    }
   }
  },
  {
   "cell_type": "markdown",
   "source": [
    "## Global variables\n",
    "\n",
    "![image30](./images/016.png)"
   ],
   "metadata": {
    "collapsed": false
   }
  },
  {
   "cell_type": "code",
   "execution_count": 138,
   "outputs": [
    {
     "name": "stdout",
     "output_type": "stream",
     "text": [
      "Before calling funct2:  20\n",
      "Calling funct2 now\n",
      "After calling funct2:  20\n",
      "x in main :  25\n"
     ]
    }
   ],
   "source": [
    "def funct1():\n",
    "    x = 20\n",
    "\n",
    "    def funct2():\n",
    "        global x\n",
    "        # Global keyword is used to modify a global variable\n",
    "        x = 25\n",
    "\n",
    "    print(\"Before calling funct2: \", x)\n",
    "    print(\"Calling funct2 now\")\n",
    "    funct2()\n",
    "    print(\"After calling funct2: \", x)\n",
    "\n",
    "\n",
    "funct1()\n",
    "print(\"x in main : \", x)"
   ],
   "metadata": {
    "collapsed": false,
    "ExecuteTime": {
     "end_time": "2023-07-04T12:29:17.474667Z",
     "start_time": "2023-07-04T12:29:10.558355Z"
    }
   }
  },
  {
   "cell_type": "markdown",
   "source": [
    "# Iterators\n",
    "\n",
    "![image31](./images/017.png)"
   ],
   "metadata": {
    "collapsed": false
   }
  },
  {
   "cell_type": "code",
   "execution_count": 139,
   "outputs": [
    {
     "name": "stdout",
     "output_type": "stream",
     "text": [
      "44\n",
      "77\n",
      "11\n",
      "33\n"
     ]
    }
   ],
   "source": [
    "#defining a list\n",
    "our_list = [44, 77, 11, 33]\n",
    "# get an iterator using iter() method\n",
    "our_iter = iter(our_list)\n",
    "## iterate through it using next() method\n",
    "# prints 44\n",
    "print(next(our_iter))\n",
    "# prints 77\n",
    "print(next(our_iter))\n",
    "## next(obj) is same as calling obj.__next__() method\n",
    "# prints 11\n",
    "print(our_iter.__next__())\n",
    "# prints 33\n",
    "print(our_iter.__next__())\n",
    "# This will raise error, no items left\n",
    "# print (our_iter.__next__())"
   ],
   "metadata": {
    "collapsed": false,
    "ExecuteTime": {
     "end_time": "2023-07-04T12:29:17.535436Z",
     "start_time": "2023-07-04T12:29:10.616629Z"
    }
   }
  },
  {
   "cell_type": "code",
   "execution_count": 140,
   "outputs": [
    {
     "name": "stdout",
     "output_type": "stream",
     "text": [
      "Class to implement an iterator\n",
      "    of powers of two\n",
      "1\n",
      "2\n",
      "4\n",
      "8\n",
      "16\n"
     ]
    }
   ],
   "source": [
    "#Creating a custom iterrator\n",
    "class Pow_of_Two:\n",
    "    '''Class to implement an iterator\n",
    "    of powers of two'''\n",
    "\n",
    "    def __init__(self, max=0):\n",
    "        self.max = max\n",
    "\n",
    "    def __iter__(self):\n",
    "        self.n = 0\n",
    "        self.constant_number = 2\n",
    "        return self\n",
    "\n",
    "    def __next__(self):\n",
    "        if self.n <= self.max:\n",
    "            result = self.constant_number ** self.n\n",
    "            self.n += 1\n",
    "            return result\n",
    "        else:\n",
    "            raise StopIteration\n",
    "\n",
    "\n",
    "print(Pow_of_Two.__doc__)\n",
    "a = Pow_of_Two(4)  # create an object # 4 is the max value\n",
    "i = iter(a)  # create an iterable object\n",
    "print(next(i))  # print the first item from the iterator\n",
    "print(next(i))  # print the next item from the iterator\n",
    "print(next(i))  # print the next item from the iterator\n",
    "print(next(i))  # print the next item from the iterator\n",
    "print(next(i))  # print the last item from the iterator"
   ],
   "metadata": {
    "collapsed": false,
    "ExecuteTime": {
     "end_time": "2023-07-04T12:29:17.536071Z",
     "start_time": "2023-07-04T12:29:10.625120Z"
    }
   }
  },
  {
   "cell_type": "code",
   "execution_count": 141,
   "outputs": [
    {
     "name": "stdout",
     "output_type": "stream",
     "text": [
      "1\n",
      "3\n",
      "5\n",
      "7\n"
     ]
    }
   ],
   "source": [
    "#Creating an infinite iterator\n",
    "class InfIter:\n",
    "    '''Infinite iterator to return all\n",
    "        odd numbers'''\n",
    "\n",
    "    def __iter__(self):\n",
    "        self.num = 1\n",
    "        return self\n",
    "\n",
    "    def __next__(self):\n",
    "        num = self.num\n",
    "        self.num += 2\n",
    "        return num\n",
    "\n",
    "\n",
    "a = iter(InfIter())\n",
    "print(next(a))\n",
    "print(next(a))\n",
    "print(next(a))\n",
    "print(next(a))\n"
   ],
   "metadata": {
    "collapsed": false,
    "ExecuteTime": {
     "end_time": "2023-07-04T12:29:17.536429Z",
     "start_time": "2023-07-04T12:29:10.630049Z"
    }
   }
  },
  {
   "cell_type": "markdown",
   "source": [
    "# Iterations using for loop\n",
    "\n",
    "![image32](./images/018.png)"
   ],
   "metadata": {
    "collapsed": false
   }
  },
  {
   "cell_type": "markdown",
   "source": [
    "![image33](./images/018-01.png)"
   ],
   "metadata": {
    "collapsed": false
   }
  },
  {
   "cell_type": "markdown",
   "source": [
    "![image34](./images/018-02.png)"
   ],
   "metadata": {
    "collapsed": false
   }
  },
  {
   "cell_type": "code",
   "execution_count": 142,
   "outputs": [
    {
     "name": "stdout",
     "output_type": "stream",
     "text": [
      "1 hello\n",
      "2 hello\n",
      "3 hello\n",
      "4 hello\n",
      "5 hello\n",
      "6 hello\n",
      "7 hello\n",
      "8 hello\n",
      "9 hello\n",
      "10 hello\n"
     ]
    }
   ],
   "source": [
    "# Printing all the elements present in a set\n",
    "a = [1, 2, 3, 4, 5, 6, 7, 8, 9, 10]\n",
    "for i in a:\n",
    "    print(i, end=\" \")\n",
    "    print(\"hello\")"
   ],
   "metadata": {
    "collapsed": false,
    "ExecuteTime": {
     "end_time": "2023-07-04T12:29:17.626724Z",
     "start_time": "2023-07-04T12:29:10.785945Z"
    }
   }
  },
  {
   "cell_type": "code",
   "execution_count": 143,
   "outputs": [
    {
     "name": "stdout",
     "output_type": "stream",
     "text": [
      "6\n",
      "8\n",
      "10\n"
     ]
    }
   ],
   "source": [
    "# Using range in for Loop\n",
    "for i in range(6, 11, 2):\n",
    "    print(i)"
   ],
   "metadata": {
    "collapsed": false,
    "ExecuteTime": {
     "end_time": "2023-07-04T12:29:17.627137Z",
     "start_time": "2023-07-04T12:29:10.791758Z"
    }
   }
  },
  {
   "cell_type": "code",
   "execution_count": 144,
   "outputs": [
    {
     "name": "stdout",
     "output_type": "stream",
     "text": [
      "11\n",
      "12\n",
      "13\n",
      "14\n",
      "15\n",
      "Printing Completed!\n"
     ]
    }
   ],
   "source": [
    "# Using for Loop for printing the values present in the # tuple and using the else command in the for Loop\n",
    "b = (11, 12, 13, 14, 15)\n",
    "for i in b:\n",
    "    print(i)\n",
    "else:\n",
    "    print(\"Printing Completed!\")"
   ],
   "metadata": {
    "collapsed": false,
    "ExecuteTime": {
     "end_time": "2023-07-04T12:29:17.627445Z",
     "start_time": "2023-07-04T12:29:10.797059Z"
    }
   }
  },
  {
   "cell_type": "markdown",
   "source": [
    "# Inheritance\n",
    "\n",
    "![image35](./images/019.png)"
   ],
   "metadata": {
    "collapsed": false
   }
  },
  {
   "cell_type": "code",
   "execution_count": 145,
   "outputs": [],
   "source": [
    "# Creating Class and Object in Python\n",
    "class MyBird:\n",
    "    def __init__(self):\n",
    "        print(\"myBird class constructor is executing...\")\n",
    "\n",
    "    def whatType(self):\n",
    "        print(\"I am a Bird...\")\n",
    "\n",
    "    def canSwim(self):\n",
    "        print(\"I can Swim...\")\n"
   ],
   "metadata": {
    "collapsed": false,
    "ExecuteTime": {
     "end_time": "2023-07-04T12:29:17.816968Z",
     "start_time": "2023-07-04T12:29:10.844732Z"
    }
   }
  },
  {
   "cell_type": "code",
   "execution_count": 146,
   "outputs": [],
   "source": [
    "#myPenguin class inheriting the attributes from the myBird class\n",
    "class myPenguin(MyBird):\n",
    "    def __init__(self):\n",
    "        # call super() function\n",
    "        super().__init__()\n",
    "        print(\"myPenguin class constructor is executing...\")\n",
    "\n",
    "    def whoisThis(self):\n",
    "        print(\"I am Penguin...\")\n",
    "\n",
    "    def canRun(self):\n",
    "        print(\"I can run faster...\")"
   ],
   "metadata": {
    "collapsed": false,
    "ExecuteTime": {
     "end_time": "2023-07-04T12:29:17.817407Z",
     "start_time": "2023-07-04T12:29:10.850727Z"
    }
   }
  },
  {
   "cell_type": "code",
   "execution_count": 147,
   "outputs": [
    {
     "name": "stdout",
     "output_type": "stream",
     "text": [
      "myBird class constructor is executing...\n",
      "myPenguin class constructor is executing...\n",
      "I am a Bird...\n",
      "I am Penguin...\n",
      "I can Swim...\n",
      "I can run faster...\n"
     ]
    }
   ],
   "source": [
    "# Accessing the child class's attributes (Inheritance)\n",
    "pg1 = myPenguin()\n",
    "pg1.whatType()  #defined in myBird class\n",
    "pg1.whoisThis()  #defined in myPenguin class\n",
    "pg1.canSwim()  #defined in myBird class\n",
    "pg1.canRun()  #defined in myPenguin class"
   ],
   "metadata": {
    "collapsed": false,
    "ExecuteTime": {
     "end_time": "2023-07-04T12:29:17.817755Z",
     "start_time": "2023-07-04T12:29:10.854637Z"
    }
   }
  },
  {
   "cell_type": "code",
   "execution_count": 148,
   "outputs": [],
   "source": [
    "# Polymorphism\n",
    "class MyParrot:\n",
    "    def canFly(self):\n",
    "        print(\"Parrot can fly...\\n\")\n",
    "\n",
    "    def canSwim(self):\n",
    "        print(\"Parrot can't swim...\\n\")"
   ],
   "metadata": {
    "collapsed": false,
    "ExecuteTime": {
     "end_time": "2023-07-04T12:29:17.817934Z",
     "start_time": "2023-07-04T12:29:10.860496Z"
    }
   }
  },
  {
   "cell_type": "code",
   "execution_count": 149,
   "outputs": [],
   "source": [
    "class MyPenguin:\n",
    "    def canFly(self):\n",
    "        print(\"Penguin can't fly...\\n\")\n",
    "\n",
    "    def canSwim(self):\n",
    "        print(\"Penguin can swim...\\n\")"
   ],
   "metadata": {
    "collapsed": false,
    "ExecuteTime": {
     "end_time": "2023-07-04T12:29:17.818103Z",
     "start_time": "2023-07-04T12:29:10.866515Z"
    }
   }
  },
  {
   "cell_type": "code",
   "execution_count": 150,
   "outputs": [],
   "source": [
    "# common interface\n",
    "def flying_bird_test(bird):\n",
    "    bird.canFly()\n",
    "    bird.canSwim()"
   ],
   "metadata": {
    "collapsed": false,
    "ExecuteTime": {
     "end_time": "2023-07-04T12:29:17.818268Z",
     "start_time": "2023-07-04T12:29:10.870882Z"
    }
   }
  },
  {
   "cell_type": "code",
   "execution_count": 151,
   "outputs": [
    {
     "name": "stdout",
     "output_type": "stream",
     "text": [
      "Parrot can fly...\n",
      "\n",
      "Parrot can't swim...\n",
      "\n",
      "Penguin can't fly...\n",
      "\n",
      "Penguin can swim...\n",
      "\n"
     ]
    }
   ],
   "source": [
    "# instantiate objects\n",
    "bird_parrot = MyParrot()\n",
    "bird_penguin = MyPenguin()\n",
    "#passing the object\n",
    "flying_bird_test(bird_parrot)\n",
    "flying_bird_test(bird_penguin)"
   ],
   "metadata": {
    "collapsed": false,
    "ExecuteTime": {
     "end_time": "2023-07-04T12:29:17.818559Z",
     "start_time": "2023-07-04T12:29:10.875286Z"
    }
   }
  },
  {
   "cell_type": "markdown",
   "source": [
    "# Multiple Inheritance\n",
    "\n",
    "![image36](./images/020.png)"
   ],
   "metadata": {
    "collapsed": false
   }
  },
  {
   "cell_type": "code",
   "execution_count": 152,
   "outputs": [],
   "source": [
    "# Multiple Inheritance\n",
    "class Basel:\n",
    "    pass\n",
    "class Base2:\n",
    "    pass\n",
    "class MultiDerived(Basel, Base2):\n",
    "    pass"
   ],
   "metadata": {
    "collapsed": false,
    "ExecuteTime": {
     "end_time": "2023-07-04T12:29:17.957439Z",
     "start_time": "2023-07-04T12:29:10.901766Z"
    }
   }
  },
  {
   "cell_type": "code",
   "execution_count": 153,
   "outputs": [],
   "source": [
    "# Multiple Inheritance\n",
    "class Base1:\n",
    "    def funcBasel(self):\n",
    "        print(\"funcBase1() is executing...\")\n",
    "\n",
    "class Base2:\n",
    "    def funcBase2(self):\n",
    "        print(\"funcBase2() is executing...\")\n",
    "\n",
    "class Base3:\n",
    "    def funcBase3(self):\n",
    "        print(\"funcBase3() is executing...\")\n",
    "\n",
    "class MultiDerived(Base1, Base2, Base3):\n",
    "    def funcMultiDerived(self):\n",
    "        print(\"funcMultiDerived() is executing...\")"
   ],
   "metadata": {
    "collapsed": false,
    "ExecuteTime": {
     "end_time": "2023-07-04T12:29:17.957753Z",
     "start_time": "2023-07-04T12:29:10.908073Z"
    }
   }
  },
  {
   "cell_type": "code",
   "execution_count": 154,
   "outputs": [
    {
     "name": "stdout",
     "output_type": "stream",
     "text": [
      "funcBase1() is executing...\n",
      "funcBase2() is executing...\n",
      "funcBase3() is executing...\n",
      "funcMultiDerived() is executing...\n"
     ]
    }
   ],
   "source": [
    "# Creating an object of the derived class\n",
    "objMD = MultiDerived()\n",
    "objMD.funcBasel()\n",
    "objMD.funcBase2()\n",
    "objMD.funcBase3()\n",
    "objMD.funcMultiDerived()"
   ],
   "metadata": {
    "collapsed": false,
    "ExecuteTime": {
     "end_time": "2023-07-04T12:29:17.958114Z",
     "start_time": "2023-07-04T12:29:10.911755Z"
    }
   }
  },
  {
   "cell_type": "code",
   "execution_count": 155,
   "outputs": [],
   "source": [
    "#use inti and super\n",
    "class Base1:\n",
    "    def __init__(self):\n",
    "        self.str1 = \"Geek1\"\n",
    "        print(\"Base1\")\n",
    "\n",
    "class Base2:\n",
    "    def __init__(self):\n",
    "        self.str2 = \"Geek2\"\n",
    "        print(\"Base2\")"
   ],
   "metadata": {
    "collapsed": false,
    "ExecuteTime": {
     "end_time": "2023-07-04T12:29:17.958287Z",
     "start_time": "2023-07-04T12:29:10.919783Z"
    }
   }
  },
  {
   "cell_type": "code",
   "execution_count": 156,
   "outputs": [],
   "source": [
    "class Derived(Base1, Base2):\n",
    "    def __init__(self):\n",
    "        # Calling constructors of Base1\n",
    "        # and Base2 classes\n",
    "        # super().__init__() will call the __init__() method of the Base1 class only\n",
    "        Base1.__init__(self)\n",
    "        Base2.__init__(self)\n",
    "        print(\"Derived\")\n",
    "\n",
    "    def printStrs(self):\n",
    "        print(self.str1, self.str2)"
   ],
   "metadata": {
    "collapsed": false,
    "ExecuteTime": {
     "end_time": "2023-07-04T12:29:17.958466Z",
     "start_time": "2023-07-04T12:29:10.923977Z"
    }
   }
  },
  {
   "cell_type": "code",
   "execution_count": 157,
   "outputs": [
    {
     "name": "stdout",
     "output_type": "stream",
     "text": [
      "Base1\n",
      "Base2\n",
      "Derived\n",
      "Geek1 Geek2\n"
     ]
    }
   ],
   "source": [
    "ob = Derived()\n",
    "ob.printStrs()"
   ],
   "metadata": {
    "collapsed": false,
    "ExecuteTime": {
     "end_time": "2023-07-04T12:29:17.958902Z",
     "start_time": "2023-07-04T12:29:10.929484Z"
    }
   }
  },
  {
   "cell_type": "markdown",
   "source": [
    "# Function Arguments\n",
    "\n",
    "![image37](./images/021.png)"
   ],
   "metadata": {
    "collapsed": false
   }
  },
  {
   "cell_type": "code",
   "execution_count": 158,
   "outputs": [
    {
     "name": "stdout",
     "output_type": "stream",
     "text": [
      "Max number between 10 and 20 is  20\n"
     ]
    }
   ],
   "source": [
    "def findMax(a, b):\n",
    "    \"\"\"Function taking arguments and returning a value.\"\"\"\n",
    "    if a>b:\n",
    "        return a\n",
    "    else:\n",
    "        return b\n",
    "print(\"Max number between 10 and 20 is \",findMax(10,20))"
   ],
   "metadata": {
    "collapsed": false,
    "ExecuteTime": {
     "end_time": "2023-07-04T12:29:18.069589Z",
     "start_time": "2023-07-04T12:29:10.959809Z"
    }
   }
  },
  {
   "cell_type": "code",
   "execution_count": 159,
   "outputs": [
    {
     "name": "stdout",
     "output_type": "stream",
     "text": [
      "Hello Agnibha , have a nice day.\n",
      "Hello Agnibha how are you?\n"
     ]
    }
   ],
   "source": [
    "def hello(name, msg=\"how are you?\"):\n",
    "    \"\"\"Function with default parameter.\"\"\"\n",
    "    print(\"Hello\",name, msg)\n",
    "\n",
    "hello(\"Agnibha\",\", have a nice day.\")\n",
    "hello(\"Agnibha\")"
   ],
   "metadata": {
    "collapsed": false,
    "ExecuteTime": {
     "end_time": "2023-07-04T12:29:18.070052Z",
     "start_time": "2023-07-04T12:29:10.965758Z"
    }
   }
  },
  {
   "cell_type": "code",
   "execution_count": 160,
   "outputs": [
    {
     "name": "stdout",
     "output_type": "stream",
     "text": [
      "Sum of all the integers between 1-5 is  15\n"
     ]
    }
   ],
   "source": [
    "def sumArg(*args):\n",
    "    \"\"\"Function with arbitrary arguments.\"\"\"\n",
    "    sum=0\n",
    "    for i in args:\n",
    "        sum += i\n",
    "    return sum\n",
    "print(\"Sum of all the integers between 1-5 is \", sumArg(1,2,3,4,5))"
   ],
   "metadata": {
    "collapsed": false,
    "ExecuteTime": {
     "end_time": "2023-07-04T12:29:18.070396Z",
     "start_time": "2023-07-04T12:29:10.970013Z"
    }
   }
  },
  {
   "cell_type": "code",
   "execution_count": 161,
   "outputs": [
    {
     "name": "stdout",
     "output_type": "stream",
     "text": [
      "a = 1 b = 2 c = 3\n",
      "a = 1 b = 2 c = 200\n",
      "a = 1 b = 2 c = 200\n"
     ]
    }
   ],
   "source": [
    "def defaultArg(a, b, c=200):\n",
    "    \"\"\"Function with default argument.\"\"\"\n",
    "    print(\"a = {} b = {} c = {}\".format(a,b,c))\n",
    "\n",
    "\n",
    "defaultArg(1,2,3)\n",
    "defaultArg(1,2)\n",
    "# defaultArg(1) # error as a and b are mandatory\n",
    "defaultArg(b=2, a=1) # order of arguments can be changed"
   ],
   "metadata": {
    "collapsed": false,
    "ExecuteTime": {
     "end_time": "2023-07-04T12:29:18.070681Z",
     "start_time": "2023-07-04T12:29:10.975704Z"
    }
   }
  },
  {
   "cell_type": "markdown",
   "source": [
    "# python function\n",
    "\n",
    "![image38](./images/022.png)"
   ],
   "metadata": {
    "collapsed": false
   }
  },
  {
   "cell_type": "code",
   "execution_count": 162,
   "outputs": [
    {
     "name": "stdout",
     "output_type": "stream",
     "text": [
      "Hello, I am function 1\n",
      "I am from Egypt\n",
      "I am from Egypt\n",
      "This function returns a string.\n"
     ]
    }
   ],
   "source": [
    "# function without return statement\n",
    "def func1():\n",
    "    \"\"\"This function does not return anything.\"\"\"\n",
    "    print(\"Hello, I am function 1\")\n",
    "    print(\"I am from Egypt\")\n",
    "\n",
    "func1()\n",
    "\n",
    "# function with return statement\n",
    "def func2():\n",
    "    '''This function returns a string.'''\n",
    "    return \"I am from Egypt\"\n",
    "\n",
    "print(func2())\n",
    "print(func2.__doc__)"
   ],
   "metadata": {
    "collapsed": false,
    "ExecuteTime": {
     "end_time": "2023-07-04T12:29:18.115593Z",
     "start_time": "2023-07-04T12:29:11.017364Z"
    }
   }
  },
  {
   "cell_type": "code",
   "execution_count": 163,
   "outputs": [
    {
     "name": "stdout",
     "output_type": "stream",
     "text": [
      "Main Menu...\n",
      "1 > Addition operation...\n",
      "2 > Subtraction operation...\n",
      "3 > Multiplication operation...\n",
      "4 > Division operation...\n",
      "Performing the subtraction operation...\n",
      "The result of the subtraction operation is  0\n"
     ]
    }
   ],
   "source": [
    "def myAddition(x,y):\n",
    "    print(\"Performing the addition operation...\")\n",
    "    return(x+y)\n",
    "def mySubtraction(x,y):\n",
    "    print(\"Performing the subtraction operation...\")\n",
    "    return(x-y)\n",
    "def myMultiplication(x,y):\n",
    "    print(\"Performing the multiplication operation...\")\n",
    "    return(x*y)\n",
    "def myDivision(x,y):\n",
    "    print(\"Performing the division operation...\")\n",
    "    return(x/y)\n",
    "def myMenu():\n",
    "    print(\"Main Menu...\")\n",
    "    print(\"1 > Addition operation...\")\n",
    "    print(\"2 > Subtraction operation...\")\n",
    "    print(\"3 > Multiplication operation...\")\n",
    "    print(\"4 > Division operation...\")\n",
    "    # make a validation for the input with isdigit() function\n",
    "    while True:\n",
    "        ch = input(\"Please enter your choice...\")\n",
    "        if ch.isdigit():\n",
    "            ch = int(ch)\n",
    "            if ch>=1 and ch<=4:\n",
    "                return ch\n",
    "            else:\n",
    "                print(\"Invalid choice, please enter a valid choice...\")\n",
    "        else:\n",
    "            print(\"Invalid choice, please enter a valid choice...\")\n",
    "\n",
    "\n",
    "def calculation():\n",
    "    ch = myMenu()\n",
    "    while True:\n",
    "        try:\n",
    "            num1 = int(input(\"Please enter the first number...\"))\n",
    "            num2 = int(input(\"Please enter the second number...\"))\n",
    "            break\n",
    "        except ValueError:\n",
    "            print(\"Invalid input, please enter a valid number...\")\n",
    "    if ch == 1:\n",
    "        print(\"The result of the addition operation is \", myAddition(num1,num2))\n",
    "    elif ch == 2:\n",
    "        print(\"The result of the subtraction operation is \", mySubtraction(num1,num2))\n",
    "    elif ch == 3:\n",
    "        print(\"The result of the multiplication operation is \", myMultiplication(num1,num2))\n",
    "    elif ch == 4:\n",
    "        print(\"The result of the division operation is \", myDivision(num1,num2))\n",
    "    else:\n",
    "        print(\"Invalid choice, please enter a valid choice...\")\n",
    "\n",
    "calculation()"
   ],
   "metadata": {
    "collapsed": false,
    "ExecuteTime": {
     "end_time": "2023-07-04T12:29:28.761046Z",
     "start_time": "2023-07-04T12:29:11.028180Z"
    }
   }
  },
  {
   "cell_type": "markdown",
   "source": [
    "# Break statement\n",
    "\n",
    "![image39](./images/023.png)"
   ],
   "metadata": {
    "collapsed": false
   }
  },
  {
   "cell_type": "markdown",
   "source": [
    "![image40](./images/23-01.png)"
   ],
   "metadata": {
    "collapsed": false
   }
  },
  {
   "cell_type": "markdown",
   "source": [
    "![image41](./images/023-02.png)"
   ],
   "metadata": {
    "collapsed": false
   }
  },
  {
   "cell_type": "code",
   "execution_count": 164,
   "outputs": [
    {
     "name": "stdout",
     "output_type": "stream",
     "text": [
      "Number to be guessed:  19\n",
      "Number Guessed:  1\n",
      "Number Guessed:  2\n",
      "Number Guessed:  3\n",
      "Number Guessed:  4\n",
      "Number Guessed:  5\n",
      "Number Guessed:  6\n",
      "Number Guessed:  7\n",
      "Number Guessed:  8\n",
      "Number Guessed:  9\n",
      "Number Guessed:  10\n",
      "Number Guessed:  11\n",
      "Number Guessed:  12\n",
      "Number Guessed:  13\n",
      "Number Guessed:  14\n",
      "Number Guessed:  15\n",
      "Number Guessed:  16\n",
      "Number Guessed:  17\n",
      "Number Guessed:  18\n",
      "Number Guessed:  19\n",
      "Random Number has been guessed successfully!\n",
      "End of the program\n"
     ]
    }
   ],
   "source": [
    "import random as r\n",
    "\n",
    "rand_num = r.randrange(1,20) # Generating a random number between 1 and 19\n",
    "print(\"Number to be guessed: \", rand_num)\n",
    "i = 1\n",
    "while True:\n",
    "    print(\"Number Guessed: \",i)\n",
    "    if(i == rand_num): # If the number guessed is correct the this block will be executed\n",
    "        print(\"Random Number has been guessed successfully!\")\n",
    "        break # Break statements stops and exits from the Loop\n",
    "    i += 1\n",
    "print(\"End of the program\")"
   ],
   "metadata": {
    "collapsed": false,
    "ExecuteTime": {
     "end_time": "2023-07-04T12:29:28.761508Z",
     "start_time": "2023-07-04T12:29:28.739598Z"
    }
   }
  },
  {
   "cell_type": "markdown",
   "source": [
    "# Continue statement\n",
    "\n",
    "![image42](./images/024.png)"
   ],
   "metadata": {
    "collapsed": false
   }
  },
  {
   "cell_type": "markdown",
   "source": [
    "![image43](./images/024-01.png)"
   ],
   "metadata": {
    "collapsed": false
   }
  },
  {
   "cell_type": "code",
   "execution_count": 165,
   "outputs": [
    {
     "name": "stdout",
     "output_type": "stream",
     "text": [
      "1\n",
      "2\n",
      "3\n",
      "4\n",
      "6\n",
      "7\n",
      "8\n",
      "9\n",
      "10\n"
     ]
    }
   ],
   "source": [
    "for i in range(1,11):\n",
    "    if(i == 5):\n",
    "        continue # Continue statement skips the current iteration and continues with the next iteration\n",
    "    print(i)"
   ],
   "metadata": {
    "collapsed": false,
    "ExecuteTime": {
     "end_time": "2023-07-04T12:29:28.761837Z",
     "start_time": "2023-07-04T12:29:28.743734Z"
    }
   }
  },
  {
   "cell_type": "code",
   "execution_count": 166,
   "outputs": [
    {
     "name": "stdout",
     "output_type": "stream",
     "text": [
      "1\n",
      "3\n",
      "5\n",
      "7\n",
      "9\n"
     ]
    }
   ],
   "source": [
    "# Program to print the odd numbers between 1 and 10\n",
    "for i in range(1,11):\n",
    "    if(i%2 == 0):\n",
    "        continue\n",
    "    print(i)"
   ],
   "metadata": {
    "collapsed": false,
    "ExecuteTime": {
     "end_time": "2023-07-04T12:29:28.762167Z",
     "start_time": "2023-07-04T12:29:28.751426Z"
    }
   }
  },
  {
   "cell_type": "code",
   "execution_count": 167,
   "outputs": [
    {
     "name": "stdout",
     "output_type": "stream",
     "text": [
      "2\n",
      "4\n",
      "6\n",
      "8\n",
      "10\n"
     ]
    }
   ],
   "source": [
    "# Program to print the even numbers between 1 and 10\n",
    "for i in range(1,11):\n",
    "    if(i%2 != 0):\n",
    "        continue\n",
    "    print(i)"
   ],
   "metadata": {
    "collapsed": false,
    "ExecuteTime": {
     "end_time": "2023-07-04T12:29:28.763492Z",
     "start_time": "2023-07-04T12:29:28.757712Z"
    }
   }
  },
  {
   "cell_type": "markdown",
   "source": [
    "# Error Handling\n",
    "\n",
    "![image44](./images/025.png)"
   ],
   "metadata": {
    "collapsed": false
   }
  },
  {
   "cell_type": "markdown",
   "source": [
    "![image45](./images/025-01.png)"
   ],
   "metadata": {
    "collapsed": false
   }
  },
  {
   "cell_type": "markdown",
   "source": [
    "![image46](./images/025-02.png)"
   ],
   "metadata": {
    "collapsed": false
   }
  },
  {
   "cell_type": "code",
   "execution_count": 168,
   "outputs": [
    {
     "name": "stdout",
     "output_type": "stream",
     "text": [
      "Exception caught!\n"
     ]
    }
   ],
   "source": [
    "try:\n",
    "    \"\"\"The code which can give rise to an exception is written here.\"\"\"\n",
    "    a = \"hi\"\n",
    "    b = int(a)\n",
    "except:\n",
    "    print(\"Exception caught!\")"
   ],
   "metadata": {
    "collapsed": false,
    "ExecuteTime": {
     "end_time": "2023-07-04T12:29:28.771551Z",
     "start_time": "2023-07-04T12:29:28.763699Z"
    }
   }
  },
  {
   "cell_type": "code",
   "execution_count": 169,
   "outputs": [
    {
     "name": "stdout",
     "output_type": "stream",
     "text": [
      "Division by zero is not possible\n"
     ]
    }
   ],
   "source": [
    "# Catching specific exception\n",
    "try:\n",
    "    a = 5\n",
    "    b = 0\n",
    "    c = a/b\n",
    "except ZeroDivisionError:\n",
    "    print(\"Division by zero is not possible\")"
   ],
   "metadata": {
    "collapsed": false,
    "ExecuteTime": {
     "end_time": "2023-07-04T12:29:28.780092Z",
     "start_time": "2023-07-04T12:29:28.768969Z"
    }
   }
  },
  {
   "cell_type": "code",
   "execution_count": 170,
   "outputs": [
    {
     "name": "stdout",
     "output_type": "stream",
     "text": [
      "TypeError Exception caught!\n"
     ]
    }
   ],
   "source": [
    "# Exceptions can be raised also\n",
    "try:\n",
    "    raise TypeError\n",
    "except TypeError:\n",
    "    print(\"TypeError Exception caught!\")"
   ],
   "metadata": {
    "collapsed": false,
    "ExecuteTime": {
     "end_time": "2023-07-04T12:29:28.780759Z",
     "start_time": "2023-07-04T12:29:28.774504Z"
    }
   }
  },
  {
   "cell_type": "code",
   "execution_count": 171,
   "outputs": [
    {
     "name": "stdout",
     "output_type": "stream",
     "text": [
      "Division by zero is not possible\n",
      "This will be executed no matter what\n"
     ]
    }
   ],
   "source": [
    "# try except finally else\n",
    "try:\n",
    "    a = 10\n",
    "    b = 0\n",
    "    c = a/b\n",
    "except ZeroDivisionError:\n",
    "    print(\"Division by zero is not possible\")\n",
    "else:\n",
    "    print(\"Division successful\") # This will be executed if no exception is raised\n",
    "finally:\n",
    "    print(\"This will be executed no matter what\")"
   ],
   "metadata": {
    "collapsed": false,
    "ExecuteTime": {
     "end_time": "2023-07-04T12:29:28.788284Z",
     "start_time": "2023-07-04T12:29:28.780389Z"
    }
   }
  },
  {
   "cell_type": "code",
   "execution_count": 172,
   "outputs": [
    {
     "name": "stdout",
     "output_type": "stream",
     "text": [
      "3 / 3 = 1.0\n",
      "Division successful\n",
      "This will be executed no matter what\n"
     ]
    }
   ],
   "source": [
    "# Catching specific exception try:\n",
    "try:\n",
    "    a = int(input(\"Please enter the first number...\"))\n",
    "    b = int(input(\"Please enter the second number...\"))\n",
    "    if (a < 0):\n",
    "        raise TypeError\n",
    "    c = a/b\n",
    "    print(\"{} / {} = {}\".format(a,b,c))\n",
    "except ZeroDivisionError:\n",
    "    print(\"Division by zero is not possible\")\n",
    "except ValueError:\n",
    "    print(\"The data types are not proper\")\n",
    "except TypeError:\n",
    "    print(\"The data is not in range\")\n",
    "except NameError:\n",
    "    print(\"The variable is not defined\")\n",
    "except:\n",
    "    print(\"Some other exception\")\n",
    "else:\n",
    "    print(\"Division successful\") # This will be executed if no exception is raised\n",
    "finally:\n",
    "    print(\"This will be executed no matter what\")"
   ],
   "metadata": {
    "collapsed": false,
    "ExecuteTime": {
     "end_time": "2023-07-04T12:29:33.748773Z",
     "start_time": "2023-07-04T12:29:28.792177Z"
    }
   }
  },
  {
   "cell_type": "code",
   "execution_count": 173,
   "outputs": [
    {
     "name": "stdout",
     "output_type": "stream",
     "text": [
      "A New Exception occured:  4\n"
     ]
    }
   ],
   "source": [
    "class MyException(Exception):\n",
    "    def __init__(self, value):\n",
    "        self.value = value\n",
    "    def __str__(self):\n",
    "        return str(self.value)\n",
    "\n",
    "try:\n",
    "    raise MyException(2*2)\n",
    "except MyException as error:\n",
    "    print('A New Exception occured: ',error.value)"
   ],
   "metadata": {
    "collapsed": false,
    "ExecuteTime": {
     "end_time": "2023-07-04T12:29:33.749180Z",
     "start_time": "2023-07-04T12:29:33.605996Z"
    }
   }
  },
  {
   "cell_type": "code",
   "execution_count": 174,
   "outputs": [
    {
     "name": "stdout",
     "output_type": "stream",
     "text": [
      "You are not eligible to vote\n",
      "Thank you for using our application\n"
     ]
    }
   ],
   "source": [
    "# another custom exception\n",
    "\n",
    "class VoterEligibilityException(Exception):\n",
    "    def __init__(self, value):\n",
    "        self.value = value\n",
    "    def __str__(self):\n",
    "        return str(self.value)\n",
    "\n",
    "try:\n",
    "    age = int(input(\"Please enter your age...\"))\n",
    "    if(age < 18):\n",
    "        raise VoterEligibilityException(\"You are not eligible to vote\")\n",
    "except VoterEligibilityException as error:\n",
    "    print(error.value)\n",
    "except TypeError:\n",
    "    print(\"The data types are not proper\")\n",
    "except ValueError:\n",
    "    print(\"The data types are not proper\")\n",
    "else:\n",
    "    print(\"You are eligible to vote\")\n",
    "finally:\n",
    "    print(\"Thank you for using our application\")\n"
   ],
   "metadata": {
    "collapsed": false,
    "ExecuteTime": {
     "end_time": "2023-07-04T12:29:36.323087Z",
     "start_time": "2023-07-04T12:29:33.614304Z"
    }
   }
  },
  {
   "cell_type": "markdown",
   "source": [
    "# OOP in Python\n",
    "\n",
    "![image47](./images/026.png)"
   ],
   "metadata": {
    "collapsed": false
   }
  },
  {
   "cell_type": "markdown",
   "source": [
    "![image48](./images/026-01.png)"
   ],
   "metadata": {
    "collapsed": false
   }
  },
  {
   "cell_type": "markdown",
   "source": [
    "![image49](./images/026-02.png)"
   ],
   "metadata": {
    "collapsed": false
   }
  },
  {
   "cell_type": "code",
   "execution_count": 175,
   "outputs": [],
   "source": [
    "class myBird:\n",
    "\n",
    "    def __init__(self):\n",
    "        print(\"Bird is ready\")\n",
    "\n",
    "    def whatType(self):\n",
    "        print(\"I am a bird\")\n",
    "\n",
    "    def can_fly(self):\n",
    "        print(\"I can fly\")"
   ],
   "metadata": {
    "collapsed": false,
    "ExecuteTime": {
     "end_time": "2023-07-04T12:29:36.323342Z",
     "start_time": "2023-07-04T12:29:36.132578Z"
    }
   }
  },
  {
   "cell_type": "code",
   "execution_count": 176,
   "outputs": [],
   "source": [
    "class MyParrot(myBird):\n",
    "\n",
    "    # class attribute\n",
    "    species = \"bird\"\n",
    "\n",
    "    def __init__(self, name, age):\n",
    "        print(\"Parrot is ready\")\n",
    "        self.name = name\n",
    "        self.age = age\n",
    "\n",
    "    def can_sing(self, sound):\n",
    "        return \"{} can sing {}\".format(self.name, sound)"
   ],
   "metadata": {
    "collapsed": false,
    "ExecuteTime": {
     "end_time": "2023-07-04T12:29:36.323514Z",
     "start_time": "2023-07-04T12:29:36.138032Z"
    }
   }
  },
  {
   "cell_type": "code",
   "execution_count": 177,
   "outputs": [],
   "source": [
    "# myPenguin class inherits the properties of myBird class\n",
    "class MyPenguin(myBird):\n",
    "\n",
    "    def __init__(self):\n",
    "        super().__init__()\n",
    "        print(\"Penguin is ready\")\n",
    "\n",
    "    def whatType(self):\n",
    "        print(\"I am a Penguin\")\n",
    "\n",
    "    def can_run(self):\n",
    "        print(\"Penguin can run\")"
   ],
   "metadata": {
    "collapsed": false,
    "ExecuteTime": {
     "end_time": "2023-07-04T12:29:36.323673Z",
     "start_time": "2023-07-04T12:29:36.143877Z"
    }
   }
  },
  {
   "cell_type": "code",
   "execution_count": 178,
   "outputs": [
    {
     "name": "stdout",
     "output_type": "stream",
     "text": [
      "Parrot is ready\n",
      "Parrot is ready\n",
      "MP1 is a bird\n",
      "MP2 is also a bird\n",
      "MyParrot1 is 10 years of age\n",
      "MyParrot2 is 15 years of age\n",
      "MyParrot1 can sing Chirp\n",
      "Bird is ready\n",
      "Penguin is ready\n",
      "I am a Penguin\n",
      "I can fly\n",
      "Penguin can run\n"
     ]
    }
   ],
   "source": [
    "# instantiate the Parrot class\n",
    "mp1 = MyParrot(\"MyParrot1\", 10)\n",
    "mp2 = MyParrot(\"MyParrot2\", 15)\n",
    "\n",
    "# access the class attributes\n",
    "print(\"MP1 is a {}\".format(mp1.__class__.species))\n",
    "print(\"MP2 is also a {}\".format(mp2.__class__.species))\n",
    "\n",
    "# access the instance attributes\n",
    "print(\"{} is {} years of age\".format(mp1.name, mp1.age))\n",
    "print(\"{} is {} years of age\".format(mp2.name, mp2.age))\n",
    "print(mp1.can_sing(\"Chirp\"))\n",
    "\n",
    "# Accessing the child class's attributes (Inheritance)\n",
    "pg1 = MyPenguin()\n",
    "pg1.whatType()\n",
    "pg1.can_fly()\n",
    "pg1.can_run()"
   ],
   "metadata": {
    "collapsed": false,
    "ExecuteTime": {
     "end_time": "2023-07-04T12:29:36.323961Z",
     "start_time": "2023-07-04T12:29:36.152192Z"
    }
   }
  },
  {
   "cell_type": "code",
   "execution_count": 179,
   "outputs": [
    {
     "name": "stdout",
     "output_type": "stream",
     "text": [
      "Selling Price: 90000\n",
      "Selling Price: 17000\n",
      "\n",
      "Selling Price: 90000\n",
      "Selling Price: 17000\n",
      "\n",
      "Selling Price: 90000\n",
      "Selling Price: 15000\n",
      "\n",
      "Selling Price: 100001\n",
      "Selling Price: 15000\n",
      "\n",
      "100001\n",
      "MacBook Pro\n",
      "\n",
      "15000\n",
      "\n",
      "MacBook Pro\n",
      "MacBook Pro\n",
      "MacBook Pro\n"
     ]
    }
   ],
   "source": [
    "# Data encapsulation\n",
    "\n",
    "class PersonalComputer:\n",
    "\n",
    "    # class attribute\n",
    "    brand = \"MacBook Pro\"\n",
    "\n",
    "    def __init__(self):\n",
    "        self.__maxprice = 90000 # Private attribute\n",
    "        self.minprice = 17000 # Public attribute\n",
    "\n",
    "    def sell(self):\n",
    "        print(\"Selling Price: {}\".format(self.__maxprice))\n",
    "        print(\"Selling Price: {}\\n\".format(self.minprice))\n",
    "\n",
    "    def setMaxPrice(self, price):\n",
    "        self.__maxprice = price\n",
    "\n",
    "pc1 = PersonalComputer()\n",
    "pc1.sell()\n",
    "\n",
    "# change the price\n",
    "pc1.__maxprice = 100000 # This will not change the price as it is a private attribute\n",
    "pc1.sell() # Still prints the old price\n",
    "\n",
    "pc1.minprice = 15000 # This will change the price as it is a public attribute\n",
    "pc1.sell() # Prints the new price\n",
    "\n",
    "# using setter function\n",
    "pc1.setMaxPrice(100001)\n",
    "pc1.sell()\n",
    "\n",
    "# print(pc1.__maxprice) # This will not print the price as it is a private attribute\n",
    "print(pc1._PersonalComputer__maxprice) # This will print the price as it is a private attribute\n",
    "print(pc1.__class__.brand) # This will print the price as it is a public attribute\n",
    "# print(PersonalComputer.__maxprice) # This will not print the price as it is a private attribute\n",
    "print()\n",
    "\n",
    "print(pc1.minprice) # This will print the price as it is a public attribute\n",
    "# print(PersonalComputer.minprice) # This will not print the minprice because it's not a class attribute\n",
    "# print(pc1.__class__.minprice) # This will not print the minprice because it's not a class attribute\n",
    "print()\n",
    "\n",
    "print(pc1.brand) # This will print the price as it is a public attribute\n",
    "print(PersonalComputer.brand) # This will print the price as it is a public attribute\n",
    "print(pc1.__class__.brand) # This will print the price as it is a public attribute\n"
   ],
   "metadata": {
    "collapsed": false,
    "ExecuteTime": {
     "end_time": "2023-07-04T12:29:36.324292Z",
     "start_time": "2023-07-04T12:29:36.161595Z"
    }
   }
  },
  {
   "cell_type": "markdown",
   "source": [
    "# Nested Dictionary\n",
    "\n",
    "![image50](./images/027.png)"
   ],
   "metadata": {
    "collapsed": false
   }
  },
  {
   "cell_type": "code",
   "execution_count": 180,
   "outputs": [
    {
     "name": "stdout",
     "output_type": "stream",
     "text": [
      "{1: {'name': 'John', 'age': '27', 'sex': 'Male'}, 2: {'name': 'Marie', 'age': '22', 'sex': 'Female'}}\n",
      "John\n",
      "27\n",
      "Male\n"
     ]
    }
   ],
   "source": [
    "# Declaring and defining a nested dictionary\n",
    "people = {1: {'name': 'John', 'age': '27', 'sex': 'Male'},\n",
    "          2: {'name': 'Marie', 'age': '22', 'sex': 'Female'}}\n",
    "print(people)\n",
    "# Accessing elements of the dictionary\n",
    "print(people[1]['name'])\n",
    "print(people[1]['age'])\n",
    "print(people[1]['sex'])"
   ],
   "metadata": {
    "collapsed": false,
    "ExecuteTime": {
     "end_time": "2023-07-04T12:29:36.324576Z",
     "start_time": "2023-07-04T12:29:36.168421Z"
    }
   }
  },
  {
   "cell_type": "code",
   "execution_count": 181,
   "outputs": [
    {
     "name": "stdout",
     "output_type": "stream",
     "text": [
      "{1: {'name': 'John', 'age': '27', 'sex': 'Male'}, 2: {'name': 'Marie', 'age': '22', 'sex': 'Female'}, 3: {'name': 'Luna', 'age': '24', 'sex': 'Female', 'married': 'No'}}\n"
     ]
    }
   ],
   "source": [
    "# Adding elements to a nested dictionary\n",
    "people[3] = {} # Adding an empty dictionary to the 3rd key\n",
    "\n",
    "people[3]['name'] = 'Luna' # Adding name to the 3rd key\n",
    "people[3]['age'] = '24' # Adding age to the 3rd key\n",
    "people[3]['sex'] = 'Female' # Adding gender to the 3rd key\n",
    "people[3]['married'] = 'No' # Adding married status to the 3rd key\n",
    "print(people)\n"
   ],
   "metadata": {
    "collapsed": false,
    "ExecuteTime": {
     "end_time": "2023-07-04T12:29:36.324860Z",
     "start_time": "2023-07-04T12:29:36.173274Z"
    }
   }
  },
  {
   "cell_type": "code",
   "execution_count": 182,
   "outputs": [
    {
     "name": "stdout",
     "output_type": "stream",
     "text": [
      "{'name': 'Mohammed', 'age': '26', 'sex': 'Male', 'married': 'Yes'} \n",
      "\n",
      "{1: {'name': 'John', 'age': '27', 'sex': 'Male'}, 2: {'name': 'Marie', 'age': '22', 'sex': 'Female'}, 3: {'name': 'Luna', 'age': '24', 'sex': 'Female', 'married': 'No'}, 4: {'name': 'Mohammed', 'age': '26', 'sex': 'Male', 'married': 'Yes'}}\n"
     ]
    }
   ],
   "source": [
    "people[4] = {'name':'Mohammed','age':'26','sex':'Male','married':'Yes'}\n",
    "print(people[4],'\\n')\n",
    "print(people)"
   ],
   "metadata": {
    "collapsed": false,
    "ExecuteTime": {
     "end_time": "2023-07-04T12:29:36.325252Z",
     "start_time": "2023-07-04T12:29:36.180412Z"
    }
   }
  },
  {
   "cell_type": "code",
   "execution_count": 183,
   "outputs": [
    {
     "name": "stdout",
     "output_type": "stream",
     "text": [
      "{'name': 'Luna', 'age': '24', 'sex': 'Female', 'married': 'No'}\n",
      "{'name': 'Mohammed', 'age': '26', 'sex': 'Male', 'married': 'Yes'}\n",
      "{'name': 'Luna', 'age': '24', 'sex': 'Female'} \n",
      "\n",
      "{'name': 'Mohammed', 'age': '26', 'sex': 'Male'}\n"
     ]
    }
   ],
   "source": [
    "print(people[3])\n",
    "print(people[4])\n",
    "\n",
    "del people[3]['married']\n",
    "del people[4]['married']\n",
    "\n",
    "print(people[3],'\\n')\n",
    "print(people[4])"
   ],
   "metadata": {
    "collapsed": false,
    "ExecuteTime": {
     "end_time": "2023-07-04T12:29:36.325533Z",
     "start_time": "2023-07-04T12:29:36.186807Z"
    }
   }
  },
  {
   "cell_type": "code",
   "execution_count": 184,
   "outputs": [
    {
     "name": "stdout",
     "output_type": "stream",
     "text": [
      "{1: {'name': 'John', 'age': '27', 'sex': 'Male'}, 2: {'name': 'Marie', 'age': '22', 'sex': 'Female'}}\n"
     ]
    }
   ],
   "source": [
    "del people[3], people[4]\n",
    "print(people)"
   ],
   "metadata": {
    "collapsed": false,
    "ExecuteTime": {
     "end_time": "2023-07-04T12:29:36.325804Z",
     "start_time": "2023-07-04T12:29:36.192310Z"
    }
   }
  },
  {
   "cell_type": "code",
   "execution_count": 185,
   "outputs": [
    {
     "name": "stdout",
     "output_type": "stream",
     "text": [
      "dict_items([(1, {'name': 'John', 'age': '27', 'sex': 'Male'}), (2, {'name': 'Marie', 'age': '22', 'sex': 'Female'})])\n",
      "\n",
      "Person ID: 1\n",
      "name: John\n",
      "age: 27\n",
      "sex: Male\n",
      "\n",
      "Person ID: 2\n",
      "name: Marie\n",
      "age: 22\n",
      "sex: Female\n"
     ]
    }
   ],
   "source": [
    "print(people.items())\n",
    "\n",
    "for p_id, p_info in people.items():\n",
    "    print(\"\\nPerson ID:\", p_id)\n",
    "    for key in p_info:\n",
    "        print(key + ':', p_info[key])"
   ],
   "metadata": {
    "collapsed": false,
    "ExecuteTime": {
     "end_time": "2023-07-04T12:29:36.326078Z",
     "start_time": "2023-07-04T12:29:36.198564Z"
    }
   }
  },
  {
   "cell_type": "markdown",
   "source": [
    "# Python Operators\n",
    "\n",
    "![image51](./images/028.png)"
   ],
   "metadata": {
    "collapsed": false
   }
  },
  {
   "cell_type": "markdown",
   "source": [
    "![image52](./images/028-01.png)"
   ],
   "metadata": {
    "collapsed": false
   }
  },
  {
   "cell_type": "markdown",
   "source": [
    "![image53](./images/028-02.png)"
   ],
   "metadata": {
    "collapsed": false
   }
  },
  {
   "cell_type": "code",
   "execution_count": 186,
   "outputs": [],
   "source": [
    "# Operator OverLoading\n",
    "class MyPoint:\n",
    "    def __init__(self, x=0, y=0):\n",
    "        self.x = x\n",
    "        self.y = y\n",
    "\n",
    "    def __str__(self):\n",
    "        return \"({0},{1})\".format(self.x, self.y)\n",
    "\n",
    "    # Overloading + operator\n",
    "    def __add__(self, other):\n",
    "        y = self.y + other.y\n",
    "        x = self.x + other.x\n",
    "        return MyPoint(x, y)\n",
    "\n",
    "    # OverLoading < Operator\n",
    "    def __lt__(self, other):\n",
    "        self_mag = (self.x ** 2) + (self.y ** 2)\n",
    "        other_mag = (other.x ** 2) + (other.y ** 2)\n",
    "        return self_mag< other_mag"
   ],
   "metadata": {
    "collapsed": false,
    "ExecuteTime": {
     "end_time": "2023-07-04T12:29:36.326237Z",
     "start_time": "2023-07-04T12:29:36.206052Z"
    }
   }
  },
  {
   "cell_type": "code",
   "execution_count": 187,
   "outputs": [
    {
     "name": "stdout",
     "output_type": "stream",
     "text": [
      "(1,2)\n",
      "(4,5)\n",
      "\n",
      "True\n",
      "(5,7)\n",
      "\n",
      "True\n",
      "(5,7)\n"
     ]
    }
   ],
   "source": [
    "p1 = MyPoint(1,2)\n",
    "p2 = MyPoint(4,5)\n",
    "print(p1)\n",
    "print(p2)\n",
    "print()\n",
    "print(p1<p2)\n",
    "print(p1+p2)\n",
    "print()\n",
    "print(p1.__lt__(p2))\n",
    "print(p1.__add__(p2))"
   ],
   "metadata": {
    "collapsed": false,
    "ExecuteTime": {
     "end_time": "2023-07-04T12:29:36.326509Z",
     "start_time": "2023-07-04T12:29:36.212558Z"
    }
   }
  },
  {
   "cell_type": "markdown",
   "source": [
    "# Python comments and statements\n",
    "\n",
    "![image54](./images/029.png)"
   ],
   "metadata": {
    "collapsed": false
   }
  },
  {
   "cell_type": "markdown",
   "source": [
    "![image55](./images/029-01.png)"
   ],
   "metadata": {
    "collapsed": false
   }
  },
  {
   "cell_type": "markdown",
   "source": [
    "![image56](./images/029-02.png)"
   ],
   "metadata": {
    "collapsed": false
   }
  },
  {
   "cell_type": "markdown",
   "source": [
    "![image57](./images/029-03.png)"
   ],
   "metadata": {
    "collapsed": false
   }
  },
  {
   "cell_type": "markdown",
   "source": [
    "![image58](./images/029-04.png)"
   ],
   "metadata": {
    "collapsed": false
   }
  },
  {
   "cell_type": "code",
   "execution_count": 188,
   "outputs": [
    {
     "data": {
      "text/plain": "'Multi-line comments can also be written like this.'"
     },
     "execution_count": 188,
     "metadata": {},
     "output_type": "execute_result"
    }
   ],
   "source": [
    "# This is a comment\n",
    "# This is a Long comment\n",
    "# and multi-line comments\n",
    "# can be written like this\n",
    "\n",
    "'''Multi-line comments can also be written like this.'''"
   ],
   "metadata": {
    "collapsed": false,
    "ExecuteTime": {
     "end_time": "2023-07-04T12:29:36.375728Z",
     "start_time": "2023-07-04T12:29:36.221206Z"
    }
   }
  },
  {
   "cell_type": "code",
   "execution_count": 189,
   "outputs": [],
   "source": [
    "# statment - assign a value to a variable\n",
    "a = 1"
   ],
   "metadata": {
    "collapsed": false,
    "ExecuteTime": {
     "end_time": "2023-07-04T12:29:36.376265Z",
     "start_time": "2023-07-04T12:29:36.227075Z"
    }
   }
  },
  {
   "cell_type": "code",
   "execution_count": 190,
   "outputs": [
    {
     "name": "stdout",
     "output_type": "stream",
     "text": [
      "45\n",
      "45\n"
     ]
    }
   ],
   "source": [
    "# Multiline statement\n",
    "# Explicit the line continuation character (\\)\n",
    "\n",
    "b = 1 + 2 + 3 + \\\n",
    "    4 + 5 + 6 + \\\n",
    "    7 + 8 + 9\n",
    "\n",
    "print(b)\n",
    "\n",
    "# Explicit the line continuation within brackets\n",
    "c = (1 + 2 + 3 +\n",
    "    4 + 5 + 6 +\n",
    "    7 + 8 + 9)\n",
    "\n",
    "print(c)"
   ],
   "metadata": {
    "collapsed": false,
    "ExecuteTime": {
     "end_time": "2023-07-04T12:29:36.378932Z",
     "start_time": "2023-07-04T12:29:36.242243Z"
    }
   }
  },
  {
   "cell_type": "code",
   "execution_count": 191,
   "outputs": [
    {
     "name": "stdout",
     "output_type": "stream",
     "text": [
      "1 3 0\n"
     ]
    }
   ],
   "source": [
    "# Multiple statements in one line using\n",
    "d = 1; e = 3; f = 0\n",
    "print(d,e,f)"
   ],
   "metadata": {
    "collapsed": false,
    "ExecuteTime": {
     "end_time": "2023-07-04T12:29:36.396759Z",
     "start_time": "2023-07-04T12:29:36.247704Z"
    }
   }
  },
  {
   "cell_type": "code",
   "execution_count": 192,
   "outputs": [
    {
     "name": "stdout",
     "output_type": "stream",
     "text": [
      "1\n",
      "2\n",
      "3\n",
      "4\n",
      "5\n",
      "End of the program...\n"
     ]
    }
   ],
   "source": [
    "# Code block (body of a function, Loop etc.) starts with indentation\n",
    "# and ends with the first unindented Line.\n",
    "for i in range(1,10):\n",
    "    print(i)\n",
    "    if i == 5:\n",
    "        break\n",
    "print(\"End of the program...\")"
   ],
   "metadata": {
    "collapsed": false,
    "ExecuteTime": {
     "end_time": "2023-07-04T12:29:36.397146Z",
     "start_time": "2023-07-04T12:29:36.253491Z"
    }
   }
  },
  {
   "cell_type": "markdown",
   "source": [
    "# Pass statment\n",
    "\n",
    "![image59](./images/030.png)"
   ],
   "metadata": {
    "collapsed": false
   }
  },
  {
   "cell_type": "code",
   "execution_count": 193,
   "outputs": [
    {
     "name": "stdout",
     "output_type": "stream",
     "text": [
      "End of the program...\n"
     ]
    }
   ],
   "source": [
    "# pass is just a placeholder for #functionality to be added Later.\n",
    "sequence = {'p', 'a', 's', 's'}\n",
    "for val in sequence:\n",
    "    pass\n",
    "print(\"End of the program...\")"
   ],
   "metadata": {
    "collapsed": false,
    "ExecuteTime": {
     "end_time": "2023-07-04T12:29:36.397433Z",
     "start_time": "2023-07-04T12:29:36.258891Z"
    }
   }
  },
  {
   "cell_type": "markdown",
   "source": [
    "# Python generators\n",
    "\n",
    "![image60](./images/031.png)"
   ],
   "metadata": {
    "collapsed": false
   }
  },
  {
   "cell_type": "markdown",
   "source": [
    "![image61](./images/031-01.png)"
   ],
   "metadata": {
    "collapsed": false
   }
  },
  {
   "cell_type": "code",
   "execution_count": 194,
   "outputs": [
    {
     "name": "stdout",
     "output_type": "stream",
     "text": [
      "This is printed first\n",
      "This is printed second\n",
      "This is printed at last\n",
      "Using for loop\n",
      "This is printed first\n",
      "1\n",
      "This is printed second\n",
      "2\n",
      "This is printed at last\n",
      "4\n"
     ]
    }
   ],
   "source": [
    "# a simple generator function\n",
    "def my_gen():\n",
    "    n = 1\n",
    "    print('This is printed first')\n",
    "    # Generator function contains yield statements\n",
    "    yield n\n",
    "\n",
    "    n += 1\n",
    "    print('This is printed second')\n",
    "    yield n\n",
    "\n",
    "    n += 2\n",
    "    print('This is printed at last')\n",
    "    yield n\n",
    "\n",
    "a = my_gen()\n",
    "\n",
    "next(a)\n",
    "next(a)\n",
    "next(a)\n",
    "\n",
    "print(\"Using for loop\")\n",
    "for i in my_gen():\n",
    "    print(i)"
   ],
   "metadata": {
    "collapsed": false,
    "ExecuteTime": {
     "end_time": "2023-07-04T12:29:36.397729Z",
     "start_time": "2023-07-04T12:29:36.263183Z"
    }
   }
  },
  {
   "cell_type": "code",
   "execution_count": 195,
   "outputs": [
    {
     "name": "stdout",
     "output_type": "stream",
     "text": [
      "olleh\n",
      "olleh\n"
     ]
    }
   ],
   "source": [
    "# Generator function with for loop\n",
    "# reverse string\n",
    "def rev_str(my_str):\n",
    "    length = len(my_str)\n",
    "    for i in range(length - 1, -1, -1):\n",
    "        yield my_str[i]\n",
    "\n",
    "for char in rev_str(\"hello\"):\n",
    "    print(char, end=\"\")\n",
    "\n",
    "print()\n",
    "\n",
    "print(\"hello\"[::-1])"
   ],
   "metadata": {
    "collapsed": false,
    "ExecuteTime": {
     "end_time": "2023-07-04T12:29:36.398028Z",
     "start_time": "2023-07-04T12:29:36.269409Z"
    }
   }
  },
  {
   "cell_type": "markdown",
   "source": [
    "# Python Decorators\n",
    "\n",
    "![image62](./images/032.png)"
   ],
   "metadata": {
    "collapsed": false
   }
  },
  {
   "cell_type": "code",
   "execution_count": 196,
   "outputs": [
    {
     "name": "stdout",
     "output_type": "stream",
     "text": [
      "without Using @\n",
      "Ordinary function\n",
      "\n",
      "<function decor.<locals>.inner at 0x10f0df920>\n",
      "Decorated function\n",
      "Ordinary function\n"
     ]
    }
   ],
   "source": [
    "# Demonstrating without @\n",
    "\n",
    "def decor(func):\n",
    "    def inner():\n",
    "        print(\"Decorated function\")\n",
    "        func()\n",
    "    return inner\n",
    "\n",
    "def ordinary():\n",
    "    print(\"Ordinary function\")\n",
    "\n",
    "print(\"without Using @\")\n",
    "ordinary()\n",
    "print()\n",
    "\n",
    "decorated = decor(ordinary)\n",
    "print(decorated) # <function decor.<locals>.inner at 0x0000020F4F6F2D08>\n",
    "decorated()\n"
   ],
   "metadata": {
    "collapsed": false,
    "ExecuteTime": {
     "end_time": "2023-07-04T12:29:36.398358Z",
     "start_time": "2023-07-04T12:29:36.277816Z"
    }
   }
  },
  {
   "cell_type": "code",
   "execution_count": 197,
   "outputs": [
    {
     "name": "stdout",
     "output_type": "stream",
     "text": [
      "Using @\n",
      "Decorated function\n",
      "Ordinary function\n",
      "<function decor.<locals>.inner at 0x10f10c2c0>\n",
      "<function decor.<locals>.inner at 0x10f10c400>\n",
      "<function decor at 0x10f10c220>\n",
      "\n",
      "without Using @\n",
      "Ordinary function\n",
      "<function ordinary at 0x10f10c400>\n",
      "<function decor.<locals>.inner at 0x10f10c2c0>\n",
      "<function decor at 0x10f10c220>\n"
     ]
    }
   ],
   "source": [
    "# Demonstrating with @\n",
    "\n",
    "def decor(func):\n",
    "    def inner():\n",
    "        print(\"Decorated function\")\n",
    "        func()\n",
    "    return inner\n",
    "\n",
    "@decor\n",
    "def ordinary():\n",
    "    print(\"Ordinary function\")\n",
    "\n",
    "\n",
    "print(\"Using @\")\n",
    "ordinary()\n",
    "\n",
    "print(ordinary) #<function decor.<locals>.inner at 0x10f406e80>\n",
    "print(decor(ordinary)) # <function decor.<locals>.inner at 0x10f406b60>\n",
    "print(decor) # <function decor at 0x10f406840>\n",
    "\n",
    "\n",
    "print(\"\\nwithout Using @\")\n",
    "def ordinary():\n",
    "    print(\"Ordinary function\")\n",
    "\n",
    "ordinary()\n",
    "print(ordinary) # <function ordinary at 0x10f406b60>\n",
    "print(decor(ordinary)) # <function decor.<locals>.inner at 0x10f406e80>\n",
    "print(decor) # <function decor at 0x10f406840>\n"
   ],
   "metadata": {
    "collapsed": false,
    "ExecuteTime": {
     "end_time": "2023-07-04T12:29:36.400288Z",
     "start_time": "2023-07-04T12:29:36.284118Z"
    }
   }
  },
  {
   "cell_type": "code",
   "execution_count": 198,
   "outputs": [
    {
     "name": "stdout",
     "output_type": "stream",
     "text": [
      "Before calling the function\n",
      "Inside the function\n",
      "After calling the function\n"
     ]
    }
   ],
   "source": [
    "# Python Decorator to print function name before and after execution\n",
    "def decorator_func(func):\n",
    "    def wrapper_func():\n",
    "        print(\"Before calling the function\")\n",
    "        func()\n",
    "        print(\"After calling the function\")\n",
    "    return wrapper_func\n",
    "\n",
    "@decorator_func\n",
    "def func_to_be_used():\n",
    "    print(\"Inside the function\")\n",
    "\n",
    "func_to_be_used()\n"
   ],
   "metadata": {
    "collapsed": false,
    "ExecuteTime": {
     "end_time": "2023-07-04T12:29:36.400763Z",
     "start_time": "2023-07-04T12:29:36.289853Z"
    }
   }
  },
  {
   "cell_type": "code",
   "execution_count": 199,
   "outputs": [
    {
     "name": "stdout",
     "output_type": "stream",
     "text": [
      "I am dividing  20  and  2\n",
      "10.0\n",
      "I am dividing  20  and  0\n",
      "Oops! Division by ZERO is illegal...!!!\n",
      "None\n"
     ]
    }
   ],
   "source": [
    "# Python Decorator to perform the same task as above\n",
    "def my_smart_div(func):\n",
    "    def inner_func(x,y):\n",
    "        print(\"I am dividing \",x,\" and \",y)\n",
    "        if y == 0:\n",
    "            print(\"Oops! Division by ZERO is illegal...!!!\")\n",
    "            return # None\n",
    "        return func(x,y) # go_divide(x,y)\n",
    "    return inner_func\n",
    "\n",
    "@my_smart_div\n",
    "def go_divide(a,b):\n",
    "    return a/b\n",
    "# Generally, we decorate a function and reassign it as, # go_divide = my_smart_div(go_divide)\n",
    "# But this is similar to the above statement\n",
    "print(go_divide (20,2))\n",
    "print(go_divide (20,0))"
   ],
   "metadata": {
    "collapsed": false,
    "ExecuteTime": {
     "end_time": "2023-07-04T12:29:36.401054Z",
     "start_time": "2023-07-04T12:29:36.296706Z"
    }
   }
  },
  {
   "cell_type": "code",
   "execution_count": 200,
   "outputs": [
    {
     "name": "stdout",
     "output_type": "stream",
     "text": [
      "200\n"
     ]
    }
   ],
   "source": [
    "# Demonstrating the order of execution of decorators\n",
    "def decor1(func):\n",
    "    def inner():\n",
    "        x = func()\n",
    "        return x * x\n",
    "    return inner\n",
    "\n",
    "def decor2(func):\n",
    "    def inner():\n",
    "        x = func()\n",
    "        return 2 * x\n",
    "    return inner\n",
    "\n",
    "@decor2\n",
    "@decor1\n",
    "def num():\n",
    "    return 10\n",
    "\n",
    "print(num())"
   ],
   "metadata": {
    "collapsed": false,
    "ExecuteTime": {
     "end_time": "2023-07-04T12:29:36.401335Z",
     "start_time": "2023-07-04T12:29:36.300996Z"
    }
   }
  },
  {
   "cell_type": "markdown",
   "source": [
    "# While loop\n",
    "\n",
    "![image63](./images/033.png)"
   ],
   "metadata": {
    "collapsed": false
   }
  },
  {
   "cell_type": "markdown",
   "source": [
    "![image64](./images/033-01.png)"
   ],
   "metadata": {
    "collapsed": false
   }
  },
  {
   "cell_type": "code",
   "execution_count": 201,
   "outputs": [
    {
     "name": "stdout",
     "output_type": "stream",
     "text": [
      "3\n",
      "2\n",
      "1\n"
     ]
    }
   ],
   "source": [
    "# Using while Loop\n",
    "i = 3\n",
    "while i > 0:\n",
    "    print(i)\n",
    "    i -= 1"
   ],
   "metadata": {
    "collapsed": false,
    "ExecuteTime": {
     "end_time": "2023-07-04T12:29:36.401606Z",
     "start_time": "2023-07-04T12:29:36.307992Z"
    }
   }
  },
  {
   "cell_type": "code",
   "execution_count": 202,
   "outputs": [
    {
     "name": "stdout",
     "output_type": "stream",
     "text": [
      "0\n",
      "1\n",
      "2\n",
      "3\n",
      "4\n",
      "5\n",
      "6\n",
      "7\n",
      "8\n",
      "9\n",
      "i is no longer less than 10\n"
     ]
    }
   ],
   "source": [
    "while i < 10:\n",
    "    print(i)\n",
    "    i += 1\n",
    "else:\n",
    "    print(\"i is no longer less than 10\")"
   ],
   "metadata": {
    "collapsed": false,
    "ExecuteTime": {
     "end_time": "2023-07-04T12:29:36.401876Z",
     "start_time": "2023-07-04T12:29:36.311999Z"
    }
   }
  },
  {
   "cell_type": "markdown",
   "source": [
    "\"\"\"\n",
    "n = 6\n",
    "                i . *\n",
    "                ___________________\n",
    "\n",
    "                1 5 1  . = -> n - i\n",
    "                2 4 3\n",
    "                3 3 5  * = -> 2*i - 1\n",
    "                4 2 7\n",
    "                5 1 9\n",
    "                6 0 11\n",
    "                ___________________\n",
    "\n",
    ".....*\n",
    "....***\n",
    "...*****\n",
    "..*******\n",
    ".*********\n",
    "***********\n",
    "\n",
    "\"\"\""
   ],
   "metadata": {
    "collapsed": false
   }
  },
  {
   "cell_type": "code",
   "execution_count": 203,
   "outputs": [
    {
     "name": "stdout",
     "output_type": "stream",
     "text": [
      "...*\n",
      "..***\n",
      ".*****\n",
      "*******\n"
     ]
    }
   ],
   "source": [
    "n = int(input(\"Please enter the number of layers...\"))\n",
    "i = 1\n",
    "while i <= n:\n",
    "    # print spaces\n",
    "    j = 1\n",
    "    while j <= n - i:\n",
    "        print(\".\", end=\"\")\n",
    "        j = j + 1\n",
    "\n",
    "    # print stars\n",
    "    j = 1\n",
    "    while j <= 2*i - 1:\n",
    "        print(\"*\", end=\"\")\n",
    "        j = j + 1\n",
    "\n",
    "    # print spaces\n",
    "    print()\n",
    "    i = i + 1"
   ],
   "metadata": {
    "collapsed": false,
    "ExecuteTime": {
     "end_time": "2023-07-04T12:29:42.238516Z",
     "start_time": "2023-07-04T12:29:36.318210Z"
    }
   }
  },
  {
   "cell_type": "markdown",
   "source": [
    "\"\"\"\n",
    "n = 11(odd)\n",
    "m = (n+1)/2 = 6\n",
    "\n",
    "                i . *\n",
    "                ___________________\n",
    "\n",
    "                1 0 11   . = -> i - 1\n",
    "                2 1 9\n",
    "                3 2 7\n",
    "                4 3 5\n",
    "                5 4 3    * = -> 2*(m-i) + 1\n",
    "                6 5 1\n",
    "                _______\n",
    "\n",
    "                7 4 3   . = -> n - i\n",
    "                8 3 5\n",
    "                9 2 7\n",
    "                10 1 9  * = -> 2*(i-m) + 1\n",
    "                11 0 11\n",
    "                ___________________\n",
    "\n",
    "\n",
    "***********\n",
    ".*********\n",
    "..*******\n",
    "...*****\n",
    "....***\n",
    ".....*\n",
    "....***\n",
    "...*****\n",
    "..*******\n",
    ".*********\n",
    "***********\n",
    "\n",
    "\"\"\""
   ],
   "metadata": {
    "collapsed": false
   }
  },
  {
   "cell_type": "code",
   "execution_count": 204,
   "outputs": [
    {
     "name": "stdout",
     "output_type": "stream",
     "text": [
      "*****\n",
      ".***\n",
      "..*\n",
      ".***\n",
      "*****\n"
     ]
    }
   ],
   "source": [
    "n = int(input(\"Please enter the odd number of layers...\"))\n",
    "m = (n+1)/2\n",
    "i = 1\n",
    "while i <= n:\n",
    "    if (i > m):\n",
    "        b = n-i\n",
    "        s= 2*(i-m)+1\n",
    "    else:\n",
    "        b=i-1\n",
    "        s = 2*(m-i)+1\n",
    "\n",
    "    j = 1\n",
    "    while j <= b:\n",
    "        print(\".\", end=\"\")\n",
    "        j = j+1\n",
    "\n",
    "    j = 1\n",
    "    while j <= s:\n",
    "        print(\"*\", end=\"\")\n",
    "        j = j + 1\n",
    "    print()\n",
    "    i = i + 1"
   ],
   "metadata": {
    "collapsed": false,
    "ExecuteTime": {
     "end_time": "2023-07-04T12:29:48.548448Z",
     "start_time": "2023-07-04T12:29:41.442643Z"
    }
   }
  },
  {
   "cell_type": "markdown",
   "source": [
    "\"\"\"\n",
    "n = 11(odd)\n",
    "m = (n+1)/2 = 6\n",
    "\n",
    "                i . *\n",
    "                ___________________\n",
    "\n",
    "                1 5 1\n",
    "                2 4 3  . = -> m - i\n",
    "                3 3 5\n",
    "                4 2 7  * = -> 2*i - 1\n",
    "                5 1 9\n",
    "                6 0 11\n",
    "                _____\n",
    "                7 1 9\n",
    "                8 2 7  . = -> i - m\n",
    "                9 3 5\n",
    "                10 4 3  * = -> 2*(m-i) + n\n",
    "                11 5 1\n",
    "                ___________________\n",
    "\n",
    "\n",
    ".....*\n",
    "....***\n",
    "...*****\n",
    "..*******\n",
    ".*********\n",
    "***********\n",
    ".*********\n",
    "..*******\n",
    "...*****\n",
    "....***\n",
    ".....*\n",
    "\n",
    "\"\"\""
   ],
   "metadata": {
    "collapsed": false
   }
  },
  {
   "cell_type": "code",
   "execution_count": 205,
   "outputs": [
    {
     "name": "stdout",
     "output_type": "stream",
     "text": [
      ".....*\n",
      "....***\n",
      "...*****\n",
      "..*******\n",
      ".*********\n",
      "***********\n",
      ".*********\n",
      "..*******\n",
      "...*****\n",
      "....***\n",
      ".....*\n"
     ]
    }
   ],
   "source": [
    "n = 11\n",
    "m = (n+1)/2 # 6\n",
    "i = 1\n",
    "while i <= n:\n",
    "    if (i < m):\n",
    "        b = m-i\n",
    "        s= 2*i - 1\n",
    "    else:\n",
    "        b= i-m\n",
    "        s = 2*(m-i) + n\n",
    "\n",
    "    j = 1\n",
    "    while j <= b:\n",
    "        print(\".\", end=\"\")\n",
    "        j = j + 1\n",
    "\n",
    "    j = 1\n",
    "    while j <= s:\n",
    "        print(\"*\", end=\"\")\n",
    "        j = j + 1\n",
    "    print()\n",
    "    i = i + 1\n"
   ],
   "metadata": {
    "collapsed": false,
    "ExecuteTime": {
     "end_time": "2023-07-04T12:29:48.548917Z",
     "start_time": "2023-07-04T12:29:48.403915Z"
    }
   }
  },
  {
   "cell_type": "markdown",
   "source": [
    "#  if...elif..else"
   ],
   "metadata": {
    "collapsed": false
   }
  },
  {
   "cell_type": "code",
   "execution_count": 206,
   "outputs": [
    {
     "name": "stdout",
     "output_type": "stream",
     "text": [
      "Go to 7 grade\n"
     ]
    }
   ],
   "source": [
    "# if...elif..else\n",
    "age = int(input(\"Please enter the age of the person...\"))\n",
    "if age < 5:\n",
    "    print(\"Too young\")\n",
    "elif age == 5:\n",
    "    print(\"Kindergarten\")\n",
    "elif ((age >5) and (age <= 17)):\n",
    "    grade = age - 5\n",
    "    print(\"Go to {} grade\".format(grade))\n",
    "else:\n",
    "    print(\"Go to college\")"
   ],
   "metadata": {
    "collapsed": false,
    "ExecuteTime": {
     "end_time": "2023-07-04T12:29:52.356467Z",
     "start_time": "2023-07-04T12:29:48.408683Z"
    }
   }
  },
  {
   "cell_type": "code",
   "execution_count": 207,
   "outputs": [
    {
     "name": "stdout",
     "output_type": "stream",
     "text": [
      "Positive number\n"
     ]
    }
   ],
   "source": [
    "num = float(input(\"Please enter a number...\"))\n",
    "if num >= 0:\n",
    "    print(\"Positive number\")\n",
    "elif num == 0:\n",
    "    print(\"Zero\")\n",
    "else:\n",
    "    print(\"Negative number\")"
   ],
   "metadata": {
    "collapsed": false,
    "ExecuteTime": {
     "end_time": "2023-07-04T12:29:55.493117Z",
     "start_time": "2023-07-04T12:29:52.086724Z"
    }
   }
  },
  {
   "cell_type": "code",
   "execution_count": 208,
   "outputs": [
    {
     "name": "stdout",
     "output_type": "stream",
     "text": [
      "[['Roy', 80, 75, 85, 90, 95], ['John', 75, 80, 75, 85, 100], ['Dave', 80, 80, 80, 90, 95]]\n",
      "\n",
      "[['Roy', 80, 75, 85, 90, 95], ['John', 75, 80, 75], ['Dave', 80, 80, 80, 90, 95]]\n"
     ]
    }
   ],
   "source": [
    "# a is 2-D matrix with integers\n",
    "a = [\n",
    "    ['Roy',80,75,85,90,95],\n",
    "    ['John',75,80,75,85,100],\n",
    "    ['Dave', 80, 80, 80, 90, 95]\n",
    "]\n",
    "# b is a nested list but not a matrix\n",
    "b= [\n",
    "    ['Roy',80,75,85,90,95],\n",
    "    ['John',75,80,75],\n",
    "    ['Dave', 80, 80, 80, 90,95]\n",
    "]\n",
    "print(a)\n",
    "print()\n",
    "print(b)"
   ],
   "metadata": {
    "collapsed": false,
    "ExecuteTime": {
     "end_time": "2023-07-04T12:29:55.493524Z",
     "start_time": "2023-07-04T12:29:55.366813Z"
    }
   }
  },
  {
   "cell_type": "code",
   "execution_count": 209,
   "outputs": [
    {
     "name": "stdout",
     "output_type": "stream",
     "text": [
      "[0, 0, 0]\n",
      "[[0, 0, 0, 0], [0, 0, 0, 0], [0, 0, 0, 0]]\n"
     ]
    }
   ],
   "source": [
    "n = 3\n",
    "m = 4\n",
    "\n",
    "a = [0] * n\n",
    "print(a)\n",
    "\n",
    "for i in range(n):\n",
    "    a[i] = [0]* m\n",
    "print(a)"
   ],
   "metadata": {
    "collapsed": false,
    "ExecuteTime": {
     "end_time": "2023-07-04T12:29:55.493822Z",
     "start_time": "2023-07-04T12:29:55.376138Z"
    }
   }
  },
  {
   "cell_type": "code",
   "execution_count": 210,
   "outputs": [
    {
     "name": "stdout",
     "output_type": "stream",
     "text": [
      "[[0, 0, 0, 0], [0, 0, 0, 0], [0, 0, 0, 0]]\n",
      "[0, 0, 0, 0]\n",
      "0\n",
      "0\n"
     ]
    }
   ],
   "source": [
    "# Accessing elements in a matrix\n",
    "print(a)\n",
    "print(a[0])\n",
    "print(a[0][1])\n",
    "print(a[1][2])"
   ],
   "metadata": {
    "collapsed": false,
    "ExecuteTime": {
     "end_time": "2023-07-04T12:29:55.525880Z",
     "start_time": "2023-07-04T12:29:55.381680Z"
    }
   }
  },
  {
   "cell_type": "code",
   "execution_count": 211,
   "outputs": [
    {
     "name": "stdout",
     "output_type": "stream",
     "text": [
      "[[0, 0, 0, 0], [0, 0, 0, 0], [0, 0, 0, 0]]\n",
      "[0, 0, 0, 0]\n",
      "0\n",
      "0\n"
     ]
    }
   ],
   "source": [
    "# Negative indexing\n",
    "\n",
    "print(a)\n",
    "print(a[-1])\n",
    "print(a[-1][-1])\n",
    "print(a[-2][-3])"
   ],
   "metadata": {
    "collapsed": false,
    "ExecuteTime": {
     "end_time": "2023-07-04T12:29:55.526333Z",
     "start_time": "2023-07-04T12:29:55.388628Z"
    }
   }
  },
  {
   "cell_type": "code",
   "execution_count": 212,
   "outputs": [
    {
     "name": "stdout",
     "output_type": "stream",
     "text": [
      "[[0, 0, 0, 0], [0, 0, 0, 0], [0, 0, 0, 0]]\n",
      "[0, 0, 0, 0]\n",
      "[0, 5, 0, 0]\n",
      "[[0, 5, 0, 0], [0, 0, 0, 0], [0, 0, 0, 0]]\n",
      "[[0, 5, 0, 0], [0, 0, 0, 0], ['Samy', 80, 75, 85, 90, 95]]\n"
     ]
    }
   ],
   "source": [
    "print(a)\n",
    "b = a[0]\n",
    "print(b)\n",
    "\n",
    "b[1] = 5\n",
    "print(b)\n",
    "print(a)\n",
    "\n",
    "a[2] = ['Samy', 80, 75, 85, 90, 95]\n",
    "print(a)"
   ],
   "metadata": {
    "collapsed": false,
    "ExecuteTime": {
     "end_time": "2023-07-04T12:29:55.526628Z",
     "start_time": "2023-07-04T12:29:55.394673Z"
    }
   }
  },
  {
   "cell_type": "code",
   "execution_count": 213,
   "outputs": [
    {
     "name": "stdout",
     "output_type": "stream",
     "text": [
      "[[1, 2, 3, 4], [5, 6, 7, 8], [9, 0, 12, 22], [33, 43, 21, 45], [64, 34, 3, 4]]\n"
     ]
    }
   ],
   "source": [
    "# create a dynamic matrix using nested list comprehension\n",
    "rows = int(input(\"Enter the number of rows...\"))\n",
    "cols = int(input(\"Enter the number of columns...\"))\n",
    "a = [[int(input(\"Enter the element...\")) for i in range(cols)] for j in range(rows)]\n",
    "print(a)"
   ],
   "metadata": {
    "collapsed": false,
    "ExecuteTime": {
     "end_time": "2023-07-04T12:30:19.253836Z",
     "start_time": "2023-07-04T12:29:55.401207Z"
    }
   }
  },
  {
   "cell_type": "markdown",
   "source": [
    "# Regular Expressions\n"
   ],
   "metadata": {
    "collapsed": false
   }
  },
  {
   "cell_type": "code",
   "execution_count": 214,
   "outputs": [
    {
     "name": "stdout",
     "output_type": "stream",
     "text": [
      "There is an ape\n"
     ]
    }
   ],
   "source": [
    "# Regular expressions allow you to locate and change # strings in very powerful ways.\n",
    "# They work in almost exactly the same way in every # programming Language as well.\n",
    "# Regular Expressions (Regex) are used to\n",
    "# 1. Search for a specific string in a large amount of data # 2. Verify that a string has the proper format (Email, Phone #)\n",
    "# 3. Find a string and replace it with another string\n",
    "# 4. Format data into the proper form for importing for example\n",
    "#import the Regex module\n",
    "import re\n",
    "#\n",
    "# ......... Was a Match Found ......\n",
    "# Search for ape in the string\n",
    "if re.search(\"ape\", \"The ape was at the apex\"):\n",
    "    print(\"There is an ape\")"
   ],
   "metadata": {
    "collapsed": false,
    "ExecuteTime": {
     "end_time": "2023-07-04T12:30:19.254233Z",
     "start_time": "2023-07-04T12:30:19.216970Z"
    }
   }
  },
  {
   "cell_type": "code",
   "execution_count": 215,
   "outputs": [
    {
     "name": "stdout",
     "output_type": "stream",
     "text": [
      "ape \n",
      "apex\n"
     ]
    }
   ],
   "source": [
    "import re\n",
    "# Get ALL Matches\n",
    "#findall () returns a list of matches # . is used to match any 1 character or spake\n",
    "allApes = re.findall(\"ape.\", \"The ape was at the apex\")\n",
    "for i in allApes:\n",
    "    print(i)"
   ],
   "metadata": {
    "collapsed": false,
    "ExecuteTime": {
     "end_time": "2023-07-04T12:30:19.254536Z",
     "start_time": "2023-07-04T12:30:19.222022Z"
    }
   }
  },
  {
   "cell_type": "code",
   "execution_count": 216,
   "outputs": [
    {
     "name": "stdout",
     "output_type": "stream",
     "text": [
      "(4, 8)\n",
      "ape \n",
      "(19, 23)\n",
      "apex\n"
     ]
    }
   ],
   "source": [
    "#finditer returns an iterator of matching objects # You can use span to get the location\n",
    "theStr = \"The ape was at the apex\"\n",
    "for i in re.finditer (\"ape.\", theStr):\n",
    "    # Span returns a tuple\n",
    "    locTuple = i.span()\n",
    "    print(locTuple)\n",
    "    # Slice the match out using the tuple values\n",
    "    print(theStr[locTuple[0]:locTuple[1]])"
   ],
   "metadata": {
    "collapsed": false,
    "ExecuteTime": {
     "end_time": "2023-07-04T12:30:19.254908Z",
     "start_time": "2023-07-04T12:30:19.226904Z"
    }
   }
  },
  {
   "cell_type": "code",
   "execution_count": 217,
   "outputs": [
    {
     "name": "stdout",
     "output_type": "stream",
     "text": [
      "rat\n",
      "mat\n",
      "fat\n",
      "pat\n",
      "Tat\n",
      "\n"
     ]
    }
   ],
   "source": [
    "import re\n",
    "# Match 1 of Several Letters\n",
    "# Square brackets will match any one of the characters between # the brackets not including upper and Lowercase varieties # unless they are listed\n",
    "animalStr = \"Cat rat mat fat pat Tat\"\n",
    "allAnimals = re.findall(\"[crmfptT]at\", animalStr)\n",
    "for i in allAnimals:\n",
    "    print(i)\n",
    "print()"
   ],
   "metadata": {
    "collapsed": false,
    "ExecuteTime": {
     "end_time": "2023-07-04T12:30:19.255224Z",
     "start_time": "2023-07-04T12:30:19.235047Z"
    }
   }
  },
  {
   "cell_type": "code",
   "execution_count": 218,
   "outputs": [
    {
     "name": "stdout",
     "output_type": "stream",
     "text": [
      "Cat\n",
      "mat\n",
      "fat\n",
      "\n"
     ]
    }
   ],
   "source": [
    "# We can also allow for characters in a range\n",
    "# Remember to include upper and Lowercase Letters\n",
    "animalStr = \"Cat rat mat fat pat\"\n",
    "someAnimals = re.findall(\"[c-mC-M]at\", animalStr) # [a-zA-Z]at would match any animal\n",
    "for i in someAnimals:\n",
    "    print(i)\n",
    "print()"
   ],
   "metadata": {
    "collapsed": false,
    "ExecuteTime": {
     "end_time": "2023-07-04T12:30:19.255528Z",
     "start_time": "2023-07-04T12:30:19.240953Z"
    }
   }
  },
  {
   "cell_type": "code",
   "execution_count": 219,
   "outputs": [
    {
     "name": "stdout",
     "output_type": "stream",
     "text": [
      "mat\n",
      "fat\n",
      "pat\n",
      "\n"
     ]
    }
   ],
   "source": [
    "# Use to denote any character but whatever characters are # between the brackets\n",
    "animalStr = \"Cat rat mat fat pat\"\n",
    "someAnimals = re.findall(\"[^Cr]at\", animalStr) # [^Cr]at would match any animal except Cat and rat\n",
    "for i in someAnimals:\n",
    "    print(i)\n",
    "print()"
   ],
   "metadata": {
    "collapsed": false,
    "ExecuteTime": {
     "end_time": "2023-07-04T12:30:19.255809Z",
     "start_time": "2023-07-04T12:30:19.246493Z"
    }
   }
  },
  {
   "cell_type": "code",
   "execution_count": 220,
   "outputs": [
    {
     "name": "stdout",
     "output_type": "stream",
     "text": [
      "owl owl mat pat\n"
     ]
    }
   ],
   "source": [
    "import re\n",
    "# _______ Replace ALL Matches _______\n",
    "# Replace matching items in a string\n",
    "owlFood = \"rat cat mat pat\"\n",
    "# You can compile a regex into pattern objects which # provide additional methods\n",
    "regex = re.compile(\"[cr]at\")\n",
    "# sub() replaces items that match the regex in the string\n",
    "# with the 1st attribute string passed to sub owl Food\n",
    "owlFood = regex.sub(\"owl\", owlFood)\n",
    "print(owlFood)"
   ],
   "metadata": {
    "collapsed": false,
    "ExecuteTime": {
     "end_time": "2023-07-04T12:30:19.263379Z",
     "start_time": "2023-07-04T12:30:19.252463Z"
    }
   }
  },
  {
   "cell_type": "code",
   "execution_count": 221,
   "outputs": [
    {
     "name": "stdout",
     "output_type": "stream",
     "text": [
      "Find \\stuff:  None\n",
      "Find \\stuff:  <re.Match object; span=(8, 14), match='\\\\stuff'>\n",
      "Find \\stuff:  <re.Match object; span=(8, 14), match='\\\\stuff'>\n"
     ]
    }
   ],
   "source": [
    "import re\n",
    "# -------- Solving Backslash Problems ---------\n",
    "# Regex use the backslash to designate special characters\n",
    "# and Python does the same inside strings which causes issues.\n",
    "# Let's try to get \"\\\\stuff\" out of a string\n",
    "randStr = \"Here is \\\\stuff\"\n",
    "# This won't find it\n",
    "print(\"Find \\\\stuff: \", re.search(\"\\\\stuff\", randStr))\n",
    "# This does, but we have to put in 4 slashes which is messy\n",
    "print(\"Find \\\\stuff: \", re.search(\"\\\\\\\\stuff\", randStr))\n",
    "# You can get around this by using raw strings which # don't treat backslashes as special\n",
    "print(\"Find \\\\stuff: \", re.search(r\"\\\\stuff\", randStr))"
   ],
   "metadata": {
    "collapsed": false,
    "ExecuteTime": {
     "end_time": "2023-07-04T12:30:19.263896Z",
     "start_time": "2023-07-04T12:30:19.258757Z"
    }
   }
  },
  {
   "cell_type": "code",
   "execution_count": 222,
   "outputs": [
    {
     "name": "stdout",
     "output_type": "stream",
     "text": [
      "Matches  2\n",
      "Matches : ['F.B.I', 'I.R.S']\n"
     ]
    }
   ],
   "source": [
    "import re\n",
    "# Matching Any Character\n",
    "# We saw that matches any character, but what if we #want to match a period. Backslash the period # You do the same with [, ] and others\n",
    "randStr = \"F.B.I. I.R.S. CIA\"\n",
    "print(\"Matches \", len(re.findall(\".\\..\\..\", randStr))) # . is any character while \\. is actually a period '.'\n",
    "print(\"Matches :\", re.findall(\".\\..\\..\", randStr))"
   ],
   "metadata": {
    "collapsed": false,
    "ExecuteTime": {
     "end_time": "2023-07-04T12:30:19.348214Z",
     "start_time": "2023-07-04T12:30:19.264387Z"
    }
   }
  },
  {
   "cell_type": "code",
   "execution_count": 223,
   "outputs": [
    {
     "name": "stdout",
     "output_type": "stream",
     "text": [
      "This is a long\n",
      "string that goes\n",
      "on for many lines\n",
      "This is a long string that goes on for many lines\n"
     ]
    }
   ],
   "source": [
    "import re\n",
    "# Matching Whitespace\n",
    "# We can match many whitespace characters\n",
    "randStr = \"\"\"This is a long\n",
    "string that goes\n",
    "on for many lines\"\"\"\n",
    "print (randStr)\n",
    "# Remove newlines\n",
    "regex = re.compile(\"\\n\")\n",
    "randStr = regex.sub(\" \", randStr)\n",
    "print (randStr)\n",
    "# You can also match\n",
    "# \\b: Backspace\n",
    "# \\f Form Feed\n",
    "# \\r : Carriage Return\n",
    "# \\t : Tab\n",
    "# \\v : Vertical Tab\n",
    "# You may need to remove \\r\\n on Windows"
   ],
   "metadata": {
    "collapsed": false,
    "ExecuteTime": {
     "end_time": "2023-07-04T12:30:19.356346Z",
     "start_time": "2023-07-04T12:30:19.270147Z"
    }
   }
  },
  {
   "cell_type": "code",
   "execution_count": 230,
   "outputs": [
    {
     "name": "stdout",
     "output_type": "stream",
     "text": [
      "Matches : 5\n",
      "Matches : ['1', '2', '3', '4', '5']\n"
     ]
    }
   ],
   "source": [
    "import re\n",
    "# Matching Any Single Number\n",
    "# \\d can be used instead of [0-9]\n",
    "# \\D is the same as [^0-9]\n",
    "randStr = \"12345\"\n",
    "print(\"Matches :\", len(re.findall(\"\\d\", randStr)))\n",
    "print(\"Matches :\", re.findall(\"\\d\", randStr))"
   ],
   "metadata": {
    "collapsed": false,
    "ExecuteTime": {
     "end_time": "2023-07-04T12:31:56.854515Z",
     "start_time": "2023-07-04T12:31:56.780514Z"
    }
   }
  },
  {
   "cell_type": "code",
   "execution_count": 225,
   "outputs": [
    {
     "name": "stdout",
     "output_type": "stream",
     "text": [
      "It is a zip code\n",
      "Matches : 3\n",
      "Matches : ['12345', '123456', '1234567']\n"
     ]
    }
   ],
   "source": [
    "import re\n",
    "# Matching Multiple Numbers\n",
    "# You can match multiple digits by following the \\d with {numOfValues}\n",
    "# Match 5 numbers] only\n",
    "if re.search(\"\\d{5}\", \"12345\"): # Match 5 numbers\n",
    "    print(\"It is a zip code\")\n",
    "# You can also match within a range # Match values that are between 5 and 7 digits\n",
    "numStr = \"123 12345 123456 1234567\"\n",
    "print(\"Matches :\", len(re.findall(\"\\d{5,7}\", numStr))) # Match 5 to 7 numbers\n",
    "print(\"Matches :\", re.findall(\"\\d{5,7}\", numStr))"
   ],
   "metadata": {
    "collapsed": false,
    "ExecuteTime": {
     "end_time": "2023-07-04T12:30:19.580006Z",
     "start_time": "2023-07-04T12:30:19.285394Z"
    }
   }
  },
  {
   "cell_type": "code",
   "execution_count": 236,
   "outputs": [
    {
     "name": "stdout",
     "output_type": "stream",
     "text": [
      "It is a phone number\n",
      "It is a valid name\n"
     ]
    }
   ],
   "source": [
    "import re\n",
    "# Matching Any Single Letter or Number\n",
    "# \\w is the same as [a-zA-Z0-9_]\n",
    "# \\W is the same as [^a-zA-Z0-9_]\n",
    "phNum = \"412-555-1212\"\n",
    "# Check if it is a phone number\n",
    "if re.search(\"\\w{3}-\\w{3}-\\w{4}\", phNum):\n",
    "    print(\"It is a phone number\")\n",
    "# Check for valid first name between 2 and 20 characters\n",
    "if re.search(\"\\w{2,20}\", \"Ultraman\"):\n",
    "    print(\"It is a valid name\")"
   ],
   "metadata": {
    "collapsed": false,
    "ExecuteTime": {
     "end_time": "2023-07-04T12:35:37.108388Z",
     "start_time": "2023-07-04T12:35:37.030231Z"
    }
   }
  },
  {
   "cell_type": "code",
   "execution_count": 239,
   "outputs": [
    {
     "name": "stdout",
     "output_type": "stream",
     "text": [
      "It is a valid full name\n"
     ]
    }
   ],
   "source": [
    "import re\n",
    "# Matching WhiteSpace\n",
    "# \\s is the same as [\\f\\n\\r\\t\\v]\n",
    "# \\S is the same as [^\\f\\n\\r\\t\\v]\n",
    "# Check for valid first and last name with a space\n",
    "if re.search(\"\\w{2,20}\\s\\w{2,20}\", \"Toshio Muramatsu\"):\n",
    "    print(\"It is a valid full name\")"
   ],
   "metadata": {
    "collapsed": false,
    "ExecuteTime": {
     "end_time": "2023-07-04T12:36:07.722878Z",
     "start_time": "2023-07-04T12:36:07.648192Z"
    }
   }
  },
  {
   "cell_type": "code",
   "execution_count": 240,
   "outputs": [
    {
     "name": "stdout",
     "output_type": "stream",
     "text": [
      "Matches 3\n",
      "Matches : ['a', 'a', 'a']\n"
     ]
    }
   ],
   "source": [
    "import re\n",
    "# Matching One or More\n",
    "# + matches 1 or more characters\n",
    "# Match a followed by 1 or more characters\n",
    "print(\"Matches\", len (re.findall(\"a+\", \"a as ape bug\")))\n",
    "print(\"Matches :\", re.findall(\"a+\", \"a as ape bug\"))"
   ],
   "metadata": {
    "collapsed": false,
    "ExecuteTime": {
     "end_time": "2023-07-04T12:36:44.046884Z",
     "start_time": "2023-07-04T12:36:43.859438Z"
    }
   }
  },
  {
   "cell_type": "code",
   "execution_count": 243,
   "outputs": [
    {
     "name": "stdout",
     "output_type": "stream",
     "text": [
      "Email Matches : 1\n",
      "Email Matches : ['db@aol.com']\n"
     ]
    }
   ],
   "source": [
    "import re\n",
    "# Problem\n",
    "# Create a Regex that matches email addresses from a list # 1. 1 to 20 Lowercase and uppercase letters, numbers, plus _%+-\n",
    "# 2. An@ symbol\n",
    "# 3. 2 to 20 Lowercase and uppercase letters, numbers, plus .- I\n",
    "# 4. A period\n",
    "# 5. 2 to 3 Lowercase and uppercase letters\n",
    "emailList = \"db@aol.com m@.com @apple.com db@.com\"\n",
    "print(\"Email Matches :\", len(re.findall(\"[\\w._%+-]{1,20}@[\\w.-]{2,20}.[A-Za-z]{2,3}\",emailList)))\n",
    "print(\"Email Matches :\", re.findall(\"[\\w._%+-]{1,20}@[\\w.-]{2,20}.[A-Za-z]{2,3}\",emailList))"
   ],
   "metadata": {
    "collapsed": false,
    "ExecuteTime": {
     "end_time": "2023-07-04T12:42:04.338451Z",
     "start_time": "2023-07-04T12:42:04.192042Z"
    }
   }
  },
  {
   "cell_type": "markdown",
   "source": [
    "# List Comprehensions\n"
   ],
   "metadata": {
    "collapsed": false
   }
  },
  {
   "cell_type": "code",
   "execution_count": 244,
   "outputs": [
    {
     "name": "stdout",
     "output_type": "stream",
     "text": [
      "['h', 'u', 'm', 'a', 'n']\n"
     ]
    }
   ],
   "source": [
    "# Iterating a string through a for Loop and adding the Letters to a list\n",
    "h_letters = []\n",
    "for letter in 'human':\n",
    "    h_letters.append(letter)\n",
    "print (h_letters)"
   ],
   "metadata": {
    "collapsed": false,
    "ExecuteTime": {
     "end_time": "2023-07-05T07:13:14.256049Z",
     "start_time": "2023-07-05T07:13:14.237464Z"
    }
   }
  },
  {
   "cell_type": "code",
   "execution_count": 245,
   "outputs": [
    {
     "name": "stdout",
     "output_type": "stream",
     "text": [
      "['h', 'u', 'm', 'a', 'n']\n"
     ]
    }
   ],
   "source": [
    "# Using comprehension\n",
    "h_letters = [letter for letter in 'human']\n",
    "print(h_letters)"
   ],
   "metadata": {
    "collapsed": false,
    "ExecuteTime": {
     "end_time": "2023-07-05T07:13:16.823353Z",
     "start_time": "2023-07-05T07:13:16.742694Z"
    }
   }
  },
  {
   "cell_type": "code",
   "execution_count": 246,
   "outputs": [
    {
     "name": "stdout",
     "output_type": "stream",
     "text": [
      "['h', 'u', 'm', 'a', 'n']\n"
     ]
    }
   ],
   "source": [
    "# List Comprehensions vs Lambda Function\n",
    "h_letters = list(map(lambda x: x, 'human'))\n",
    "print(h_letters)"
   ],
   "metadata": {
    "collapsed": false,
    "ExecuteTime": {
     "end_time": "2023-07-05T07:13:42.244256Z",
     "start_time": "2023-07-05T07:13:42.037366Z"
    }
   }
  },
  {
   "cell_type": "code",
   "execution_count": 247,
   "outputs": [
    {
     "name": "stdout",
     "output_type": "stream",
     "text": [
      "[0, 2, 4, 6, 8, 10, 12, 14, 16, 18]\n"
     ]
    }
   ],
   "source": [
    "# If with List comprehension\n",
    "number_list = [x for x in range(20) if x%2==0]\n",
    "print(number_list)"
   ],
   "metadata": {
    "collapsed": false,
    "ExecuteTime": {
     "end_time": "2023-07-05T07:14:14.555946Z",
     "start_time": "2023-07-05T07:14:14.483949Z"
    }
   }
  },
  {
   "cell_type": "code",
   "execution_count": 248,
   "outputs": [
    {
     "name": "stdout",
     "output_type": "stream",
     "text": [
      "[0, 10, 20, 30, 40, 50, 60, 70, 80, 90]\n"
     ]
    }
   ],
   "source": [
    "# Nested If with list comprehension\n",
    "num_list = [y for y in range(100) if y % 2 == 0 if y % 5 == 0]\n",
    "print(num_list)"
   ],
   "metadata": {
    "collapsed": false,
    "ExecuteTime": {
     "end_time": "2023-07-05T07:14:39.195511Z",
     "start_time": "2023-07-05T07:14:39.038151Z"
    }
   }
  },
  {
   "cell_type": "code",
   "execution_count": 249,
   "outputs": [
    {
     "name": "stdout",
     "output_type": "stream",
     "text": [
      "['Even', 'Odd', 'Even', 'Odd', 'Even', 'Odd', 'Even', 'Odd', 'Even', 'Odd']\n"
     ]
    }
   ],
   "source": [
    "obj = [\"Even\" if i%2==0 else \"Odd\" for i in range(10)]\n",
    "print(obj)"
   ],
   "metadata": {
    "collapsed": false,
    "ExecuteTime": {
     "end_time": "2023-07-05T07:20:25.811197Z",
     "start_time": "2023-07-05T07:20:25.721838Z"
    }
   }
  },
  {
   "cell_type": "code",
   "execution_count": 252,
   "outputs": [
    {
     "name": "stdout",
     "output_type": "stream",
     "text": [
      "[[1, 3, 5, 7], [2, 4, 6, 8]]\n"
     ]
    }
   ],
   "source": [
    "# Transpose of Matrix using Nested Loops\n",
    "matrix = [[1, 2], [3,4], [5,6], [7,8]]\n",
    "transpose = [[row[i] for row in matrix] for i in range(2)] # i == 0, 1\n",
    "# 2 is the number of columns in matrix\n",
    "# row[i] for row in matrix] is the number of rows in matrix\n",
    "#row[i] == 0 in each row in the first column # 1, 3, 5, 7\n",
    "# row[i] == 1 in each row in the second column # 2, 4, 6, 8\n",
    "print(transpose)"
   ],
   "metadata": {
    "collapsed": false,
    "ExecuteTime": {
     "end_time": "2023-07-05T07:22:59.163040Z",
     "start_time": "2023-07-05T07:22:59.071509Z"
    }
   }
  },
  {
   "cell_type": "markdown",
   "source": [
    "# Python Recursion\n"
   ],
   "metadata": {
    "collapsed": false
   }
  },
  {
   "cell_type": "markdown",
   "source": [
    "![65](./images/034.png)"
   ],
   "metadata": {
    "collapsed": false
   }
  },
  {
   "cell_type": "markdown",
   "source": [
    "![66](./images/034-01.png)"
   ],
   "metadata": {
    "collapsed": false
   }
  },
  {
   "cell_type": "code",
   "execution_count": 3,
   "outputs": [
    {
     "name": "stdout",
     "output_type": "stream",
     "text": [
      "The factorial of 4 is 24\n"
     ]
    }
   ],
   "source": [
    "# Factorial of a number\n",
    "def calc_factorial(x):\n",
    "    \"\"\"This is a recursive function\n",
    "    to find the factorial of an integer\"\"\"\n",
    "    if x == 1:\n",
    "        return 1\n",
    "    else:\n",
    "        return (x * calc_factorial(x-1)) # 4 * 3 * 2 * 1\n",
    "\n",
    "num = 4\n",
    "print(\"The factorial of\", num, \"is\", calc_factorial(num))"
   ],
   "metadata": {
    "collapsed": false,
    "ExecuteTime": {
     "end_time": "2023-07-05T23:10:03.869548Z",
     "start_time": "2023-07-05T23:10:03.789625Z"
    }
   }
  },
  {
   "cell_type": "markdown",
   "source": [
    "# Python Input, Output\n",
    "\n",
    "![67](./images/035.png)"
   ],
   "metadata": {
    "collapsed": false
   }
  },
  {
   "cell_type": "code",
   "execution_count": 4,
   "outputs": [
    {
     "name": "stdout",
     "output_type": "stream",
     "text": [
      "This sentence is output to the screen\n",
      "The value of a is 5\n",
      "1 2 3 4\n"
     ]
    }
   ],
   "source": [
    "#print function and it's usage\n",
    "print('This sentence is output to the screen') # Output: This sentence is output to the screen\n",
    "a = 5\n",
    "print('The value of a is', a) # Output: The value of a is 5\n",
    "print (1,2,3,4) # Output: 1 2 3 4"
   ],
   "metadata": {
    "collapsed": false,
    "ExecuteTime": {
     "end_time": "2023-07-05T23:20:39.695Z",
     "start_time": "2023-07-05T23:20:39.615579Z"
    }
   }
  },
  {
   "cell_type": "code",
   "execution_count": 5,
   "outputs": [
    {
     "name": "stdout",
     "output_type": "stream",
     "text": [
      "1*2*3*4\n",
      "1#2#3#4&I love bread and butter\n",
      "I love butter and bread\n"
     ]
    }
   ],
   "source": [
    "print(1,2,3,4,sep='*') # Output: 1*2*3*4\n",
    "print(1,2,3,4, sep='#', end='&') # Output: 1#2#3#4&\n",
    "print('I love {0} and {1}'.format('bread', 'butter')) # Output: I Love bread and butter\n",
    "print('I love {1} and {0}'.format('bread', 'butter')) # Output: I Love butter and bread"
   ],
   "metadata": {
    "collapsed": false,
    "ExecuteTime": {
     "end_time": "2023-07-05T23:20:42.560690Z",
     "start_time": "2023-07-05T23:20:42.397240Z"
    }
   }
  },
  {
   "cell_type": "code",
   "execution_count": 7,
   "outputs": [
    {
     "name": "stdout",
     "output_type": "stream",
     "text": [
      "26\n"
     ]
    }
   ],
   "source": [
    "# Python Input\n",
    "num = int(input('Enter a number: '))\n",
    "print(num)"
   ],
   "metadata": {
    "collapsed": false,
    "ExecuteTime": {
     "end_time": "2023-07-05T23:22:15.233422Z",
     "start_time": "2023-07-05T23:22:13.452005Z"
    }
   }
  },
  {
   "cell_type": "code",
   "execution_count": 8,
   "outputs": [
    {
     "name": "stdout",
     "output_type": "stream",
     "text": [
      "The value of pi is 3.141592653589793\n"
     ]
    }
   ],
   "source": [
    "# Importing module\n",
    "import math\n",
    "print(\"The value of pi is\", math.pi)"
   ],
   "metadata": {
    "collapsed": false,
    "ExecuteTime": {
     "end_time": "2023-07-05T23:23:18.426431Z",
     "start_time": "2023-07-05T23:23:18.352845Z"
    }
   }
  },
  {
   "cell_type": "code",
   "execution_count": 9,
   "outputs": [
    {
     "name": "stdout",
     "output_type": "stream",
     "text": [
      "1000.0\n"
     ]
    }
   ],
   "source": [
    "x = 10\n",
    "print(math.pow(x,3))"
   ],
   "metadata": {
    "collapsed": false,
    "ExecuteTime": {
     "end_time": "2023-07-05T23:23:19.636698Z",
     "start_time": "2023-07-05T23:23:19.486838Z"
    }
   }
  },
  {
   "cell_type": "markdown",
   "source": [
    "# Reading and Writing Files\n",
    "\n",
    "\n",
    "![68](./images/036.png)"
   ],
   "metadata": {
    "collapsed": false
   }
  },
  {
   "cell_type": "markdown",
   "source": [
    "![69](./images/036-01.png)"
   ],
   "metadata": {
    "collapsed": false
   }
  },
  {
   "cell_type": "markdown",
   "source": [
    "![70](./images/036-02.png)"
   ],
   "metadata": {
    "collapsed": false
   }
  },
  {
   "cell_type": "code",
   "execution_count": null,
   "outputs": [],
   "source": [
    "# # Open a file\n",
    "#\n",
    "# # Open a file for reading\n",
    "#\n",
    "# f = open('workfile.txt', 'r')\n",
    "# f.close()\n",
    "#\n",
    "# # Open a file for writing\n",
    "#\n",
    "# f = open('workfile.txt', 'w')\n",
    "# f.close()\n",
    "#\n",
    "# # Open a file for appending\n",
    "#\n",
    "# f = open('workfile.txt', 'a')\n",
    "# f.close()\n"
   ],
   "metadata": {
    "collapsed": false
   }
  },
  {
   "cell_type": "code",
   "execution_count": null,
   "outputs": [],
   "source": [
    "# # open a file in safe mode\n",
    "#\n",
    "# with open('workfile.txt') as f:\n",
    "#     read_data = f.read()\n",
    "# # We can check that the file has been automatically closed.\n",
    "# f.closed()"
   ],
   "metadata": {
    "collapsed": false
   }
  },
  {
   "cell_type": "code",
   "execution_count": null,
   "outputs": [],
   "source": [
    "# Writing to a file\n",
    "\n",
    "# f = open('workfile.txt', 'w')\n",
    "#\n",
    "# with open('workfile.txt', 'w') as f:\n",
    "#     f.write('This is a test\\n')"
   ],
   "metadata": {
    "collapsed": false
   }
  },
  {
   "cell_type": "code",
   "execution_count": null,
   "outputs": [],
   "source": [
    "# Reading from a file\n",
    "\n",
    "# f = open('workfile.txt', 'r')\n",
    "# with open('workfile.txt', 'r') as f:\n",
    "#     read_data = f.read()\n",
    "#     print(read_data)"
   ],
   "metadata": {
    "collapsed": false
   }
  },
  {
   "cell_type": "markdown",
   "source": [
    "# Different looping techniques\n",
    "\n",
    "![71](./images/037.png)"
   ],
   "metadata": {
    "collapsed": false
   }
  },
  {
   "cell_type": "markdown",
   "source": [
    "![72](./images/037-01.png)"
   ],
   "metadata": {
    "collapsed": false
   }
  },
  {
   "cell_type": "markdown",
   "source": [
    "![73](./images/037-02.png)"
   ],
   "metadata": {
    "collapsed": false
   }
  },
  {
   "cell_type": "markdown",
   "source": [
    "![74](./images/037-03.png)"
   ],
   "metadata": {
    "collapsed": false
   }
  },
  {
   "cell_type": "markdown",
   "source": [
    "# Python Shallowness vs Deep Copying"
   ],
   "metadata": {
    "collapsed": false
   }
  },
  {
   "cell_type": "code",
   "execution_count": 10,
   "outputs": [],
   "source": [
    "# Shallow Copying\n",
    "# Shallow copying means constructing a new collection object and then populating it with references to the child objects found in the original.\n",
    "# The copying process does not recurse and therefore won’t create copies of the child objects themselves.\n",
    "# In case of shallow copy, a reference of object is copied in other object.\n",
    "# It means that any changes made to a copy of object do reflect in the original object.\n",
    "# In python, this is implemented using “copy()” function."
   ],
   "metadata": {
    "collapsed": false,
    "ExecuteTime": {
     "end_time": "2023-07-05T23:45:32.667480Z",
     "start_time": "2023-07-05T23:45:32.525106Z"
    }
   }
  },
  {
   "cell_type": "code",
   "execution_count": 12,
   "outputs": [
    {
     "name": "stdout",
     "output_type": "stream",
     "text": [
      "The original elements before shallow copying\n",
      "1 2 [3, 5] 4 \r\n",
      "The original elements after shallow copying\n",
      "1 2 [7, 5] 4 \r\n"
     ]
    }
   ],
   "source": [
    "# importing \"copy\" for copy operations\n",
    "import copy\n",
    "\n",
    "# initializing list 1\n",
    "li1 = [1, 2, [3,5], 4]\n",
    "\n",
    "# using copy to shallow copy\n",
    "li2 = copy.copy(li1)\n",
    "\n",
    "# original elements of list\n",
    "print (\"The original elements before shallow copying\")\n",
    "\n",
    "for i in range(0,len(li1)):\n",
    "    print (li1[i],end=\" \")\n",
    "\n",
    "print(\"\\r\")\n",
    "\n",
    "# adding and element to new list\n",
    "li2[2][0] = 7\n",
    "\n",
    "# checking if change is reflected\n",
    "print (\"The original elements after shallow copying\")\n",
    "\n",
    "for i in range(0,len( li1)):\n",
    "    print (li1[i],end=\" \")\n",
    "\n",
    "print(\"\\r\")"
   ],
   "metadata": {
    "collapsed": false,
    "ExecuteTime": {
     "end_time": "2023-07-05T23:45:53.371688Z",
     "start_time": "2023-07-05T23:45:53.280937Z"
    }
   }
  },
  {
   "cell_type": "code",
   "execution_count": 13,
   "outputs": [],
   "source": [
    "# Deep Copying\n",
    "# Deep copying is a process in which the copying process occurs recursively.\n",
    "# It means first constructing a new collection object and then recursively populating it with copies of the child objects found in the original.\n",
    "# In case of deep copy, a copy of object is copied in other object.\n",
    "# It means that any changes made to a copy of object do not reflect in the original object.\n",
    "# In python, this is implemented using “deepcopy()” function."
   ],
   "metadata": {
    "collapsed": false,
    "ExecuteTime": {
     "end_time": "2023-07-05T23:46:36.193440Z",
     "start_time": "2023-07-05T23:46:36.071712Z"
    }
   }
  },
  {
   "cell_type": "code",
   "execution_count": 17,
   "outputs": [
    {
     "name": "stdout",
     "output_type": "stream",
     "text": [
      "The original elements before deep copying\n",
      "1 2 [3, 5] 4 \r\n",
      "The original elements after deep copying\n",
      "1 2 [3, 5] 4 \r\n",
      "The new different list of elements after deep copying \n",
      "1 2 [7, 5] 4 "
     ]
    }
   ],
   "source": [
    "# importing \"copy\" for copy operations\n",
    "import copy\n",
    "\n",
    "# initializing list 1\n",
    "li1 = [1, 2, [3,5], 4]\n",
    "\n",
    "# using deepcopy to deep copy\n",
    "li2 = copy.deepcopy(li1)\n",
    "\n",
    "# original elements of list\n",
    "print (\"The original elements before deep copying\")\n",
    "\n",
    "for i in range(0,len(li1)):\n",
    "    print (li1[i],end=\" \")\n",
    "\n",
    "print(\"\\r\")\n",
    "\n",
    "# adding and element to new list\n",
    "li2[2][0] = 7\n",
    "\n",
    "# checking if change is reflected\n",
    "print (\"The original elements after deep copying\")\n",
    "\n",
    "for i in range(0,len( li1)):\n",
    "    print (li1[i],end=\" \")\n",
    "\n",
    "print(\"\\r\")\n",
    "\n",
    "print(\"The new different list of elements after deep copying \")\n",
    "\n",
    "for i in range(0,len( li2)):\n",
    "    print (li2[i],end=\" \")"
   ],
   "metadata": {
    "collapsed": false,
    "ExecuteTime": {
     "end_time": "2023-07-05T23:48:11.312215Z",
     "start_time": "2023-07-05T23:48:11.236386Z"
    }
   }
  },
  {
   "cell_type": "code",
   "execution_count": 18,
   "outputs": [
    {
     "name": "stdout",
     "output_type": "stream",
     "text": [
      "List1 ->  [[1, 2, 3], [4, 5, 6], [7, 8, 9]]\n",
      "List2 ->  [[1, 2, 3], [4, 5, 6], [7, 8, 9]]\n",
      "id of List1 ->  4433451712\n",
      "id of List2 ->  4433451712\n",
      "List1 ->  [[1, 2, 3], [4, 5, 6], [7, 8, 9], [10, 11, 12]]\n",
      "List2 ->  [[1, 2, 3], [4, 5, 6], [7, 8, 9], [10, 11, 12]]\n"
     ]
    }
   ],
   "source": [
    "list1 = [[1, 2, 3], [4, 5, 6], [7, 8, 9]]\n",
    "list2 = list1\n",
    "print(\"List1 -> \",list1)\n",
    "print(\"List2 -> \",list2)\n",
    "print(\"id of List1 -> \",id(list1))\n",
    "print(\"id of List2 -> \",id(list2))\n",
    "list1.append([10, 11, 12])\n",
    "print(\"List1 -> \",list1)\n",
    "print(\"List2 -> \",list2)"
   ],
   "metadata": {
    "collapsed": false,
    "ExecuteTime": {
     "end_time": "2023-07-05T23:48:34.959565Z",
     "start_time": "2023-07-05T23:48:34.749297Z"
    }
   }
  },
  {
   "cell_type": "code",
   "execution_count": 19,
   "outputs": [
    {
     "name": "stdout",
     "output_type": "stream",
     "text": [
      "Old list: [[1, 2, 3], [4, 5, 6], [7, 8, 9]]\n",
      "New list: [[1, 2, 3], [4, 5, 6], [7, 8, 9]]\n"
     ]
    }
   ],
   "source": [
    "#Creating a copy using Shallow Copy\n",
    "import copy\n",
    "old_list = [[1, 2, 3], [4, 5, 6], [7, 8, 9]]\n",
    "new_list = copy.copy(old_list)\n",
    "print(\"Old list:\", old_list)\n",
    "print(\"New list:\", new_list)"
   ],
   "metadata": {
    "collapsed": false,
    "ExecuteTime": {
     "end_time": "2023-07-05T23:49:30.822720Z",
     "start_time": "2023-07-05T23:49:30.618329Z"
    }
   }
  },
  {
   "cell_type": "code",
   "execution_count": 22,
   "outputs": [
    {
     "name": "stdout",
     "output_type": "stream",
     "text": [
      "Old list:  [[1, 2, 3], [4, 'AA', 6], [7, 8, 9], [4, 4, 4], [4, 4, 4]]\n",
      "New list: [[1, 2, 3], [4, 'AA', 6], [7, 8, 9]]\n",
      "Old list:  [[1, 2, 3], [4, 'AA', 6], [7, 8, 9], [4, 4, 4], [4, 4, 4]]\n",
      "New list:  [[1, 2, 3], [4, 'AA', 6], [7, 8, 9]]\n"
     ]
    }
   ],
   "source": [
    "#Adding elements to the old_list using shallow copy\n",
    "old_list.append([4, 4, 4])\n",
    "print(\"Old list: \", old_list)\n",
    "print(\"New list:\", new_list)\n",
    "\n",
    "#Adding new nested object using shallow copy\n",
    "old_list[1][1] = 'AA'\n",
    "print(\"Old list: \", old_list)\n",
    "print(\"New list: \", new_list)"
   ],
   "metadata": {
    "collapsed": false,
    "ExecuteTime": {
     "end_time": "2023-07-05T23:50:50.744011Z",
     "start_time": "2023-07-05T23:50:50.619333Z"
    }
   }
  },
  {
   "cell_type": "code",
   "execution_count": 27,
   "outputs": [
    {
     "name": "stdout",
     "output_type": "stream",
     "text": [
      "Old list:  [[1, 1, 1], [2, 2, 2], [3, 3, 3]]\n",
      "New list: [[1, 1, 1], [2, 2, 2], [3, 3, 3]]\n",
      "Old list id:  4437706304\n",
      "New list id:  4437705728\n"
     ]
    }
   ],
   "source": [
    "#Copying a list using deepcopy()\n",
    "import copy\n",
    "old_list = [[1, 1, 1], [2, 2, 2], [3, 3, 3]]\n",
    "new_list = copy.deepcopy(old_list)\n",
    "print(\"Old list: \", old_list)\n",
    "print(\"New list:\", new_list)\n",
    "print(\"Old list id: \",id(old_list))\n",
    "print(\"New list id: \",id(new_list))"
   ],
   "metadata": {
    "collapsed": false,
    "ExecuteTime": {
     "end_time": "2023-07-05T23:53:58.827264Z",
     "start_time": "2023-07-05T23:53:58.744388Z"
    }
   }
  },
  {
   "cell_type": "code",
   "execution_count": 26,
   "outputs": [
    {
     "name": "stdout",
     "output_type": "stream",
     "text": [
      "Old list:  [[1, 1, 1], ['BB', 2, 2], [3, 3, 3]]\n",
      "New list: [[1, 1, 1], [2, 2, 2], [3, 3, 3]]\n"
     ]
    }
   ],
   "source": [
    "#Adding a new nested object in the list using Deep Copy\n",
    "old_list[1][0] = 'BB'\n",
    "print(\"Old list: \", old_list)\n",
    "print(\"New list:\", new_list)"
   ],
   "metadata": {
    "collapsed": false,
    "ExecuteTime": {
     "end_time": "2023-07-05T23:53:29.449875Z",
     "start_time": "2023-07-05T23:53:29.363437Z"
    }
   }
  },
  {
   "cell_type": "markdown",
   "source": [
    "# Python Lambda || Anonymous Function"
   ],
   "metadata": {
    "collapsed": false
   }
  },
  {
   "cell_type": "code",
   "execution_count": 28,
   "outputs": [
    {
     "name": "stdout",
     "output_type": "stream",
     "text": [
      "Double of 10 is 20\n"
     ]
    }
   ],
   "source": [
    "a = lambda x:x*2\n",
    "# In Python, anonymous function is a function that is defined without a name. # It is defined by Lambda.\n",
    "print(\"Double of 10 is\", a(10))"
   ],
   "metadata": {
    "collapsed": false,
    "ExecuteTime": {
     "end_time": "2023-07-05T23:56:12.824099Z",
     "start_time": "2023-07-05T23:56:12.619414Z"
    }
   }
  },
  {
   "cell_type": "code",
   "execution_count": 29,
   "outputs": [
    {
     "name": "stdout",
     "output_type": "stream",
     "text": [
      "[4, 6, 8, 12]\n"
     ]
    }
   ],
   "source": [
    "# Making a new list by taking only the even numbers from the old list\n",
    "my_list = [1, 5, 4, 6, 8, 11, 3, 12]\n",
    "new_list = list(filter(lambda x: (x%2 == 0), my_list))\n",
    "# filter function is called with all the items in the list and a new list # is returned which contains items for which the function evaluats to True.\n",
    "# Output: [4, 6, 8, 12]\n",
    "print(new_list)"
   ],
   "metadata": {
    "collapsed": false,
    "ExecuteTime": {
     "end_time": "2023-07-05T23:57:12.370363Z",
     "start_time": "2023-07-05T23:57:12.133453Z"
    }
   }
  },
  {
   "cell_type": "code",
   "execution_count": 30,
   "outputs": [
    {
     "name": "stdout",
     "output_type": "stream",
     "text": [
      "[2, 10, 8, 12, 16, 22, 6, 24]\n"
     ]
    }
   ],
   "source": [
    "# Program to double each item in a list using map()\n",
    "my_list = [1, 5, 4, 6, 8, 11, 3, 12]\n",
    "new_list = list(map(lambda x: x * 2, my_list))\n",
    "# Output: [2, 10, 8, 12, 16, 22, 6, 24]\n",
    "print(new_list)"
   ],
   "metadata": {
    "collapsed": false,
    "ExecuteTime": {
     "end_time": "2023-07-05T23:57:42.336902Z",
     "start_time": "2023-07-05T23:57:42.154126Z"
    }
   }
  },
  {
   "cell_type": "markdown",
   "source": [
    "# Python Assert Statement\n",
    "\n",
    "![75](./images/038.png)"
   ],
   "metadata": {
    "collapsed": false
   }
  },
  {
   "cell_type": "markdown",
   "source": [
    "![76](./images/038-01.png)"
   ],
   "metadata": {
    "collapsed": false
   }
  },
  {
   "cell_type": "code",
   "execution_count": 31,
   "outputs": [
    {
     "name": "stdout",
     "output_type": "stream",
     "text": [
      "Average of mark1:  22.0\n"
     ]
    },
    {
     "ename": "AssertionError",
     "evalue": "",
     "output_type": "error",
     "traceback": [
      "\u001B[0;31m---------------------------------------------------------------------------\u001B[0m",
      "\u001B[0;31mAssertionError\u001B[0m                            Traceback (most recent call last)",
      "Cell \u001B[0;32mIn[31], line 8\u001B[0m\n\u001B[1;32m      6\u001B[0m \u001B[38;5;28mprint\u001B[39m(\u001B[38;5;124m\"\u001B[39m\u001B[38;5;124mAverage of mark1: \u001B[39m\u001B[38;5;124m\"\u001B[39m, avg(mark1))\n\u001B[1;32m      7\u001B[0m mark1 \u001B[38;5;241m=\u001B[39m [] \n\u001B[0;32m----> 8\u001B[0m \u001B[38;5;28mprint\u001B[39m(\u001B[38;5;124m\"\u001B[39m\u001B[38;5;124mAverage of mark1: \u001B[39m\u001B[38;5;124m\"\u001B[39m, \u001B[43mavg\u001B[49m\u001B[43m(\u001B[49m\u001B[43mmark1\u001B[49m\u001B[43m)\u001B[49m)\n",
      "Cell \u001B[0;32mIn[31], line 3\u001B[0m, in \u001B[0;36mavg\u001B[0;34m(marks)\u001B[0m\n\u001B[1;32m      2\u001B[0m \u001B[38;5;28;01mdef\u001B[39;00m \u001B[38;5;21mavg\u001B[39m(marks):\n\u001B[0;32m----> 3\u001B[0m     \u001B[38;5;28;01massert\u001B[39;00m \u001B[38;5;28mlen\u001B[39m(marks) \u001B[38;5;241m!=\u001B[39m \u001B[38;5;241m0\u001B[39m\n\u001B[1;32m      4\u001B[0m     \u001B[38;5;28;01mreturn\u001B[39;00m \u001B[38;5;28msum\u001B[39m(marks)\u001B[38;5;241m/\u001B[39m\u001B[38;5;28mlen\u001B[39m(marks)\n",
      "\u001B[0;31mAssertionError\u001B[0m: "
     ]
    }
   ],
   "source": [
    "#Assertion without error message\n",
    "def avg(marks):\n",
    "    assert len(marks) != 0\n",
    "    return sum(marks)/len(marks)\n",
    "mark1 = [11,22,33]\n",
    "print(\"Average of mark1: \", avg(mark1))\n",
    "mark1 = [] # empty list gives AssertionError\n",
    "print(\"Average of mark1: \", avg(mark1))"
   ],
   "metadata": {
    "collapsed": false,
    "ExecuteTime": {
     "end_time": "2023-07-06T00:03:14.861632Z",
     "start_time": "2023-07-06T00:03:14.499379Z"
    }
   }
  },
  {
   "cell_type": "code",
   "execution_count": 33,
   "outputs": [
    {
     "name": "stdout",
     "output_type": "stream",
     "text": [
      "Average of mark2:  78.0\n"
     ]
    },
    {
     "ename": "AssertionError",
     "evalue": "List is empty.",
     "output_type": "error",
     "traceback": [
      "\u001B[0;31m---------------------------------------------------------------------------\u001B[0m",
      "\u001B[0;31mAssertionError\u001B[0m                            Traceback (most recent call last)",
      "Cell \u001B[0;32mIn[33], line 9\u001B[0m\n\u001B[1;32m      6\u001B[0m \u001B[38;5;28mprint\u001B[39m(\u001B[38;5;124m\"\u001B[39m\u001B[38;5;124mAverage of mark2: \u001B[39m\u001B[38;5;124m\"\u001B[39m, avg (mark2))\n\u001B[1;32m      8\u001B[0m mark2 \u001B[38;5;241m=\u001B[39m [] \u001B[38;5;66;03m# empty list gives AssertionError\u001B[39;00m\n\u001B[0;32m----> 9\u001B[0m \u001B[38;5;28mprint\u001B[39m(\u001B[38;5;124m\"\u001B[39m\u001B[38;5;124mAverage of mark2: \u001B[39m\u001B[38;5;124m\"\u001B[39m, \u001B[43mavg\u001B[49m\u001B[43m(\u001B[49m\u001B[43mmark2\u001B[49m\u001B[43m)\u001B[49m)\n",
      "Cell \u001B[0;32mIn[33], line 3\u001B[0m, in \u001B[0;36mavg\u001B[0;34m(marks)\u001B[0m\n\u001B[1;32m      2\u001B[0m \u001B[38;5;28;01mdef\u001B[39;00m \u001B[38;5;21mavg\u001B[39m(marks):\n\u001B[0;32m----> 3\u001B[0m     \u001B[38;5;28;01massert\u001B[39;00m \u001B[38;5;28mlen\u001B[39m(marks) \u001B[38;5;241m!=\u001B[39m \u001B[38;5;241m0\u001B[39m, \u001B[38;5;124m\"\u001B[39m\u001B[38;5;124mList is empty.\u001B[39m\u001B[38;5;124m\"\u001B[39m\n\u001B[1;32m      4\u001B[0m     \u001B[38;5;28;01mreturn\u001B[39;00m \u001B[38;5;28msum\u001B[39m(marks)\u001B[38;5;241m/\u001B[39m\u001B[38;5;28mlen\u001B[39m (marks)\n",
      "\u001B[0;31mAssertionError\u001B[0m: List is empty."
     ]
    }
   ],
   "source": [
    "#Using assert with error message\n",
    "def avg(marks):\n",
    "    assert len(marks) != 0, \"List is empty.\"\n",
    "    return sum(marks)/len (marks)\n",
    "mark2= [55,88,78,90,79]\n",
    "print(\"Average of mark2: \", avg (mark2))\n",
    "\n",
    "mark2 = [] # empty list gives AssertionError\n",
    "print(\"Average of mark2: \", avg(mark2)) # AssertionError: List is empty."
   ],
   "metadata": {
    "collapsed": false,
    "ExecuteTime": {
     "end_time": "2023-07-06T00:05:08.976663Z",
     "start_time": "2023-07-06T00:05:08.847706Z"
    }
   }
  },
  {
   "cell_type": "markdown",
   "source": [
    "# Python Closure\n",
    "\n",
    "![77](./images/039.png)"
   ],
   "metadata": {
    "collapsed": false
   }
  },
  {
   "cell_type": "code",
   "execution_count": 34,
   "outputs": [
    {
     "name": "stdout",
     "output_type": "stream",
     "text": [
      "Hello\n"
     ]
    }
   ],
   "source": [
    "#Defining a closure function\n",
    "def print_message(message):\n",
    "    # This is the outer enclosing function\n",
    "    def print_message_inner():\n",
    "        # This is the nested\n",
    "        print(message) # messege has been captured from the enclosing scope\n",
    "    return print_message_inner # this got changed\n",
    "\n",
    "# Now Let's try calling this function.\n",
    "#Output: Hello\n",
    "another = print_message(\"Hello\")\n",
    "another()"
   ],
   "metadata": {
    "collapsed": false,
    "ExecuteTime": {
     "end_time": "2023-07-06T00:17:16.147826Z",
     "start_time": "2023-07-06T00:17:15.879633Z"
    }
   }
  },
  {
   "cell_type": "code",
   "execution_count": 35,
   "outputs": [
    {
     "name": "stdout",
     "output_type": "stream",
     "text": [
      "27\n",
      "15\n",
      "30\n"
     ]
    }
   ],
   "source": [
    "#Another demonstration of the closure function\n",
    "def multiplier_outer(n):\n",
    "\n",
    "    def multiplier_inner(x):\n",
    "        return x * n\n",
    "    return multiplier_inner\n",
    "\n",
    "# Multiplier of 3\n",
    "times3 = multiplier_outer(3)\n",
    "# Multiplier of 5\n",
    "times5 = multiplier_outer(5)\n",
    "# Output: 27\n",
    "print(times3(9))\n",
    "# Output: 15\n",
    "print(times5(3))\n",
    "# Output: 30\n",
    "print(times5(times3(2)))"
   ],
   "metadata": {
    "collapsed": false,
    "ExecuteTime": {
     "end_time": "2023-07-06T00:18:43.784392Z",
     "start_time": "2023-07-06T00:18:43.542702Z"
    }
   }
  },
  {
   "cell_type": "markdown",
   "source": [
    "# Python Property\n"
   ],
   "metadata": {
    "collapsed": false
   }
  },
  {
   "cell_type": "code",
   "execution_count": 8,
   "outputs": [
    {
     "name": "stdout",
     "output_type": "stream",
     "text": [
      "Assigning temperature value\n",
      "Getting temperature value\n",
      "5\n",
      "Setting temperature value\n",
      "Getting temperature value\n",
      "100\n",
      "{'_temperature': 100, 'temp': 4000}\n",
      "100\n"
     ]
    }
   ],
   "source": [
    "#Demonstrating the use of the property\n",
    "class Temp_Celsius:\n",
    "    def __init__(self, temperature = 0):\n",
    "        print(\"Assigning temperature value\")\n",
    "        self._temperature = temperature\n",
    "        self.temp = 4000\n",
    "\n",
    "    def convert_to_fahrenheit (self):\n",
    "        return (self._temperature * 1.8) + 32\n",
    "\n",
    "    def get_temperature(self):\n",
    "        print(\"Getting temperature value\")\n",
    "        return self._temperature\n",
    "\n",
    "    def set_temperature(self, value):\n",
    "        if value < -273:\n",
    "            raise ValueError(\"Temperature below -273 is not possible\")\n",
    "        print(\"Setting temperature value\")\n",
    "        self._temperature = value\n",
    "    # property() is a built-in function, creates and returns a property object\n",
    "    # property (fget=None, fset=None, fdel=None, doc=None)\n",
    "    # property object has three methods, getter(), setter(), and delete()\n",
    "    # temperature = property(get_temperature, set_temperature)\n",
    "    # make empty property\n",
    "    # OR\n",
    "    temperature = property()\n",
    "    temperature = temperature.getter(get_temperature) # assign fget\n",
    "    temperature = temperature.setter(set_temperature) # assign fset\n",
    "\n",
    "c = Temp_Celsius(5)\n",
    "print(c.temperature)\n",
    "c.temperature = 100\n",
    "print(c.temperature)\n",
    "print(c.__dict__)\n",
    "print(c.__dict__['_temperature'])\n"
   ],
   "metadata": {
    "collapsed": false,
    "ExecuteTime": {
     "end_time": "2023-07-06T13:53:25.968633Z",
     "start_time": "2023-07-06T13:53:25.880966Z"
    }
   }
  },
  {
   "cell_type": "code",
   "execution_count": 9,
   "outputs": [
    {
     "name": "stdout",
     "output_type": "stream",
     "text": [
      "Assigning temperature value\n",
      "Getting temperature value\n",
      "5\n",
      "Setting temperature value\n",
      "Getting temperature value\n",
      "100\n",
      "{'_temperature': 100, 'temp': 4000}\n",
      "100\n"
     ]
    }
   ],
   "source": [
    "# Demonstrating the use of the property as a decorator\n",
    "\n",
    "class Temp_Celsius:\n",
    "    def __init__(self, temperature = 0):\n",
    "        print(\"Assigning temperature value\")\n",
    "        self._temperature = temperature\n",
    "        self.temp = 4000\n",
    "\n",
    "    def convert_to_fahrenheit (self):\n",
    "        return (self._temperature * 1.8) + 32\n",
    "\n",
    "    @property\n",
    "    def temperature(self):\n",
    "        print(\"Getting temperature value\")\n",
    "        return self._temperature\n",
    "\n",
    "    @temperature.setter\n",
    "    def temperature(self, value):\n",
    "        if value < -273:\n",
    "            raise ValueError(\"Temperature below -273 is not possible\")\n",
    "        print(\"Setting temperature value\")\n",
    "        self._temperature = value\n",
    "\n",
    "c = Temp_Celsius(5)\n",
    "print(c.temperature) # Getting temperature value 5\n",
    "c.temperature = 100 # Setting temperature value\n",
    "print(c.temperature)\n",
    "print(c.__dict__)\n",
    "print(c.__dict__['_temperature'])"
   ],
   "metadata": {
    "collapsed": false,
    "ExecuteTime": {
     "end_time": "2023-07-06T13:58:48.225705Z",
     "start_time": "2023-07-06T13:58:47.965943Z"
    }
   }
  },
  {
   "cell_type": "markdown",
   "source": [
    "# private variables in Python single underscore and double underscore"
   ],
   "metadata": {
    "collapsed": false
   }
  },
  {
   "cell_type": "code",
   "execution_count": 7,
   "outputs": [],
   "source": [
    "class SingleUnderscore:\n",
    "    def __init__(self):\n",
    "        self._var = \"Single underscore\"\n",
    "\n",
    "    def print_var(self):\n",
    "        print(self._var)\n",
    "\n",
    "\n",
    "class DoubleUnderscore:\n",
    "    def __init__(self):\n",
    "        self.__var = \"Double underscore\"\n",
    "\n",
    "    def print_var(self):\n",
    "        print(self.__var)\n",
    "\n",
    "\n",
    "class InheritSingle(SingleUnderscore):\n",
    "    def change_var(self, new_value):\n",
    "        self._var = new_value\n",
    "\n",
    "class InheritDouble(DoubleUnderscore):\n",
    "    def change_var(self, new_value):\n",
    "        self._DoubleUnderscore__var = new_value # name mangling # convention _classname__var\n",
    "\n",
    "# if i used __var in setter it will not change the value of __var in the class when i use the instence of the class\n",
    "# i need to create a set function in the class to change the value of __var\n",
    "# class InheritDouble(DoubleUnderscore):\n",
    "#     def change_var(self, new_value):\n",
    "#         self.__var = new_value"
   ],
   "metadata": {
    "collapsed": false,
    "ExecuteTime": {
     "end_time": "2023-07-06T16:19:01.517324Z",
     "start_time": "2023-07-06T16:19:01.446537Z"
    }
   }
  },
  {
   "cell_type": "code",
   "execution_count": 8,
   "outputs": [
    {
     "name": "stdout",
     "output_type": "stream",
     "text": [
      "Single underscore\n",
      "Double underscore\n",
      "Changed single underscore\n",
      "Changed double underscore\n"
     ]
    }
   ],
   "source": [
    "single = InheritSingle()\n",
    "double = InheritDouble()\n",
    "\n",
    "# Access the variables\n",
    "single.print_var()  # prints: Single underscore\n",
    "double.print_var()  # prints: Double underscore\n",
    "\n",
    "# Change the values\n",
    "single.change_var(\"Changed single underscore\")\n",
    "double.change_var(\"Changed double underscore\")\n",
    "\n",
    "single.print_var()  # prints: Changed single underscore\n",
    "double.print_var()  # prints: Changed double underscore"
   ],
   "metadata": {
    "collapsed": false,
    "ExecuteTime": {
     "end_time": "2023-07-06T16:19:02.219836Z",
     "start_time": "2023-07-06T16:19:02.149016Z"
    }
   }
  },
  {
   "cell_type": "code",
   "execution_count": 34,
   "outputs": [],
   "source": [
    "# using set function in the main class to use it when inheriting insted of using convention _classname__var while inheriting\n",
    "\n",
    "class DoubleUnderscore:\n",
    "    def __init__(self):\n",
    "        self.__var = \"Double underscore\"\n",
    "\n",
    "    def print_var(self):\n",
    "        print(self.__var)\n",
    "\n",
    "    def set_var(self, new_value):\n",
    "        if isinstance(new_value, str):\n",
    "            self.__var = new_value\n",
    "        else:\n",
    "            raise ValueError(\"Invalid value, must be a string\")\n",
    "\n",
    "class InheritDouble(DoubleUnderscore):\n",
    "    def change_var(self, new_value):\n",
    "        self.set_var(new_value) # use set function to change the value of __var in the class insted of useing convention _classname__var"
   ],
   "metadata": {
    "collapsed": false,
    "ExecuteTime": {
     "end_time": "2023-07-06T16:34:21.941719Z",
     "start_time": "2023-07-06T16:34:21.858165Z"
    }
   }
  },
  {
   "cell_type": "code",
   "execution_count": 35,
   "outputs": [
    {
     "name": "stdout",
     "output_type": "stream",
     "text": [
      "Double underscore\n",
      "New value\n",
      "New value 2\n",
      "New value 2\n",
      "New value 4\n"
     ]
    }
   ],
   "source": [
    "inh = InheritDouble()\n",
    "inh.print_var()\n",
    "inh.set_var(\"New value\")\n",
    "inh.print_var()\n",
    "inh.change_var(\"New value 2\")\n",
    "inh.print_var()\n",
    "inh.print_var()\n",
    "parend_class_obj = DoubleUnderscore()\n",
    "parend_class_obj._DoubleUnderscore__var = \"New value 4\" # we can access the __var using the convention _classname__var from the parent class only\n",
    "parend_class_obj.print_var()"
   ],
   "metadata": {
    "collapsed": false,
    "ExecuteTime": {
     "end_time": "2023-07-06T16:34:22.964472Z",
     "start_time": "2023-07-06T16:34:22.740427Z"
    }
   }
  }
 ],
 "metadata": {
  "kernelspec": {
   "display_name": "Python 3 (ipykernel)",
   "language": "python",
   "name": "python3"
  },
  "language_info": {
   "codemirror_mode": {
    "name": "ipython",
    "version": 3
   },
   "file_extension": ".py",
   "mimetype": "text/x-python",
   "name": "python",
   "nbconvert_exporter": "python",
   "pygments_lexer": "ipython3",
   "version": "3.10.11"
  }
 },
 "nbformat": 4,
 "nbformat_minor": 4
}
